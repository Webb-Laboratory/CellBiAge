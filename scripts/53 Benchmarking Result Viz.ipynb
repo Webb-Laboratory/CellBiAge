{
 "cells": [
  {
   "cell_type": "markdown",
   "metadata": {},
   "source": [
    "# Benchmarking result visualization"
   ]
  },
  {
   "cell_type": "markdown",
   "metadata": {},
   "source": [
    "## Outline\n",
    "\n",
    "The **MLAging - benchmarking** workflow consists of sections:\n",
    "\n",
    "`510 Benchmark BiT Rep` Recapitulating the results from [BiT: Meyer and Schumacher; PMID: 33656257](https://github.com/Meyer-DH/AgingClock/).\n",
    "\n",
    "`511 Bechmarking BiT Median` ELN model using *binarized* HVGs. The binarization threshold is median value, which was implemented in the BiT.\n",
    "\n",
    "`521 Bechmarking Bootstrap_clock Bootstrap.R` Boostrap major cell types in the hypothalamus dataset using the codes from [Bootstrap_clock: Buckley et al; PMID: 37118510](https://github.com/sunericd/svz_singlecell_aging_clocks/tree/main/00_core/01_clocks/00_bootstrap). Built the clock using `00~02.R` files in the GitHub repository.\n",
    "\n",
    "`522 Bechmarking Bootstrap_clock Prediction.R` Prediction of the three cell types that overlap with the Bootstrap_clock: Oligodendrocyte, Astrocyte, and Microglia.\n",
    "\n",
    "`53 Benchmarking Result Viz` Result comparison and visualization -- **this notebook**:"
   ]
  },
  {
   "cell_type": "code",
   "execution_count": 1,
   "metadata": {},
   "outputs": [],
   "source": [
    "import pandas as pd\n",
    "import numpy as np\n",
    "import matplotlib.pyplot as plt\n",
    "import seaborn as sns\n",
    "import pickle\n",
    "import os \n",
    "\n",
    "from statistics import mean, stdev\n",
    "from sklearn.utils import shuffle\n",
    "from sklearn.metrics import precision_recall_curve, auc, make_scorer\n",
    "from src.data_processing import *\n",
    "from src.grid_search import *\n",
    "\n",
    "from matplotlib import rcParams\n",
    "rcParams['pdf.fonttype'] = 42\n",
    "\n",
    "import warnings\n",
    "warnings.filterwarnings('ignore')"
   ]
  },
  {
   "cell_type": "markdown",
   "metadata": {},
   "source": [
    "## 1. BiT <a name=\"1.-bit\"></a>"
   ]
  },
  {
   "cell_type": "code",
   "execution_count": 2,
   "metadata": {},
   "outputs": [
    {
     "data": {
      "text/plain": [
       "['hvg_lognorm_std',\n",
       " 'hvg_lognorm_std_int',\n",
       " 'heg_lognorm_std_int',\n",
       " 'heg_lognorm_std',\n",
       " 'hvg_lognorm_std_int_median_bin',\n",
       " 'hvg_lognorm_std_int_median_reuse_bin',\n",
       " 'hvg_lognorm_std_int_bin',\n",
       " 'heg_lognorm',\n",
       " 'hvg_lognorm',\n",
       " 'heg_lognorm_std_int_bin']"
      ]
     },
     "execution_count": 2,
     "metadata": {},
     "output_type": "execute_result"
    }
   ],
   "source": [
    "files = os.listdir('../results/preprocess_best/')\n",
    "scores_l = []\n",
    "for file in files:\n",
    "    if file.endswith('_eln_model_test_scores.save'):\n",
    "        scores_l.append(file.split('_eln_model_test_scores.save')[0])\n",
    "scores_l"
   ]
  },
  {
   "cell_type": "code",
   "execution_count": 3,
   "metadata": {},
   "outputs": [],
   "source": [
    "for i in [\"hvg_lognorm_std_int_bin\", \"hvg_lognorm_std_int_median_bin\"]:\n",
    "    file = open('../results/preprocess_best/' + i + '_eln_model_test_scores.save', 'rb')\n",
    "    locals()[i]  = pickle.load(file)\n",
    "    file.close()"
   ]
  },
  {
   "cell_type": "code",
   "execution_count": 4,
   "metadata": {},
   "outputs": [],
   "source": [
    "df_bar = pd.DataFrame(columns=['Bin_threshold', 'AUPRC'])\n",
    "for i in [\"hvg_lognorm_std_int_median_bin\", \"hvg_lognorm_std_int_bin\"]:\n",
    "    df_new = pd.DataFrame(columns=['Bin_threshold', 'AUPRC'], index=range(0, 10))\n",
    "    if i == \"hvg_lognorm_std_int_median_bin\":\n",
    "        df_new['Bin_threshold'] = \"Median\"\n",
    "    else:\n",
    "        df_new['Bin_threshold'] = \"Mean\"\n",
    "    df_new['AUPRC'] = locals()[i]\n",
    "    df_bar = df_bar.append(df_new)"
   ]
  },
  {
   "cell_type": "code",
   "execution_count": 5,
   "metadata": {},
   "outputs": [
    {
     "data": {
      "text/html": [
       "<div>\n",
       "<style scoped>\n",
       "    .dataframe tbody tr th:only-of-type {\n",
       "        vertical-align: middle;\n",
       "    }\n",
       "\n",
       "    .dataframe tbody tr th {\n",
       "        vertical-align: top;\n",
       "    }\n",
       "\n",
       "    .dataframe thead th {\n",
       "        text-align: right;\n",
       "    }\n",
       "</style>\n",
       "<table border=\"1\" class=\"dataframe\">\n",
       "  <thead>\n",
       "    <tr style=\"text-align: right;\">\n",
       "      <th></th>\n",
       "      <th>Bin_threshold</th>\n",
       "      <th>AUPRC</th>\n",
       "    </tr>\n",
       "  </thead>\n",
       "  <tbody>\n",
       "    <tr>\n",
       "      <th>0</th>\n",
       "      <td>Median</td>\n",
       "      <td>0.852113</td>\n",
       "    </tr>\n",
       "    <tr>\n",
       "      <th>1</th>\n",
       "      <td>Median</td>\n",
       "      <td>0.852115</td>\n",
       "    </tr>\n",
       "    <tr>\n",
       "      <th>2</th>\n",
       "      <td>Median</td>\n",
       "      <td>0.852118</td>\n",
       "    </tr>\n",
       "    <tr>\n",
       "      <th>3</th>\n",
       "      <td>Median</td>\n",
       "      <td>0.852114</td>\n",
       "    </tr>\n",
       "    <tr>\n",
       "      <th>4</th>\n",
       "      <td>Median</td>\n",
       "      <td>0.852115</td>\n",
       "    </tr>\n",
       "    <tr>\n",
       "      <th>5</th>\n",
       "      <td>Median</td>\n",
       "      <td>0.852116</td>\n",
       "    </tr>\n",
       "    <tr>\n",
       "      <th>6</th>\n",
       "      <td>Median</td>\n",
       "      <td>0.852117</td>\n",
       "    </tr>\n",
       "    <tr>\n",
       "      <th>7</th>\n",
       "      <td>Median</td>\n",
       "      <td>0.852114</td>\n",
       "    </tr>\n",
       "    <tr>\n",
       "      <th>8</th>\n",
       "      <td>Median</td>\n",
       "      <td>0.852116</td>\n",
       "    </tr>\n",
       "    <tr>\n",
       "      <th>9</th>\n",
       "      <td>Median</td>\n",
       "      <td>0.852116</td>\n",
       "    </tr>\n",
       "    <tr>\n",
       "      <th>0</th>\n",
       "      <td>Mean</td>\n",
       "      <td>0.967427</td>\n",
       "    </tr>\n",
       "    <tr>\n",
       "      <th>1</th>\n",
       "      <td>Mean</td>\n",
       "      <td>0.967427</td>\n",
       "    </tr>\n",
       "    <tr>\n",
       "      <th>2</th>\n",
       "      <td>Mean</td>\n",
       "      <td>0.967429</td>\n",
       "    </tr>\n",
       "    <tr>\n",
       "      <th>3</th>\n",
       "      <td>Mean</td>\n",
       "      <td>0.967429</td>\n",
       "    </tr>\n",
       "    <tr>\n",
       "      <th>4</th>\n",
       "      <td>Mean</td>\n",
       "      <td>0.967432</td>\n",
       "    </tr>\n",
       "    <tr>\n",
       "      <th>5</th>\n",
       "      <td>Mean</td>\n",
       "      <td>0.967427</td>\n",
       "    </tr>\n",
       "    <tr>\n",
       "      <th>6</th>\n",
       "      <td>Mean</td>\n",
       "      <td>0.967429</td>\n",
       "    </tr>\n",
       "    <tr>\n",
       "      <th>7</th>\n",
       "      <td>Mean</td>\n",
       "      <td>0.967428</td>\n",
       "    </tr>\n",
       "    <tr>\n",
       "      <th>8</th>\n",
       "      <td>Mean</td>\n",
       "      <td>0.967428</td>\n",
       "    </tr>\n",
       "    <tr>\n",
       "      <th>9</th>\n",
       "      <td>Mean</td>\n",
       "      <td>0.967428</td>\n",
       "    </tr>\n",
       "  </tbody>\n",
       "</table>\n",
       "</div>"
      ],
      "text/plain": [
       "  Bin_threshold     AUPRC\n",
       "0        Median  0.852113\n",
       "1        Median  0.852115\n",
       "2        Median  0.852118\n",
       "3        Median  0.852114\n",
       "4        Median  0.852115\n",
       "5        Median  0.852116\n",
       "6        Median  0.852117\n",
       "7        Median  0.852114\n",
       "8        Median  0.852116\n",
       "9        Median  0.852116\n",
       "0          Mean  0.967427\n",
       "1          Mean  0.967427\n",
       "2          Mean  0.967429\n",
       "3          Mean  0.967429\n",
       "4          Mean  0.967432\n",
       "5          Mean  0.967427\n",
       "6          Mean  0.967429\n",
       "7          Mean  0.967428\n",
       "8          Mean  0.967428\n",
       "9          Mean  0.967428"
      ]
     },
     "execution_count": 5,
     "metadata": {},
     "output_type": "execute_result"
    }
   ],
   "source": [
    "df_bar"
   ]
  },
  {
   "cell_type": "code",
   "execution_count": 6,
   "metadata": {},
   "outputs": [
    {
     "data": {
      "image/png": "[encoded data removed]",
      "text/plain": [
       "<Figure size 216x432 with 1 Axes>"
      ]
     },
     "metadata": {
      "needs_background": "light"
     },
     "output_type": "display_data"
    }
   ],
   "source": [
    "plt.figure(figsize=(3,6))\n",
    "sns.set(font_scale=1.7, style='ticks')\n",
    "\n",
    "ax = sns.barplot(data=df_bar, x='Bin_threshold', y='AUPRC',  capsize=.1,\n",
    "                palette=[sns.color_palette(\"Set2\")[1], sns.color_palette(\"Set2\")[2]])\n",
    "\n",
    "for p in ax.patches:\n",
    "    ax.text(p.get_x() + p.get_width()/2., p.get_height()+0.005, '{0:.3f}'.format(p.get_height()), \n",
    "        fontsize=13, color='black', ha='center', va='bottom')\n",
    "    ax.set_xticklabels(\n",
    "        ax.get_xticklabels(),\n",
    "        rotation=45,\n",
    "        horizontalalignment='right')\n",
    "\n",
    "plt.title('Performance for different \\n binarization thresholds (ELN)', fontsize=15)\n",
    "plt.xlabel(\"Preprocessing Methods\", fontsize=15)\n",
    "plt.ylabel(\"AUPRC Score\", fontsize=15)\n",
    "\n",
    "plt.ylim(0.5, 1.03)\n",
    "plt.tight_layout()\n",
    "plt.savefig('../figures/S9A_bar_AUPRC.pdf')\n",
    "plt.show()"
   ]
  },
  {
   "cell_type": "markdown",
   "metadata": {},
   "source": [
    "## 2. bootstrap_clock <a name=\"2.-svz\"></a>"
   ]
  },
  {
   "cell_type": "code",
   "execution_count": 7,
   "metadata": {},
   "outputs": [],
   "source": [
    "cell_types = ['Oligodendrocyte', 'Astrocyte','Microglia']\n",
    "for i in cell_types:\n",
    "    file = open('../results/cell_type_best/' + i + '_eln_model_test_scores.save', 'rb')\n",
    "    locals()[i]  = pickle.load(file)\n",
    "    file.close()"
   ]
  },
  {
   "cell_type": "code",
   "execution_count": 8,
   "metadata": {},
   "outputs": [],
   "source": [
    "for i in cell_types:\n",
    "    file = open('../results/cell_type_best/' + i + '_eln_model_test_models.save', 'rb')\n",
    "    all_10_files = pickle.load(file)\n",
    "    model  = all_10_files[0]\n",
    "    file.close()"
   ]
  },
  {
   "cell_type": "code",
   "execution_count": 9,
   "metadata": {},
   "outputs": [
    {
     "data": {
      "text/html": [
       "<div>\n",
       "<style scoped>\n",
       "    .dataframe tbody tr th:only-of-type {\n",
       "        vertical-align: middle;\n",
       "    }\n",
       "\n",
       "    .dataframe tbody tr th {\n",
       "        vertical-align: top;\n",
       "    }\n",
       "\n",
       "    .dataframe thead th {\n",
       "        text-align: right;\n",
       "    }\n",
       "</style>\n",
       "<table border=\"1\" class=\"dataframe\">\n",
       "  <thead>\n",
       "    <tr style=\"text-align: right;\">\n",
       "      <th></th>\n",
       "      <th>Cell-type</th>\n",
       "      <th>Method</th>\n",
       "      <th>AUPRC</th>\n",
       "    </tr>\n",
       "  </thead>\n",
       "  <tbody>\n",
       "    <tr>\n",
       "      <th>0</th>\n",
       "      <td>Oligodendrocyte</td>\n",
       "      <td>bootstrap_clock</td>\n",
       "      <td>0.925754</td>\n",
       "    </tr>\n",
       "    <tr>\n",
       "      <th>1</th>\n",
       "      <td>Astrocyte</td>\n",
       "      <td>bootstrap_clock</td>\n",
       "      <td>0.933159</td>\n",
       "    </tr>\n",
       "    <tr>\n",
       "      <th>2</th>\n",
       "      <td>Microglia</td>\n",
       "      <td>bootstrap_clock</td>\n",
       "      <td>0.968495</td>\n",
       "    </tr>\n",
       "  </tbody>\n",
       "</table>\n",
       "</div>"
      ],
      "text/plain": [
       "         Cell-type           Method     AUPRC\n",
       "0  Oligodendrocyte  bootstrap_clock  0.925754\n",
       "1        Astrocyte  bootstrap_clock  0.933159\n",
       "2        Microglia  bootstrap_clock  0.968495"
      ]
     },
     "execution_count": 9,
     "metadata": {},
     "output_type": "execute_result"
    }
   ],
   "source": [
    "df_bar = pd.DataFrame(columns=['Cell-type', 'Method', 'AUPRC'])\n",
    "# results from svz_clock___.R files\n",
    "df_bar = df_bar.append({\"Cell-type\": \"Oligodendrocyte\", \"Method\": \"bootstrap_clock\", \"AUPRC\": 0.9257541}, ignore_index=True)\n",
    "df_bar = df_bar.append({\"Cell-type\": \"Astrocyte\", \"Method\": \"bootstrap_clock\", \"AUPRC\": 0.933159}, ignore_index=True)\n",
    "df_bar = df_bar.append({\"Cell-type\": \"Microglia\", \"Method\": \"bootstrap_clock\", \"AUPRC\": 0.9684949}, ignore_index=True)\n",
    "\n",
    "df_bar"
   ]
  },
  {
   "cell_type": "code",
   "execution_count": 10,
   "metadata": {},
   "outputs": [],
   "source": [
    "for i in cell_types:\n",
    "    df_new = pd.DataFrame(columns=['Cell-type', 'Method', 'AUPRC'], index=[0])\n",
    "    df_new['Cell-type'] = i\n",
    "    df_new['Method'] = 'CellBiAge'\n",
    "    df_new['AUPRC'] = locals()[i][0]\n",
    "    df_bar = df_bar.append(df_new)"
   ]
  },
  {
   "cell_type": "code",
   "execution_count": 11,
   "metadata": {},
   "outputs": [
    {
     "data": {
      "text/html": [
       "<svg  width=\"550\" height=\"55\"><rect x=\"0\" y=\"0\" width=\"55\" height=\"55\" style=\"fill:#4c72b0;stroke-width:2;stroke:rgb(255,255,255)\"/><rect x=\"55\" y=\"0\" width=\"55\" height=\"55\" style=\"fill:#dd8452;stroke-width:2;stroke:rgb(255,255,255)\"/><rect x=\"110\" y=\"0\" width=\"55\" height=\"55\" style=\"fill:#55a868;stroke-width:2;stroke:rgb(255,255,255)\"/><rect x=\"165\" y=\"0\" width=\"55\" height=\"55\" style=\"fill:#c44e52;stroke-width:2;stroke:rgb(255,255,255)\"/><rect x=\"220\" y=\"0\" width=\"55\" height=\"55\" style=\"fill:#8172b3;stroke-width:2;stroke:rgb(255,255,255)\"/><rect x=\"275\" y=\"0\" width=\"55\" height=\"55\" style=\"fill:#937860;stroke-width:2;stroke:rgb(255,255,255)\"/><rect x=\"330\" y=\"0\" width=\"55\" height=\"55\" style=\"fill:#da8bc3;stroke-width:2;stroke:rgb(255,255,255)\"/><rect x=\"385\" y=\"0\" width=\"55\" height=\"55\" style=\"fill:#8c8c8c;stroke-width:2;stroke:rgb(255,255,255)\"/><rect x=\"440\" y=\"0\" width=\"55\" height=\"55\" style=\"fill:#ccb974;stroke-width:2;stroke:rgb(255,255,255)\"/><rect x=\"495\" y=\"0\" width=\"55\" height=\"55\" style=\"fill:#64b5cd;stroke-width:2;stroke:rgb(255,255,255)\"/></svg>"
      ],
      "text/plain": [
       "[(0.2980392156862745, 0.4470588235294118, 0.6901960784313725),\n",
       " (0.8666666666666667, 0.5176470588235295, 0.3215686274509804),\n",
       " (0.3333333333333333, 0.6588235294117647, 0.40784313725490196),\n",
       " (0.7686274509803922, 0.3058823529411765, 0.3215686274509804),\n",
       " (0.5058823529411764, 0.4470588235294118, 0.7019607843137254),\n",
       " (0.5764705882352941, 0.47058823529411764, 0.3764705882352941),\n",
       " (0.8549019607843137, 0.5450980392156862, 0.7647058823529411),\n",
       " (0.5490196078431373, 0.5490196078431373, 0.5490196078431373),\n",
       " (0.8, 0.7254901960784313, 0.4549019607843137),\n",
       " (0.39215686274509803, 0.7098039215686275, 0.803921568627451)]"
      ]
     },
     "execution_count": 11,
     "metadata": {},
     "output_type": "execute_result"
    }
   ],
   "source": [
    "sns.color_palette()"
   ]
  },
  {
   "cell_type": "code",
   "execution_count": 12,
   "metadata": {},
   "outputs": [
    {
     "data": {
      "image/png": "[encoded data removed]",
      "text/plain": [
       "<Figure size 576x432 with 1 Axes>"
      ]
     },
     "metadata": {},
     "output_type": "display_data"
    }
   ],
   "source": [
    "sns.color_palette()\n",
    "\n",
    "plt.figure(figsize=(8,6))\n",
    "sns.set(font_scale=1.7, style='ticks')\n",
    "\n",
    "ax = sns.barplot(data=df_bar, x='Cell-type', y='AUPRC', hue='Method',\n",
    "                 palette=[sns.color_palette()[6], sns.color_palette()[0]])\n",
    "\n",
    "for p in ax.patches:\n",
    "    ax.text(p.get_x() + p.get_width()/2., p.get_height(), '{0:.3f}'.format(p.get_height()), \n",
    "        fontsize=13, color='black', ha='center', va='bottom')\n",
    "\n",
    "plt.title('Performance (AUPRC) for the most abundant cell types', fontsize=20)\n",
    "plt.xlabel(\"\", fontsize=20)\n",
    "plt.xticks(rotation=45, ha='right')\n",
    "plt.ylabel(\"AUPRC Score\", fontsize=20)\n",
    "plt.ylim(0.5, 1.03)\n",
    "plt.legend(title='', bbox_to_anchor=(1, 1), fontsize=15)\n",
    "plt.tight_layout()\n",
    "plt.savefig('../figures/S9B_celltypes_bar_AUPRC_2.pdf')\n",
    "plt.show()"
   ]
  }
 ],
 "metadata": {
  "kernelspec": {
   "display_name": "cellpymc",
   "language": "python",
   "name": "cellpymc"
  },
  "language_info": {
   "codemirror_mode": {
    "name": "ipython",
    "version": 3
   },
   "file_extension": ".py",
   "mimetype": "text/x-python",
   "name": "python",
   "nbconvert_exporter": "python",
   "pygments_lexer": "ipython3",
   "version": "3.7.10"
  }
 },
 "nbformat": 4,
 "nbformat_minor": 4
}
