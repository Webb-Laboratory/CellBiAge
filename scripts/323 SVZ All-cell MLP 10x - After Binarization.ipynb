{
 "cells": [
  {
   "cell_type": "markdown",
   "id": "0f0c0d0e",
   "metadata": {},
   "source": [
    "# Best MLP model over ten random seends after binarization"
   ]
  },
  {
   "cell_type": "markdown",
   "id": "388bb7eb",
   "metadata": {},
   "source": [
    "## Outline\n",
    "\n",
    "The **MLAging - SVZ all-cell** workflow consists of sections:\n",
    "\n",
    "`30 SVZpreprocessing.R` Data preprocessing and preparation in Seurat.\n",
    "\n",
    "`311 SVZ All-cell ELN Tuning - Before Binarization` ML model tunning using *non-binarized* HVGs and hyperparameter selection using `GridSearchCV`.\n",
    "\n",
    "`312 SVZ All-cell ELN Tuning - After Binarization` ML model tunning using *binarized* HVGs and hyperparameter selection using `GridSearchCV`.\n",
    "\n",
    "`321 SVZ All-cell ELN 10x` Run the best ELN model for both binarized and nonbinarized HVGs over 10 random seeds.\n",
    "\n",
    "`322 SVZ All-cell MLP 10x - Before Binarization` Run the best MLP model for *non-binarized* HVGs over 10 random seeds.\n",
    "\n",
    "`323 SVZ All-cell MLP 10x - After Binarization` Run the best MLP model for *binarized* HVGs over 10 random seeds  -- **this notebook:** \n",
    " \n",
    "`33 SVZ All-cell Model Result Viz` Result visulization.\n",
    "\n",
    "`34 SVZ All-cell Stat` Stat test on whether exercise rejuvenates cells."
   ]
  },
  {
   "cell_type": "code",
   "execution_count": null,
   "id": "fa129008",
   "metadata": {},
   "outputs": [],
   "source": [
    "from src.keras_tuner_cv import *\n",
    "from src.data_processing import *\n",
    "\n",
    "import keras_tuner as kt\n",
    "import pandas as pd\n",
    "import numpy as np\n",
    "import os\n",
    "import click\n",
    "import datetime\n",
    "import matplotlib\n",
    "from matplotlib import pyplot as plt\n",
    "import seaborn as sns\n",
    "matplotlib.rcParams['pdf.fonttype'] = 42"
   ]
  },
  {
   "cell_type": "code",
   "execution_count": null,
   "id": "31e4b071",
   "metadata": {},
   "outputs": [],
   "source": [
    "from src.mlp import *"
   ]
  },
  {
   "cell_type": "code",
   "execution_count": null,
   "id": "41355911",
   "metadata": {},
   "outputs": [],
   "source": [
    "tf.config.experimental.list_physical_devices('GPU')"
   ]
  },
  {
   "cell_type": "code",
   "execution_count": null,
   "id": "8f6abd97",
   "metadata": {},
   "outputs": [],
   "source": [
    "os.environ[\"CUDA_VISIBLE_DEVICES\"]=\"0\""
   ]
  },
  {
   "cell_type": "code",
   "execution_count": null,
   "id": "49ea21c3",
   "metadata": {},
   "outputs": [],
   "source": [
    "input_train = '../data/svz_processed/svz_ctl_train_cell_sep3integ_batch1.csv'\n",
    "input_test = '../data/svz_processed/svz_ctl_test_cell_sep3integ_batch2.csv'"
   ]
  },
  {
   "cell_type": "code",
   "execution_count": null,
   "id": "9c08da37",
   "metadata": {
    "scrolled": true
   },
   "outputs": [],
   "source": [
    "train_X, train_y, test_X, test_y, custom_cv = data_prep(input_test, input_train, \"All\", binarization=True)"
   ]
  },
  {
   "cell_type": "code",
   "execution_count": null,
   "id": "6aa23ac4",
   "metadata": {},
   "outputs": [],
   "source": [
    "parameters = Train_Params(\n",
    "        learning_rate=5.156976971819789e-06,\n",
    "        loss=tf.keras.losses.BinaryCrossentropy(),\n",
    "        metrics=[tf.keras.metrics.BinaryAccuracy(), tf.keras.metrics.AUC(), tf.keras.metrics.AUC(num_thresholds=10000, name='AUPRC', curve='PR')],\n",
    "        epochs=100,\n",
    "        batch_size=32)"
   ]
  },
  {
   "cell_type": "code",
   "execution_count": null,
   "id": "cb8659b5",
   "metadata": {},
   "outputs": [],
   "source": [
    "early_stopping_cb = tf.keras.callbacks.EarlyStopping(monitor='AUPRC', patience=20)"
   ]
  },
  {
   "cell_type": "code",
   "execution_count": null,
   "id": "66facb1c",
   "metadata": {},
   "outputs": [],
   "source": [
    "directory='../results/svz_int2/mlp_model_test_scores'"
   ]
  },
  {
   "cell_type": "markdown",
   "id": "3a80b3bf",
   "metadata": {},
   "source": [
    "history = model.fit(\n",
    "                train_X1, train_y1,\n",
    "                epochs=parameters.epochs,\n",
    "                verbose=2,\n",
    "                callbacks=[early_stopping_cb]\n",
    "            )"
   ]
  },
  {
   "cell_type": "code",
   "execution_count": null,
   "id": "6db44706",
   "metadata": {},
   "outputs": [],
   "source": [
    "max_runs = 10\n",
    "feature_nums = [608]\n",
    "\n",
    "mlp_multiple_trials(max_runs, train_X, train_y, test_X, test_y, parameters, feature_nums, directory)   "
   ]
  },
  {
   "cell_type": "code",
   "execution_count": null,
   "id": "95a58ae3",
   "metadata": {
    "scrolled": false
   },
   "outputs": [],
   "source": [
    "max_runs = 10\n",
    "feature_nums = [608]\n",
    "loss_test = []\n",
    "AUPRC_test = []\n",
    "models = []\n",
    "\n",
    "early_stopping_cb = tf.keras.callbacks.EarlyStopping(monitor='AUPRC', patience=20)\n",
    "\n",
    "for i in [0]:\n",
    "    print('randam state', i)\n",
    "    random.seed(42*i)\n",
    "    train_X1, train_y1 = shuffle(train_X, train_y, random_state=42*i)\n",
    "\n",
    "    model = Baseline_MLP(feature_nums)\n",
    "    # change the number of neurons accordingly\n",
    "    model.compile(optimizer=tf.keras.optimizers.Adam(learning_rate=parameters.learning_rate),\n",
    "                  loss=parameters.loss,\n",
    "                  metrics=parameters.metrics)\n",
    "        \n",
    "    history = model.fit(\n",
    "                train_X1, train_y1,\n",
    "                epochs=parameters.epochs,\n",
    "                verbose=2,\n",
    "                callbacks=[early_stopping_cb]\n",
    "            )\n",
    "        \n",
    "    models.append(model)\n",
    "\n",
    "    test_X, test_y = shuffle(test_X, test_y, random_state=42*i)\n",
    "    test_result = model.evaluate(test_X, test_y, verbose=0)\n",
    "        \n",
    "    loss_test.append(test_result[0]) \n",
    "    AUPRC_test.append(test_result[3]) \n",
    "        \n",
    "    print('test result:', test_result)"
   ]
  },
  {
   "cell_type": "code",
   "execution_count": null,
   "id": "1856cd86",
   "metadata": {
    "scrolled": true
   },
   "outputs": [],
   "source": [
    "model.evaluate(test_X, test_y, verbose=0)"
   ]
  },
  {
   "cell_type": "code",
   "execution_count": null,
   "id": "ba5c771f",
   "metadata": {},
   "outputs": [],
   "source": [
    "# for mlp\n",
    "from sklearn.metrics import precision_recall_curve, auc, make_scorer\n",
    "\n",
    "def calculate_NNPR(NN_model, test_X, test_y):\n",
    "    y_test_prob = NN_model.predict(test_X)\n",
    "    precision, recall, thresholds = precision_recall_curve(test_y, y_test_prob)\n",
    "    return recall, precision, auc(recall, precision)\n",
    "\n",
    "file = open('../results/svz_int2/mlp_pr.save', 'wb')\n",
    "pickle.dump(calculate_NNPR(model, test_X, test_y), file)\n",
    "file.close()"
   ]
  }
 ],
 "metadata": {
  "kernelspec": {
   "display_name": "mlp",
   "language": "python",
   "name": "mlp"
  },
  "language_info": {
   "codemirror_mode": {
    "name": "ipython",
    "version": 3
   },
   "file_extension": ".py",
   "mimetype": "text/x-python",
   "name": "python",
   "nbconvert_exporter": "python",
   "pygments_lexer": "ipython3",
   "version": "3.9.0"
  }
 },
 "nbformat": 4,
 "nbformat_minor": 5
}
