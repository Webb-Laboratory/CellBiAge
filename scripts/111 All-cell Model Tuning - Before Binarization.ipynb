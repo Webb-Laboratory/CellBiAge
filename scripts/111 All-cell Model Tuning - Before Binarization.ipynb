{
 "cells": [
  {
   "cell_type": "markdown",
   "metadata": {},
   "source": [
    "# All-cell Model Tuning -- before count binarization"
   ]
  },
  {
   "cell_type": "markdown",
   "metadata": {},
   "source": [
    "## Outline\n",
    "\n",
    "The **MLAging - all-cell** workflow consists of sections:\n",
    "\n",
    "`00 preprocessing.R` Data preprocessing and preparation in Seurat.\n",
    "\n",
    "`111 All-cell Model Tuning - Before Binarization` ML model tunning using *non-binarized* HVGs and hyperparameter selection using `GridSearchCV` -- **this notebook:** \n",
    "1. [Data Preparation](#1.-prep)\n",
    "2. [Model Tunning](#2.-tunning)\n",
    "    - [Lasso](#3.-l1)\n",
    "    - [Ridge](#4.-l2)\n",
    "    - [ElasticNet](#5.-eln)\n",
    "    \n",
    "    - [Random Forest](#6.-rfc)\n",
    "    - [XGBoost](#7.-xgbc)\n",
    "    \n",
    "    - [Support Vector Machine with rbf kernel](#8.-svc)\n",
    "\n",
    "`112 All-cell Model Tuning - After Binarization` ML model tunning using *binarized* HVGs.\n",
    "\n",
    "`121 All-cell Model 10x - Before Binarization` Run the best models for non-binarized* HVGs over 10 random seeds.\n",
    "\n",
    "`122 All-cell Model 10x - After Binarization` Run the best models for *binarized* HVGs over 10 random seeds.\n",
    " \n",
    "`123 All-cell Model 10x Swapped Train-Test` Run the best models for *binarized* HVGs over 10 random seeds. But switched the training and test sets to make sure that the sequencing throughput did not affect model performance.\n",
    "\n",
    "`13 All-cell Model Result Viz` Result visulization.\n",
    "\n",
    "`14 All-cell ELN Interpretation` Result interpretation. "
   ]
  },
  {
   "cell_type": "code",
   "execution_count": 1,
   "metadata": {},
   "outputs": [],
   "source": [
    "import warnings\n",
    "warnings.filterwarnings('ignore')\n",
    "\n",
    "from src.data_processing import *\n",
    "from src.grid_search import *\n",
    "import os\n",
    "import numpy as np\n",
    "from sklearn.metrics import make_scorer\n",
    "from sklearn.linear_model import LogisticRegression\n",
    "from tqdm import tqdm\n",
    "import pickle\n",
    "\n",
    "data_type = 'float32'"
   ]
  },
  {
   "cell_type": "markdown",
   "metadata": {},
   "source": [
    "## 1. Data Preparation <a name=\"1.-prep\"></a>\n",
    "### Load training, testing batch"
   ]
  },
  {
   "cell_type": "code",
   "execution_count": 2,
   "metadata": {},
   "outputs": [],
   "source": [
    "input_test = '../data/test_final_group_info.csv'\n",
    "input_train = '../data/train_final_group_info.csv'\n",
    "\n",
    "cell_type = 'All'"
   ]
  },
  {
   "cell_type": "code",
   "execution_count": 3,
   "metadata": {},
   "outputs": [
    {
     "name": "stdout",
     "output_type": "stream",
     "text": [
      "Finished data prepration for All\n"
     ]
    }
   ],
   "source": [
    "train_X, train_y, test_X, test_y, custom_cv = data_prep(input_test, input_train,\n",
    "                                                        cell_type, binarization=False)"
   ]
  },
  {
   "cell_type": "code",
   "execution_count": 4,
   "metadata": {},
   "outputs": [],
   "source": [
    "pr_auc_scorer = make_scorer(pr_auc_score, greater_is_better=True,\n",
    "                            needs_proba=True)"
   ]
  },
  {
   "cell_type": "markdown",
   "metadata": {},
   "source": [
    "## 2. Model tunning<a name=\"2.-tunning\"></a>"
   ]
  },
  {
   "cell_type": "markdown",
   "metadata": {},
   "source": [
    "### 1) Logistic regression -- l1<a name=\"3.-l1\"></a>"
   ]
  },
  {
   "cell_type": "code",
   "execution_count": 5,
   "metadata": {},
   "outputs": [],
   "source": [
    "from sklearn.linear_model import LogisticRegression"
   ]
  },
  {
   "cell_type": "code",
   "execution_count": 6,
   "metadata": {
    "scrolled": false
   },
   "outputs": [
    {
     "name": "stderr",
     "output_type": "stream",
     "text": [
      " 25%|██▌       | 1/4 [05:15<15:47, 315.79s/it]"
     ]
    },
    {
     "name": "stdout",
     "output_type": "stream",
     "text": [
      "{'logisticregression__C': 0.001}\n",
      "best CV score: 0.7563551215370854\n",
      "test score: 0.6485430254049704\n"
     ]
    },
    {
     "name": "stderr",
     "output_type": "stream",
     "text": [
      "\r",
      " 50%|█████     | 2/4 [10:38<10:39, 319.62s/it]"
     ]
    },
    {
     "name": "stdout",
     "output_type": "stream",
     "text": [
      "{'logisticregression__C': 0.001}\n",
      "best CV score: 0.7563551215370854\n",
      "test score: 0.6485430254049704\n"
     ]
    },
    {
     "name": "stderr",
     "output_type": "stream",
     "text": [
      "\r",
      " 75%|███████▌  | 3/4 [16:10<05:25, 325.41s/it]"
     ]
    },
    {
     "name": "stdout",
     "output_type": "stream",
     "text": [
      "{'logisticregression__C': 0.001}\n",
      "best CV score: 0.7563551215370854\n",
      "test score: 0.6485430254049704\n"
     ]
    },
    {
     "name": "stderr",
     "output_type": "stream",
     "text": [
      "100%|██████████| 4/4 [21:52<00:00, 328.21s/it]"
     ]
    },
    {
     "name": "stdout",
     "output_type": "stream",
     "text": [
      "{'logisticregression__C': 0.001}\n",
      "best CV score: 0.7563551215370854\n",
      "test score: 0.6485430254049704\n"
     ]
    },
    {
     "name": "stderr",
     "output_type": "stream",
     "text": [
      "\n"
     ]
    }
   ],
   "source": [
    "l1 = LogisticRegression(penalty='l1', solver='saga', max_iter=10000000)\n",
    "# 0.01, 0.05, 0.1, 0.5, 1, 5, 8, 10, 20, 50, 100 \n",
    "# 12.5, 15, 17.5, 20, 25, 30, 35, 40\n",
    "param_grid = {'logisticregression__C': np.logspace(-3, 2, 10)}\n",
    "\n",
    "for i in tqdm(range(4)):\n",
    "    grid, test_score = ML_pipeline_GridSearchCV(train_X, train_y, test_X, test_y, \n",
    "                                                l1, param_grid, i, custom_cv, pr_auc_scorer)\n",
    "    print(grid.best_params_)\n",
    "    print('best CV score:', grid.best_score_)\n",
    "    print('test score:',test_score)"
   ]
  },
  {
   "cell_type": "markdown",
   "metadata": {},
   "source": [
    "### 2) Logistic regression -- l2<a name=\"4.-l2\"></a>"
   ]
  },
  {
   "cell_type": "code",
   "execution_count": 10,
   "metadata": {},
   "outputs": [
    {
     "name": "stderr",
     "output_type": "stream",
     "text": [
      " 25%|██▌       | 1/4 [03:35<10:46, 215.62s/it]"
     ]
    },
    {
     "name": "stdout",
     "output_type": "stream",
     "text": [
      "{'logisticregression__C': 0.001}\n",
      "best CV score: 0.5226013565858811\n",
      "test score: 0.6969598755704333\n"
     ]
    },
    {
     "name": "stderr",
     "output_type": "stream",
     "text": [
      "\r",
      " 50%|█████     | 2/4 [07:09<07:09, 214.72s/it]"
     ]
    },
    {
     "name": "stdout",
     "output_type": "stream",
     "text": [
      "{'logisticregression__C': 0.001}\n",
      "best CV score: 0.5226015946461939\n",
      "test score: 0.6969601798254196\n"
     ]
    },
    {
     "name": "stderr",
     "output_type": "stream",
     "text": [
      "\r",
      " 75%|███████▌  | 3/4 [10:34<03:30, 210.19s/it]"
     ]
    },
    {
     "name": "stdout",
     "output_type": "stream",
     "text": [
      "{'logisticregression__C': 0.001}\n",
      "best CV score: 0.5226008220123401\n",
      "test score: 0.6969601259286972\n"
     ]
    },
    {
     "name": "stderr",
     "output_type": "stream",
     "text": [
      "100%|██████████| 4/4 [14:16<00:00, 214.09s/it]"
     ]
    },
    {
     "name": "stdout",
     "output_type": "stream",
     "text": [
      "{'logisticregression__C': 0.001}\n",
      "best CV score: 0.5226018591962115\n",
      "test score: 0.6969597984390901\n"
     ]
    },
    {
     "name": "stderr",
     "output_type": "stream",
     "text": [
      "\n"
     ]
    }
   ],
   "source": [
    "l2 = LogisticRegression(penalty='l2', solver='saga', max_iter=10000000)\n",
    "param_grid = {'logisticregression__C': np.logspace(-3, 2, 10)}\n",
    "\n",
    "for i in tqdm(range(4)):\n",
    "    grid, test_score = ML_pipeline_GridSearchCV(train_X, train_y, test_X, test_y, \n",
    "                                                l2, param_grid, i, custom_cv, pr_auc_scorer) \n",
    "    print(grid.best_params_)\n",
    "    print('best CV score:', grid.best_score_)\n",
    "    print('test score:',test_score)"
   ]
  },
  {
   "cell_type": "markdown",
   "metadata": {},
   "source": [
    "### 3) Logistic regression -- ElasticNet<a name=\"5.-eln\"></a>"
   ]
  },
  {
   "cell_type": "code",
   "execution_count": 11,
   "metadata": {
    "scrolled": false
   },
   "outputs": [
    {
     "name": "stderr",
     "output_type": "stream",
     "text": [
      " 25%|██▌       | 1/4 [21:26<1:04:20, 1286.91s/it]"
     ]
    },
    {
     "name": "stdout",
     "output_type": "stream",
     "text": [
      "{'logisticregression__C': 0.001, 'logisticregression__l1_ratio': 0.35}\n",
      "best CV score: 0.5363368197271268\n",
      "test score: 0.6668600137364138\n"
     ]
    },
    {
     "name": "stderr",
     "output_type": "stream",
     "text": [
      "\r",
      " 50%|█████     | 2/4 [40:21<39:54, 1197.45s/it]  "
     ]
    },
    {
     "name": "stdout",
     "output_type": "stream",
     "text": [
      "{'logisticregression__C': 0.001, 'logisticregression__l1_ratio': 0.35}\n",
      "best CV score: 0.5363361898255219\n",
      "test score: 0.6668619514605549\n"
     ]
    },
    {
     "name": "stderr",
     "output_type": "stream",
     "text": [
      "\r",
      " 75%|███████▌  | 3/4 [52:29<16:22, 982.94s/it] "
     ]
    },
    {
     "name": "stdout",
     "output_type": "stream",
     "text": [
      "{'logisticregression__C': 0.001, 'logisticregression__l1_ratio': 0.35}\n",
      "best CV score: 0.5363366807473459\n",
      "test score: 0.6668614142927457\n"
     ]
    },
    {
     "name": "stderr",
     "output_type": "stream",
     "text": [
      "100%|██████████| 4/4 [1:11:19<00:00, 1069.84s/it]"
     ]
    },
    {
     "name": "stdout",
     "output_type": "stream",
     "text": [
      "{'logisticregression__C': 0.001, 'logisticregression__l1_ratio': 0.35}\n",
      "best CV score: 0.5363370134458996\n",
      "test score: 0.6668626931111988\n"
     ]
    },
    {
     "name": "stderr",
     "output_type": "stream",
     "text": [
      "\n"
     ]
    }
   ],
   "source": [
    "eln = LogisticRegression(penalty='elasticnet', solver='saga', max_iter=10000000)\n",
    "param_grid = {'logisticregression__C':  np.logspace(-3, 2, 10),\n",
    "             'logisticregression__l1_ratio': [0.05, 0.1, 0.2, 0.35]}\n",
    "\n",
    "for i in tqdm(range(4)):\n",
    "    grid, test_score = ML_pipeline_GridSearchCV(train_X, train_y, test_X, test_y, \n",
    "                                                eln, param_grid, i, custom_cv, pr_auc_scorer)\n",
    "    \n",
    "    print(grid.best_params_)\n",
    "    print('best CV score:', grid.best_score_)\n",
    "    print('test score:',test_score)"
   ]
  },
  {
   "cell_type": "markdown",
   "metadata": {},
   "source": [
    "### 4) Random Forest Classifier<a name=\"6.-rfc\"></a>"
   ]
  },
  {
   "cell_type": "code",
   "execution_count": 12,
   "metadata": {},
   "outputs": [],
   "source": [
    "from sklearn.ensemble import RandomForestClassifier"
   ]
  },
  {
   "cell_type": "code",
   "execution_count": 13,
   "metadata": {
    "scrolled": false
   },
   "outputs": [
    {
     "name": "stderr",
     "output_type": "stream",
     "text": [
      " 25%|██▌       | 1/4 [3:34:18<10:42:54, 12858.05s/it]"
     ]
    },
    {
     "name": "stdout",
     "output_type": "stream",
     "text": [
      "{'randomforestclassifier__max_depth': 20, 'randomforestclassifier__max_features': 20, 'randomforestclassifier__min_samples_split': 10}\n",
      "best CV score: 0.9501298298018654\n",
      "test score: 0.5535345169903746\n"
     ]
    },
    {
     "name": "stderr",
     "output_type": "stream",
     "text": [
      "\r",
      " 50%|█████     | 2/4 [7:01:48<7:00:36, 12618.33s/it] "
     ]
    },
    {
     "name": "stdout",
     "output_type": "stream",
     "text": [
      "{'randomforestclassifier__max_depth': 30, 'randomforestclassifier__max_features': 50, 'randomforestclassifier__min_samples_split': 10}\n",
      "best CV score: 0.951880274511343\n",
      "test score: 0.5326231548073438\n"
     ]
    },
    {
     "name": "stderr",
     "output_type": "stream",
     "text": [
      "\r",
      " 75%|███████▌  | 3/4 [9:09:41<2:52:40, 10360.01s/it]"
     ]
    },
    {
     "name": "stdout",
     "output_type": "stream",
     "text": [
      "{'randomforestclassifier__max_depth': 10, 'randomforestclassifier__max_features': 50, 'randomforestclassifier__min_samples_split': 5}\n",
      "best CV score: 0.9543131058740284\n",
      "test score: 0.5737193567438823\n"
     ]
    },
    {
     "name": "stderr",
     "output_type": "stream",
     "text": [
      "100%|██████████| 4/4 [11:04:46<00:00, 9971.58s/it]  "
     ]
    },
    {
     "name": "stdout",
     "output_type": "stream",
     "text": [
      "{'randomforestclassifier__max_depth': 10, 'randomforestclassifier__max_features': 50, 'randomforestclassifier__min_samples_split': 5}\n",
      "best CV score: 0.9521794368837239\n",
      "test score: 0.5510854190687913\n"
     ]
    },
    {
     "name": "stderr",
     "output_type": "stream",
     "text": [
      "\n"
     ]
    }
   ],
   "source": [
    "rfc = RandomForestClassifier()\n",
    "param_grid = {'randomforestclassifier__max_features': [10, 15, 20, 25, 50, None],\n",
    "              'randomforestclassifier__max_depth': [10, 20, 30, 50, 100, None],\n",
    "              'randomforestclassifier__min_samples_split': [2, 5, 10, 20]}\n",
    "\n",
    "for i in tqdm(range(4)):\n",
    "    grid, test_score = ML_pipeline_GridSearchCV(train_X, train_y, test_X, test_y,\n",
    "                                                rfc, param_grid, i, custom_cv, pr_auc_scorer)\n",
    "\n",
    "    print(grid.best_params_)\n",
    "    print('best CV score:', grid.best_score_)\n",
    "    print('test score:',test_score)"
   ]
  },
  {
   "cell_type": "markdown",
   "metadata": {},
   "source": [
    "### 5) XGBoost Classifier<a name=\"#7.-xgbc\"></a>"
   ]
  },
  {
   "cell_type": "code",
   "execution_count": 14,
   "metadata": {},
   "outputs": [
    {
     "name": "stderr",
     "output_type": "stream",
     "text": [
      " 10%|█         | 1/10 [21:35<3:14:17, 1295.31s/it]"
     ]
    },
    {
     "name": "stdout",
     "output_type": "stream",
     "text": [
      "{'xgbclassifier__colsample_bytree': 0.9, 'xgbclassifier__eval_metric': 'logloss', 'xgbclassifier__learning_rate': 0.03, 'xgbclassifier__max_depth': 3, 'xgbclassifier__subsample': 0.66}\n",
      "best CV score: 0.8766080288522291\n",
      "test score: 0.5933629849465569\n"
     ]
    },
    {
     "name": "stderr",
     "output_type": "stream",
     "text": [
      "\r",
      " 20%|██        | 2/10 [42:45<2:50:46, 1280.77s/it]"
     ]
    },
    {
     "name": "stdout",
     "output_type": "stream",
     "text": [
      "{'xgbclassifier__colsample_bytree': 0.9, 'xgbclassifier__eval_metric': 'logloss', 'xgbclassifier__learning_rate': 0.03, 'xgbclassifier__max_depth': 3, 'xgbclassifier__subsample': 0.66}\n",
      "best CV score: 0.8734098616096132\n",
      "test score: 0.598334735493387\n"
     ]
    },
    {
     "name": "stderr",
     "output_type": "stream",
     "text": [
      "\r",
      " 30%|███       | 3/10 [1:03:57<2:28:57, 1276.78s/it]"
     ]
    },
    {
     "name": "stdout",
     "output_type": "stream",
     "text": [
      "{'xgbclassifier__colsample_bytree': 0.9, 'xgbclassifier__eval_metric': 'logloss', 'xgbclassifier__learning_rate': 0.03, 'xgbclassifier__max_depth': 3, 'xgbclassifier__subsample': 0.66}\n",
      "best CV score: 0.8700772352690267\n",
      "test score: 0.5703041037310352\n"
     ]
    },
    {
     "name": "stderr",
     "output_type": "stream",
     "text": [
      "\r",
      " 40%|████      | 4/10 [1:25:11<2:07:34, 1275.69s/it]"
     ]
    },
    {
     "name": "stdout",
     "output_type": "stream",
     "text": [
      "{'xgbclassifier__colsample_bytree': 0.9, 'xgbclassifier__eval_metric': 'logloss', 'xgbclassifier__learning_rate': 0.03, 'xgbclassifier__max_depth': 3, 'xgbclassifier__subsample': 0.66}\n",
      "best CV score: 0.8748046045553552\n",
      "test score: 0.581108803198559\n"
     ]
    },
    {
     "name": "stderr",
     "output_type": "stream",
     "text": [
      "\r",
      " 50%|█████     | 5/10 [1:46:29<1:46:21, 1276.31s/it]"
     ]
    },
    {
     "name": "stdout",
     "output_type": "stream",
     "text": [
      "{'xgbclassifier__colsample_bytree': 0.9, 'xgbclassifier__eval_metric': 'logloss', 'xgbclassifier__learning_rate': 0.03, 'xgbclassifier__max_depth': 3, 'xgbclassifier__subsample': 0.66}\n",
      "best CV score: 0.87086885541217\n",
      "test score: 0.5932668866557252\n"
     ]
    },
    {
     "name": "stderr",
     "output_type": "stream",
     "text": [
      "\r",
      " 60%|██████    | 6/10 [2:07:44<1:25:04, 1276.05s/it]"
     ]
    },
    {
     "name": "stdout",
     "output_type": "stream",
     "text": [
      "{'xgbclassifier__colsample_bytree': 0.9, 'xgbclassifier__eval_metric': 'logloss', 'xgbclassifier__learning_rate': 0.03, 'xgbclassifier__max_depth': 3, 'xgbclassifier__subsample': 0.66}\n",
      "best CV score: 0.8736294847835803\n",
      "test score: 0.590594976399925\n"
     ]
    },
    {
     "name": "stderr",
     "output_type": "stream",
     "text": [
      "\r",
      " 70%|███████   | 7/10 [2:29:07<1:03:54, 1278.21s/it]"
     ]
    },
    {
     "name": "stdout",
     "output_type": "stream",
     "text": [
      "{'xgbclassifier__colsample_bytree': 0.9, 'xgbclassifier__eval_metric': 'logloss', 'xgbclassifier__learning_rate': 0.03, 'xgbclassifier__max_depth': 3, 'xgbclassifier__subsample': 0.66}\n",
      "best CV score: 0.8773555574359218\n",
      "test score: 0.6128357583793621\n"
     ]
    },
    {
     "name": "stderr",
     "output_type": "stream",
     "text": [
      "\r",
      " 80%|████████  | 8/10 [2:50:20<42:33, 1276.69s/it]  "
     ]
    },
    {
     "name": "stdout",
     "output_type": "stream",
     "text": [
      "{'xgbclassifier__colsample_bytree': 0.9, 'xgbclassifier__eval_metric': 'logloss', 'xgbclassifier__learning_rate': 0.03, 'xgbclassifier__max_depth': 3, 'xgbclassifier__subsample': 0.66}\n",
      "best CV score: 0.8641742232549473\n",
      "test score: 0.5633546566925081\n"
     ]
    },
    {
     "name": "stderr",
     "output_type": "stream",
     "text": [
      "\r",
      " 90%|█████████ | 9/10 [3:11:34<21:15, 1275.74s/it]"
     ]
    },
    {
     "name": "stdout",
     "output_type": "stream",
     "text": [
      "{'xgbclassifier__colsample_bytree': 0.9, 'xgbclassifier__eval_metric': 'logloss', 'xgbclassifier__learning_rate': 0.03, 'xgbclassifier__max_depth': 3, 'xgbclassifier__subsample': 0.66}\n",
      "best CV score: 0.8778473545131605\n",
      "test score: 0.578121363070095\n"
     ]
    },
    {
     "name": "stderr",
     "output_type": "stream",
     "text": [
      "100%|██████████| 10/10 [3:32:39<00:00, 1275.96s/it]"
     ]
    },
    {
     "name": "stdout",
     "output_type": "stream",
     "text": [
      "{'xgbclassifier__colsample_bytree': 0.9, 'xgbclassifier__eval_metric': 'logloss', 'xgbclassifier__learning_rate': 0.03, 'xgbclassifier__max_depth': 3, 'xgbclassifier__subsample': 0.66}\n",
      "best CV score: 0.8781023280107005\n",
      "test score: 0.6010914382366007\n"
     ]
    },
    {
     "name": "stderr",
     "output_type": "stream",
     "text": [
      "\n"
     ]
    }
   ],
   "source": [
    "import xgboost\n",
    "from xgboost import XGBClassifier\n",
    "\n",
    "xgbc = XGBClassifier(use_label_encoder=False)\n",
    "param_grid = {'xgbclassifier__max_depth': [1, 3, 5, 10, 20, 30, 100],\n",
    "              \"xgbclassifier__learning_rate\": [0.03],\n",
    "              #'xgbclassifier__min_child_weight': [1, 3, 5, 7],\n",
    "              #'xgbclassifier__gamma': [0, 0.1, 0.2 , 0.3, 0.4],\n",
    "              'xgbclassifier__colsample_bytree': [0.9],\n",
    "              'xgbclassifier__subsample': [0.66],\n",
    "              'xgbclassifier__eval_metric': ['logloss']}\n",
    "\n",
    "for i in tqdm(range(10)):\n",
    "    grid, test_score = ML_pipeline_GridSearchCV(train_X, train_y, test_X, test_y, \n",
    "                                                xgbc, param_grid, i, custom_cv, pr_auc_scorer,\n",
    "                                                xgbc=True)\n",
    "    print(grid.best_params_)\n",
    "    print('best CV score:', grid.best_score_)\n",
    "    print('test score:',test_score)"
   ]
  },
  {
   "cell_type": "markdown",
   "metadata": {},
   "source": [
    "### 6) SVC<a name=\"8.-svc\"></a>"
   ]
  },
  {
   "cell_type": "code",
   "execution_count": null,
   "metadata": {
    "scrolled": false
   },
   "outputs": [
    {
     "name": "stderr",
     "output_type": "stream",
     "text": [
      " 10%|█         | 1/10 [5:23:50<48:34:36, 19430.74s/it]"
     ]
    },
    {
     "name": "stdout",
     "output_type": "stream",
     "text": [
      "{'svc__C': 10.0, 'svc__gamma': 0.1}\n",
      "best CV score: 0.7563617383099294\n",
      "test score: 0.8286780851998243\n"
     ]
    },
    {
     "name": "stderr",
     "output_type": "stream",
     "text": [
      "\r",
      " 20%|██        | 2/10 [9:26:52<36:50:27, 16578.48s/it]"
     ]
    },
    {
     "name": "stdout",
     "output_type": "stream",
     "text": [
      "{'svc__C': 0.001, 'svc__gamma': 0.1}\n",
      "best CV score: 0.7563551215370854\n",
      "test score: 0.8286780851998243\n"
     ]
    },
    {
     "name": "stderr",
     "output_type": "stream",
     "text": [
      "\r",
      " 30%|███       | 3/10 [14:52:08<34:50:37, 17919.64s/it]"
     ]
    },
    {
     "name": "stdout",
     "output_type": "stream",
     "text": [
      "{'svc__C': 10.0, 'svc__gamma': 0.1}\n",
      "best CV score: 0.7563676090148831\n",
      "test score: 0.8286780851998243\n"
     ]
    }
   ],
   "source": [
    "from sklearn.svm import SVC\n",
    "svc = SVC(probability=True)\n",
    "# 1e-8, 1e-7, 1e-6, 1e-5, 1e-4, 1e-3, 1e-2, 1e-1\n",
    "param_grid = {'svc__gamma': np.logspace(-3, 2, 6),\n",
    "              'svc__C': np.logspace(-3, 2, 6)}\n",
    "\n",
    "for i in tqdm(range(10)):\n",
    "    grid, test_score = ML_pipeline_GridSearchCV(train_X, train_y, test_X, test_y, \n",
    "                                                svc, param_grid, i, custom_cv, pr_auc_scorer)\n",
    "    print(grid.best_params_)\n",
    "    print('best CV score:', grid.best_score_)\n",
    "    print('test score:',test_score)"
   ]
  }
 ],
 "metadata": {
  "kernelspec": {
   "display_name": "cellpymc",
   "language": "python",
   "name": "cellpymc"
  },
  "language_info": {
   "codemirror_mode": {
    "name": "ipython",
    "version": 3
   },
   "file_extension": ".py",
   "mimetype": "text/x-python",
   "name": "python",
   "nbconvert_exporter": "python",
   "pygments_lexer": "ipython3",
   "version": "3.7.10"
  }
 },
 "nbformat": 4,
 "nbformat_minor": 4
}
