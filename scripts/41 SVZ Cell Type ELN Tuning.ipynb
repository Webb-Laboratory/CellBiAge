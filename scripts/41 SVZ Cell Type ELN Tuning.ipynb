{
 "cells": [
  {
   "cell_type": "markdown",
   "metadata": {},
   "source": [
    "# The SVZ ElasticNet tuning (cell type-specific models)"
   ]
  },
  {
   "cell_type": "markdown",
   "metadata": {},
   "source": [
    "## Outline\n",
    "\n",
    "The **MLAging - SVZ cell type** workflow consists of sections:\n",
    "\n",
    "`30 SVZpreprocessing.R` Data preprocessing and preparation in Seurat.\n",
    "\n",
    "`41 SVZ Cell Type ELN Tuning` ELN model tunning using *non-binarized* and *binarized* HVGs and hyperparameter selection using `GridSearchCV`     -- **this notebook:** \n",
    "\n",
    "1. [Data Preparation](#1.-prep)\n",
    "2. [Cell Types](#2.-celltypes)\n",
    "    - [Microglia](#3.-Microglia)\n",
    "    - [Astrocyte_qNSC](#4.-Astrocyte_qNSC)\n",
    "    - [Endothelial](#5.-Endothelial)\n",
    "    - [Neuroblast](#6.-Neuroblast)\n",
    "    - [Oligodendro](#7.-Oligodendro)\n",
    "    - [aNSC_NPC](#8.-aNSC_NPC)\n",
    "    - [Mural](#9.-Mural)\n",
    "\n",
    "`42 SVZ Cell Type ELN 10x` Run the best ELN model for both binarized and nonbinarized HVGs over 10 random seeds.\n",
    "\n",
    "`43 SVZ Cell Type ELN Result Viz` Result visulization.\n",
    "\n",
    "`44 SVZ Cell Type Stat` Stat test on whether exercise rejuvenates cells."
   ]
  },
  {
   "cell_type": "code",
   "execution_count": 2,
   "metadata": {
    "scrolled": true
   },
   "outputs": [],
   "source": [
    "import warnings\n",
    "warnings.filterwarnings('ignore')\n",
    "\n",
    "from src.data_processing import *\n",
    "from src.grid_search import *\n",
    "import os\n",
    "import numpy as np\n",
    "from sklearn.metrics import make_scorer\n",
    "from sklearn.linear_model import LogisticRegression\n",
    "from tqdm import tqdm\n",
    "import pickle\n",
    "\n",
    "data_type = 'float32'"
   ]
  },
  {
   "cell_type": "markdown",
   "metadata": {},
   "source": [
    "## 1. Data Preparation <a name=\"1.-prep\"></a>\n",
    "### Load training, testing batch"
   ]
  },
  {
   "cell_type": "code",
   "execution_count": 3,
   "metadata": {
    "scrolled": false
   },
   "outputs": [],
   "source": [
    "input_train = '../data/svz_processed/svz_ctl_train_cell_sep3integ_batch1.csv'\n",
    "input_test = '../data/svz_processed/svz_ctl_test_cell_sep3integ_batch2.csv'"
   ]
  },
  {
   "cell_type": "code",
   "execution_count": 4,
   "metadata": {},
   "outputs": [],
   "source": [
    "pr_auc_scorer = make_scorer(pr_auc_score, greater_is_better=True,\n",
    "                            needs_proba=True)"
   ]
  },
  {
   "cell_type": "markdown",
   "metadata": {},
   "source": [
    "## 2. Cell type-specific ELN models<a name=\"2.-celltypes\"></a>"
   ]
  },
  {
   "cell_type": "markdown",
   "metadata": {},
   "source": [
    "### a) Microglia<a name=\"3.-Microglia\"></a>"
   ]
  },
  {
   "cell_type": "code",
   "execution_count": 5,
   "metadata": {},
   "outputs": [
    {
     "name": "stdout",
     "output_type": "stream",
     "text": [
      "Finished data prepration for Microglia\n"
     ]
    }
   ],
   "source": [
    "cell_type = 'Microglia'\n",
    "\n",
    "train_X, train_y, test_X, test_y, custom_cv = data_prep(input_test, input_train,\n",
    "                                                        cell_type, binarization=True)"
   ]
  },
  {
   "cell_type": "code",
   "execution_count": 6,
   "metadata": {
    "scrolled": false
   },
   "outputs": [
    {
     "name": "stderr",
     "output_type": "stream",
     "text": [
      " 20%|██        | 1/5 [33:14<2:12:57, 1994.41s/it]"
     ]
    },
    {
     "name": "stdout",
     "output_type": "stream",
     "text": [
      "{'logisticregression__C': 1.0, 'logisticregression__l1_ratio': 0.0}\n",
      "best CV score: 0.9136604283844914\n",
      "test score: 0.8761702811825283\n"
     ]
    },
    {
     "name": "stderr",
     "output_type": "stream",
     "text": [
      "\r",
      " 40%|████      | 2/5 [1:05:45<1:38:26, 1968.81s/it]"
     ]
    },
    {
     "name": "stdout",
     "output_type": "stream",
     "text": [
      "{'logisticregression__C': 1.0, 'logisticregression__l1_ratio': 0.0}\n",
      "best CV score: 0.9136828418906111\n",
      "test score: 0.8762039489579435\n"
     ]
    },
    {
     "name": "stderr",
     "output_type": "stream",
     "text": [
      "\r",
      " 60%|██████    | 3/5 [1:38:16<1:05:21, 1960.89s/it]"
     ]
    },
    {
     "name": "stdout",
     "output_type": "stream",
     "text": [
      "{'logisticregression__C': 1.0, 'logisticregression__l1_ratio': 0.0}\n",
      "best CV score: 0.913638420719382\n",
      "test score: 0.876197433095826\n"
     ]
    },
    {
     "name": "stderr",
     "output_type": "stream",
     "text": [
      "\r",
      " 80%|████████  | 4/5 [2:10:59<32:41, 1961.42s/it]  "
     ]
    },
    {
     "name": "stdout",
     "output_type": "stream",
     "text": [
      "{'logisticregression__C': 1.0, 'logisticregression__l1_ratio': 0.0}\n",
      "best CV score: 0.9136896879264818\n",
      "test score: 0.8761890701427045\n"
     ]
    },
    {
     "name": "stderr",
     "output_type": "stream",
     "text": [
      "100%|██████████| 5/5 [2:44:54<00:00, 1978.94s/it]"
     ]
    },
    {
     "name": "stdout",
     "output_type": "stream",
     "text": [
      "{'logisticregression__C': 21.54434690031882, 'logisticregression__l1_ratio': 0.0}\n",
      "best CV score: 0.9137353668481561\n",
      "test score: 0.871684917535416\n"
     ]
    },
    {
     "name": "stderr",
     "output_type": "stream",
     "text": [
      "\n"
     ]
    }
   ],
   "source": [
    "eln = LogisticRegression(penalty='elasticnet', solver='saga', max_iter=10000000)\n",
    "param_grid = {'logisticregression__C': np.logspace(-4, 2, 10),\n",
    "             'logisticregression__l1_ratio': np.append(np.logspace(-3, 0, 10), 0)}\n",
    "# [0.05, 0.1, 0.2, 0.35]\n",
    "models_eln = []\n",
    "for i in tqdm(range(5)):\n",
    "    grid, test_score = ML_pipeline_GridSearchCV(train_X, train_y, test_X, test_y, \n",
    "                                                eln, param_grid, i, custom_cv, pr_auc_scorer)\n",
    "    print(grid.best_params_)\n",
    "    print('best CV score:', grid.best_score_)\n",
    "    print('test score:',test_score)\n",
    "    models_eln.append(grid)"
   ]
  },
  {
   "cell_type": "markdown",
   "metadata": {},
   "source": [
    "### b) Astrocyte_qNSC <a name=\"4.-Astrocyte_qNSC\"></a>"
   ]
  },
  {
   "cell_type": "code",
   "execution_count": 7,
   "metadata": {},
   "outputs": [
    {
     "name": "stdout",
     "output_type": "stream",
     "text": [
      "Finished data prepration for Astrocyte_qNSC\n"
     ]
    }
   ],
   "source": [
    "cell_type = 'Astrocyte_qNSC'\n",
    "\n",
    "train_X, train_y, test_X, test_y, custom_cv = data_prep(input_test, input_train,\n",
    "                                                        cell_type, binarization=True)"
   ]
  },
  {
   "cell_type": "code",
   "execution_count": 8,
   "metadata": {
    "scrolled": true
   },
   "outputs": [
    {
     "name": "stderr",
     "output_type": "stream",
     "text": [
      " 20%|██        | 1/5 [26:22<1:45:29, 1582.32s/it]"
     ]
    },
    {
     "name": "stdout",
     "output_type": "stream",
     "text": [
      "{'logisticregression__C': 0.21544346900318823, 'logisticregression__l1_ratio': 0.0}\n",
      "best CV score: 0.9730987490908909\n",
      "test score: 0.9555509053798459\n"
     ]
    },
    {
     "name": "stderr",
     "output_type": "stream",
     "text": [
      "\r",
      " 40%|████      | 2/5 [52:50<1:19:17, 1585.85s/it]"
     ]
    },
    {
     "name": "stdout",
     "output_type": "stream",
     "text": [
      "{'logisticregression__C': 0.21544346900318823, 'logisticregression__l1_ratio': 0.0}\n",
      "best CV score: 0.9730770540805702\n",
      "test score: 0.9554610909794564\n"
     ]
    },
    {
     "name": "stderr",
     "output_type": "stream",
     "text": [
      "\r",
      " 60%|██████    | 3/5 [1:18:56<52:33, 1576.54s/it]"
     ]
    },
    {
     "name": "stdout",
     "output_type": "stream",
     "text": [
      "{'logisticregression__C': 0.21544346900318823, 'logisticregression__l1_ratio': 0.0}\n",
      "best CV score: 0.9730659328483255\n",
      "test score: 0.9555073667940187\n"
     ]
    },
    {
     "name": "stderr",
     "output_type": "stream",
     "text": [
      "\r",
      " 80%|████████  | 4/5 [1:45:28<26:22, 1582.87s/it]"
     ]
    },
    {
     "name": "stdout",
     "output_type": "stream",
     "text": [
      "{'logisticregression__C': 0.21544346900318823, 'logisticregression__l1_ratio': 0.0}\n",
      "best CV score: 0.9730641371344253\n",
      "test score: 0.9555061297542334\n"
     ]
    },
    {
     "name": "stderr",
     "output_type": "stream",
     "text": [
      "100%|██████████| 5/5 [2:11:48<00:00, 1581.68s/it]"
     ]
    },
    {
     "name": "stdout",
     "output_type": "stream",
     "text": [
      "{'logisticregression__C': 0.21544346900318823, 'logisticregression__l1_ratio': 0.0}\n",
      "best CV score: 0.9730624332746889\n",
      "test score: 0.9554862466211005\n"
     ]
    },
    {
     "name": "stderr",
     "output_type": "stream",
     "text": [
      "\n"
     ]
    }
   ],
   "source": [
    "# eln = LogisticRegression(penalty='elasticnet', solver='saga', max_iter=10000000)\n",
    "# param_grid = {'logisticregression__C': np.logspace(-2, 1, 10),\n",
    "#              'logisticregression__l1_ratio': [0.001, 0.01, 0.05, 0.5, 0.65, 0.8]}\n",
    "# [0.05, 0.1, 0.2, 0.35]\n",
    "models_eln = []\n",
    "for i in tqdm(range(5)):\n",
    "    grid, test_score = ML_pipeline_GridSearchCV(train_X, train_y, test_X, test_y, \n",
    "                                                eln, param_grid, i, custom_cv, pr_auc_scorer)\n",
    "    print(grid.best_params_)\n",
    "    print('best CV score:', grid.best_score_)\n",
    "    print('test score:',test_score)\n",
    "    models_eln.append(grid)"
   ]
  },
  {
   "cell_type": "markdown",
   "metadata": {},
   "source": [
    "### c) Endothelial <a name=\"5.-Endothelial\"></a>"
   ]
  },
  {
   "cell_type": "code",
   "execution_count": 9,
   "metadata": {
    "scrolled": true
   },
   "outputs": [
    {
     "name": "stdout",
     "output_type": "stream",
     "text": [
      "Finished data prepration for Endothelial\n"
     ]
    }
   ],
   "source": [
    "cell_type = 'Endothelial'\n",
    "\n",
    "train_X, train_y, test_X, test_y, custom_cv = data_prep(input_test, input_train,\n",
    "                                                        cell_type, binarization=True)"
   ]
  },
  {
   "cell_type": "code",
   "execution_count": 10,
   "metadata": {
    "scrolled": false
   },
   "outputs": [
    {
     "name": "stderr",
     "output_type": "stream",
     "text": [
      " 10%|█         | 1/10 [14:37<2:11:34, 877.13s/it]"
     ]
    },
    {
     "name": "stdout",
     "output_type": "stream",
     "text": [
      "{'logisticregression__C': 1.0, 'logisticregression__l1_ratio': 1.0}\n",
      "best CV score: 0.7634654181271505\n",
      "test score: 0.8321033115797022\n"
     ]
    },
    {
     "name": "stderr",
     "output_type": "stream",
     "text": [
      "\r",
      " 20%|██        | 2/10 [29:14<1:56:56, 877.07s/it]"
     ]
    },
    {
     "name": "stdout",
     "output_type": "stream",
     "text": [
      "{'logisticregression__C': 1.0, 'logisticregression__l1_ratio': 1.0}\n",
      "best CV score: 0.7634523411228401\n",
      "test score: 0.8321253752298888\n"
     ]
    },
    {
     "name": "stderr",
     "output_type": "stream",
     "text": [
      "\r",
      " 30%|███       | 3/10 [43:56<1:42:36, 879.51s/it]"
     ]
    },
    {
     "name": "stdout",
     "output_type": "stream",
     "text": [
      "{'logisticregression__C': 1.0, 'logisticregression__l1_ratio': 1.0}\n",
      "best CV score: 0.7635075743475641\n",
      "test score: 0.8321856951095539\n"
     ]
    },
    {
     "name": "stderr",
     "output_type": "stream",
     "text": [
      "\r",
      " 40%|████      | 4/10 [58:28<1:27:39, 876.52s/it]"
     ]
    },
    {
     "name": "stdout",
     "output_type": "stream",
     "text": [
      "{'logisticregression__C': 1.0, 'logisticregression__l1_ratio': 1.0}\n",
      "best CV score: 0.763483929833543\n",
      "test score: 0.8321603131222713\n"
     ]
    },
    {
     "name": "stderr",
     "output_type": "stream",
     "text": [
      "\r",
      " 50%|█████     | 5/10 [1:13:04<1:13:02, 876.49s/it]"
     ]
    },
    {
     "name": "stdout",
     "output_type": "stream",
     "text": [
      "{'logisticregression__C': 1.0, 'logisticregression__l1_ratio': 1.0}\n",
      "best CV score: 0.763481336943802\n",
      "test score: 0.8321436584251849\n"
     ]
    },
    {
     "name": "stderr",
     "output_type": "stream",
     "text": [
      "\r",
      " 60%|██████    | 6/10 [1:27:52<58:41, 880.30s/it]  "
     ]
    },
    {
     "name": "stdout",
     "output_type": "stream",
     "text": [
      "{'logisticregression__C': 1.0, 'logisticregression__l1_ratio': 1.0}\n",
      "best CV score: 0.7634657994120635\n",
      "test score: 0.8321183534558554\n"
     ]
    },
    {
     "name": "stderr",
     "output_type": "stream",
     "text": [
      "\r",
      " 70%|███████   | 7/10 [1:42:33<44:01, 880.59s/it]"
     ]
    },
    {
     "name": "stdout",
     "output_type": "stream",
     "text": [
      "{'logisticregression__C': 1.0, 'logisticregression__l1_ratio': 1.0}\n",
      "best CV score: 0.7634456294597916\n",
      "test score: 0.8320413407966536\n"
     ]
    },
    {
     "name": "stderr",
     "output_type": "stream",
     "text": [
      "\r",
      " 80%|████████  | 8/10 [1:57:22<29:26, 883.03s/it]"
     ]
    },
    {
     "name": "stdout",
     "output_type": "stream",
     "text": [
      "{'logisticregression__C': 1.0, 'logisticregression__l1_ratio': 1.0}\n",
      "best CV score: 0.7635330828285647\n",
      "test score: 0.8321118775007887\n"
     ]
    },
    {
     "name": "stderr",
     "output_type": "stream",
     "text": [
      "\r",
      " 90%|█████████ | 9/10 [2:12:12<14:45, 885.32s/it]"
     ]
    },
    {
     "name": "stdout",
     "output_type": "stream",
     "text": [
      "{'logisticregression__C': 1.0, 'logisticregression__l1_ratio': 1.0}\n",
      "best CV score: 0.7634941654924507\n",
      "test score: 0.832176131554705\n"
     ]
    },
    {
     "name": "stderr",
     "output_type": "stream",
     "text": [
      "100%|██████████| 10/10 [2:26:55<00:00, 881.58s/it]"
     ]
    },
    {
     "name": "stdout",
     "output_type": "stream",
     "text": [
      "{'logisticregression__C': 1.0, 'logisticregression__l1_ratio': 1.0}\n",
      "best CV score: 0.7634598280890901\n",
      "test score: 0.8321117632669636\n"
     ]
    },
    {
     "name": "stderr",
     "output_type": "stream",
     "text": [
      "\n"
     ]
    }
   ],
   "source": [
    "eln = LogisticRegression(penalty='elasticnet', solver='saga', max_iter=10000000)\n",
    "# param_grid = {'logisticregression__C': np.logspace(-4, 2, 10),\n",
    "#              'logisticregression__l1_ratio': np.append(np.logspace(-3, 0, 10), 0)}\n",
    "# [0.05, 0.1, 0.2, 0.35]\n",
    "models_eln = []\n",
    "for i in tqdm(range(10)):\n",
    "    grid, test_score = ML_pipeline_GridSearchCV(train_X, train_y, test_X, test_y, \n",
    "                                                eln, param_grid, i, custom_cv, pr_auc_scorer)\n",
    "    print(grid.best_params_)\n",
    "    print('best CV score:', grid.best_score_)\n",
    "    print('test score:',test_score)\n",
    "    models_eln.append(grid)"
   ]
  },
  {
   "cell_type": "markdown",
   "metadata": {},
   "source": [
    "### d) Neuroblast <a name=\"6.-Neuroblast\"></a>"
   ]
  },
  {
   "cell_type": "code",
   "execution_count": 11,
   "metadata": {},
   "outputs": [
    {
     "name": "stdout",
     "output_type": "stream",
     "text": [
      "Finished data prepration for Neuroblast\n"
     ]
    }
   ],
   "source": [
    "cell_type = 'Neuroblast'\n",
    "\n",
    "train_X, train_y, test_X, test_y, custom_cv = data_prep(input_test, input_train,\n",
    "                                                        cell_type, binarization=True)"
   ]
  },
  {
   "cell_type": "code",
   "execution_count": 12,
   "metadata": {},
   "outputs": [
    {
     "name": "stderr",
     "output_type": "stream",
     "text": [
      " 10%|█         | 1/10 [13:14<1:59:11, 794.56s/it]"
     ]
    },
    {
     "name": "stdout",
     "output_type": "stream",
     "text": [
      "{'logisticregression__C': 0.01, 'logisticregression__l1_ratio': 0.0}\n",
      "best CV score: 0.9227376938412275\n",
      "test score: 0.9144239340255389\n"
     ]
    },
    {
     "name": "stderr",
     "output_type": "stream",
     "text": [
      "\r",
      " 20%|██        | 2/10 [26:18<1:45:07, 788.43s/it]"
     ]
    },
    {
     "name": "stdout",
     "output_type": "stream",
     "text": [
      "{'logisticregression__C': 0.01, 'logisticregression__l1_ratio': 0.0}\n",
      "best CV score: 0.9227367793579466\n",
      "test score: 0.9144522806180575\n"
     ]
    },
    {
     "name": "stderr",
     "output_type": "stream",
     "text": [
      "\r",
      " 30%|███       | 3/10 [39:20<1:31:36, 785.25s/it]"
     ]
    },
    {
     "name": "stdout",
     "output_type": "stream",
     "text": [
      "{'logisticregression__C': 0.01, 'logisticregression__l1_ratio': 0.0}\n",
      "best CV score: 0.9227448858291674\n",
      "test score: 0.9144618443460053\n"
     ]
    },
    {
     "name": "stderr",
     "output_type": "stream",
     "text": [
      "\r",
      " 40%|████      | 4/10 [52:21<1:18:21, 783.56s/it]"
     ]
    },
    {
     "name": "stdout",
     "output_type": "stream",
     "text": [
      "{'logisticregression__C': 0.01, 'logisticregression__l1_ratio': 0.0}\n",
      "best CV score: 0.9227307311857995\n",
      "test score: 0.9144539417269276\n"
     ]
    },
    {
     "name": "stderr",
     "output_type": "stream",
     "text": [
      "\r",
      " 50%|█████     | 5/10 [1:05:43<1:05:51, 790.23s/it]"
     ]
    },
    {
     "name": "stdout",
     "output_type": "stream",
     "text": [
      "{'logisticregression__C': 0.01, 'logisticregression__l1_ratio': 0.0}\n",
      "best CV score: 0.9227921143399843\n",
      "test score: 0.9144443779989799\n"
     ]
    },
    {
     "name": "stderr",
     "output_type": "stream",
     "text": [
      "\r",
      " 60%|██████    | 6/10 [1:19:16<53:12, 798.17s/it]  "
     ]
    },
    {
     "name": "stdout",
     "output_type": "stream",
     "text": [
      "{'logisticregression__C': 0.01, 'logisticregression__l1_ratio': 0.0}\n",
      "best CV score: 0.9227855644412404\n",
      "test score: 0.9144446097095901\n"
     ]
    },
    {
     "name": "stderr",
     "output_type": "stream",
     "text": [
      "\r",
      " 70%|███████   | 7/10 [1:32:34<39:54, 798.17s/it]"
     ]
    },
    {
     "name": "stdout",
     "output_type": "stream",
     "text": [
      "{'logisticregression__C': 0.01, 'logisticregression__l1_ratio': 0.0}\n",
      "best CV score: 0.9227515833476907\n",
      "test score: 0.9144306256333055\n"
     ]
    },
    {
     "name": "stderr",
     "output_type": "stream",
     "text": [
      "\r",
      " 80%|████████  | 8/10 [1:45:55<26:37, 798.84s/it]"
     ]
    },
    {
     "name": "stdout",
     "output_type": "stream",
     "text": [
      "{'logisticregression__C': 0.01, 'logisticregression__l1_ratio': 0.0}\n",
      "best CV score: 0.9227783343903382\n",
      "test score: 0.9144306256333055\n"
     ]
    },
    {
     "name": "stderr",
     "output_type": "stream",
     "text": [
      "\r",
      " 90%|█████████ | 9/10 [1:59:00<13:14, 794.45s/it]"
     ]
    },
    {
     "name": "stdout",
     "output_type": "stream",
     "text": [
      "{'logisticregression__C': 0.01, 'logisticregression__l1_ratio': 0.0}\n",
      "best CV score: 0.9227504999305479\n",
      "test score: 0.9144306256333055\n"
     ]
    },
    {
     "name": "stderr",
     "output_type": "stream",
     "text": [
      "100%|██████████| 10/10 [2:12:16<00:00, 793.62s/it]"
     ]
    },
    {
     "name": "stdout",
     "output_type": "stream",
     "text": [
      "{'logisticregression__C': 0.01, 'logisticregression__l1_ratio': 0.0}\n",
      "best CV score: 0.9228082078919067\n",
      "test score: 0.9145818381863459\n"
     ]
    },
    {
     "name": "stderr",
     "output_type": "stream",
     "text": [
      "\n"
     ]
    }
   ],
   "source": [
    "eln = LogisticRegression(penalty='elasticnet', solver='saga', max_iter=10000000)\n",
    "# param_grid = {'logisticregression__C': np.logspace(-4, 2, 10),\n",
    "#              'logisticregression__l1_ratio': np.append(np.logspace(-3, 0, 5), 0)}\n",
    "models_eln = []\n",
    "for i in tqdm(range(10)):\n",
    "    grid, test_score = ML_pipeline_GridSearchCV(train_X, train_y, test_X, test_y, \n",
    "                                                eln, param_grid, i, custom_cv, pr_auc_scorer)\n",
    "    print(grid.best_params_)\n",
    "    print('best CV score:', grid.best_score_)\n",
    "    print('test score:',test_score)\n",
    "    models_eln.append(grid)"
   ]
  },
  {
   "cell_type": "markdown",
   "metadata": {},
   "source": [
    "### e) Oligodendro <a name=\"7.-Oligodendro\"></a>"
   ]
  },
  {
   "cell_type": "code",
   "execution_count": 13,
   "metadata": {},
   "outputs": [
    {
     "name": "stdout",
     "output_type": "stream",
     "text": [
      "Finished data prepration for Oligodendro\n"
     ]
    }
   ],
   "source": [
    "cell_type = 'Oligodendro'\n",
    "\n",
    "train_X, train_y, test_X, test_y, custom_cv = data_prep(input_test, input_train,\n",
    "                                                        cell_type, binarization=True)"
   ]
  },
  {
   "cell_type": "code",
   "execution_count": 14,
   "metadata": {},
   "outputs": [
    {
     "name": "stderr",
     "output_type": "stream",
     "text": [
      " 20%|██        | 1/5 [24:10<1:36:42, 1450.56s/it]"
     ]
    },
    {
     "name": "stdout",
     "output_type": "stream",
     "text": [
      "{'logisticregression__C': 0.046415888336127774, 'logisticregression__l1_ratio': 0.0}\n",
      "best CV score: 0.9366364304408744\n",
      "test score: 0.9166648003913993\n"
     ]
    },
    {
     "name": "stderr",
     "output_type": "stream",
     "text": [
      "\r",
      " 40%|████      | 2/5 [48:20<1:12:30, 1450.33s/it]"
     ]
    },
    {
     "name": "stdout",
     "output_type": "stream",
     "text": [
      "{'logisticregression__C': 0.046415888336127774, 'logisticregression__l1_ratio': 0.0}\n",
      "best CV score: 0.9366274717605518\n",
      "test score: 0.9166412593323694\n"
     ]
    },
    {
     "name": "stderr",
     "output_type": "stream",
     "text": [
      "\r",
      " 60%|██████    | 3/5 [1:12:44<48:32, 1456.35s/it]"
     ]
    },
    {
     "name": "stdout",
     "output_type": "stream",
     "text": [
      "{'logisticregression__C': 0.046415888336127774, 'logisticregression__l1_ratio': 0.0}\n",
      "best CV score: 0.9366496649404834\n",
      "test score: 0.9166587349274489\n"
     ]
    },
    {
     "name": "stderr",
     "output_type": "stream",
     "text": [
      "\r",
      " 80%|████████  | 4/5 [1:36:59<24:16, 1456.11s/it]"
     ]
    },
    {
     "name": "stdout",
     "output_type": "stream",
     "text": [
      "{'logisticregression__C': 0.046415888336127774, 'logisticregression__l1_ratio': 0.0}\n",
      "best CV score: 0.9366457229513531\n",
      "test score: 0.9166438979962127\n"
     ]
    },
    {
     "name": "stderr",
     "output_type": "stream",
     "text": [
      "100%|██████████| 5/5 [2:01:10<00:00, 1454.09s/it]"
     ]
    },
    {
     "name": "stdout",
     "output_type": "stream",
     "text": [
      "{'logisticregression__C': 0.046415888336127774, 'logisticregression__l1_ratio': 0.0}\n",
      "best CV score: 0.9366433226859627\n",
      "test score: 0.9166569997239429\n"
     ]
    },
    {
     "name": "stderr",
     "output_type": "stream",
     "text": [
      "\n"
     ]
    }
   ],
   "source": [
    "eln = LogisticRegression(penalty='elasticnet', solver='saga', max_iter=10000000)\n",
    "# param_grid = {'logisticregression__C': np.logspace(-4, 1, 10),\n",
    "#              'logisticregression__l1_ratio': np.append(np.logspace(-3, 0, 5), 0)}\n",
    "models_eln = []\n",
    "for i in tqdm(range(5)):\n",
    "    grid, test_score = ML_pipeline_GridSearchCV(train_X, train_y, test_X, test_y, \n",
    "                                                eln, param_grid, i, custom_cv, pr_auc_scorer)\n",
    "    print(grid.best_params_)\n",
    "    print('best CV score:', grid.best_score_)\n",
    "    print('test score:',test_score)\n",
    "    models_eln.append(grid)"
   ]
  },
  {
   "cell_type": "markdown",
   "metadata": {},
   "source": [
    "### f) aNSC_NPC <a name=\"8.-aNSC_NPC\"></a>"
   ]
  },
  {
   "cell_type": "code",
   "execution_count": 15,
   "metadata": {},
   "outputs": [
    {
     "name": "stdout",
     "output_type": "stream",
     "text": [
      "Finished data prepration for aNSC_NPC\n"
     ]
    }
   ],
   "source": [
    "cell_type = 'aNSC_NPC'\n",
    "\n",
    "train_X, train_y, test_X, test_y, custom_cv = data_prep(input_test, input_train,\n",
    "                                                        cell_type, binarization=True)"
   ]
  },
  {
   "cell_type": "code",
   "execution_count": 16,
   "metadata": {},
   "outputs": [
    {
     "name": "stderr",
     "output_type": "stream",
     "text": [
      " 10%|█         | 1/10 [09:26<1:24:57, 566.39s/it]"
     ]
    },
    {
     "name": "stdout",
     "output_type": "stream",
     "text": [
      "{'logisticregression__C': 0.046415888336127774, 'logisticregression__l1_ratio': 0.0}\n",
      "best CV score: 0.8442464008956284\n",
      "test score: 0.8517405377794788\n"
     ]
    },
    {
     "name": "stderr",
     "output_type": "stream",
     "text": [
      "\r",
      " 20%|██        | 2/10 [18:54<1:15:39, 567.50s/it]"
     ]
    },
    {
     "name": "stdout",
     "output_type": "stream",
     "text": [
      "{'logisticregression__C': 0.046415888336127774, 'logisticregression__l1_ratio': 0.0}\n",
      "best CV score: 0.8442031335776572\n",
      "test score: 0.8517412625736818\n"
     ]
    },
    {
     "name": "stderr",
     "output_type": "stream",
     "text": [
      "\r",
      " 30%|███       | 3/10 [28:18<1:05:59, 565.66s/it]"
     ]
    },
    {
     "name": "stdout",
     "output_type": "stream",
     "text": [
      "{'logisticregression__C': 0.046415888336127774, 'logisticregression__l1_ratio': 0.0}\n",
      "best CV score: 0.8442695830660417\n",
      "test score: 0.8519005626618357\n"
     ]
    },
    {
     "name": "stderr",
     "output_type": "stream",
     "text": [
      "\r",
      " 40%|████      | 4/10 [37:43<56:33, 565.63s/it]  "
     ]
    },
    {
     "name": "stdout",
     "output_type": "stream",
     "text": [
      "{'logisticregression__C': 0.046415888336127774, 'logisticregression__l1_ratio': 0.0}\n",
      "best CV score: 0.8441089718362459\n",
      "test score: 0.8519005626618357\n"
     ]
    },
    {
     "name": "stderr",
     "output_type": "stream",
     "text": [
      "\r",
      " 50%|█████     | 5/10 [47:20<47:28, 569.76s/it]"
     ]
    },
    {
     "name": "stdout",
     "output_type": "stream",
     "text": [
      "{'logisticregression__C': 0.046415888336127774, 'logisticregression__l1_ratio': 0.001}\n",
      "best CV score: 0.8440976628062196\n",
      "test score: 0.8532791511662958\n"
     ]
    },
    {
     "name": "stderr",
     "output_type": "stream",
     "text": [
      "\r",
      " 60%|██████    | 6/10 [56:45<37:52, 568.11s/it]"
     ]
    },
    {
     "name": "stdout",
     "output_type": "stream",
     "text": [
      "{'logisticregression__C': 0.046415888336127774, 'logisticregression__l1_ratio': 0.0}\n",
      "best CV score: 0.8443697572249688\n",
      "test score: 0.8519710218501044\n"
     ]
    },
    {
     "name": "stderr",
     "output_type": "stream",
     "text": [
      "\r",
      " 70%|███████   | 7/10 [1:06:10<28:21, 567.04s/it]"
     ]
    },
    {
     "name": "stdout",
     "output_type": "stream",
     "text": [
      "{'logisticregression__C': 0.046415888336127774, 'logisticregression__l1_ratio': 0.0}\n",
      "best CV score: 0.8444015616366116\n",
      "test score: 0.8513204148376787\n"
     ]
    },
    {
     "name": "stderr",
     "output_type": "stream",
     "text": [
      "\r",
      " 80%|████████  | 8/10 [1:15:34<18:52, 566.10s/it]"
     ]
    },
    {
     "name": "stdout",
     "output_type": "stream",
     "text": [
      "{'logisticregression__C': 0.046415888336127774, 'logisticregression__l1_ratio': 0.0}\n",
      "best CV score: 0.8443557002145363\n",
      "test score: 0.8519005626618357\n"
     ]
    },
    {
     "name": "stderr",
     "output_type": "stream",
     "text": [
      "\r",
      " 90%|█████████ | 9/10 [1:24:57<09:25, 565.13s/it]"
     ]
    },
    {
     "name": "stdout",
     "output_type": "stream",
     "text": [
      "{'logisticregression__C': 0.046415888336127774, 'logisticregression__l1_ratio': 0.0}\n",
      "best CV score: 0.8444229568009414\n",
      "test score: 0.8519710218501044\n"
     ]
    },
    {
     "name": "stderr",
     "output_type": "stream",
     "text": [
      "100%|██████████| 10/10 [1:34:22<00:00, 566.29s/it]"
     ]
    },
    {
     "name": "stdout",
     "output_type": "stream",
     "text": [
      "{'logisticregression__C': 0.046415888336127774, 'logisticregression__l1_ratio': 0.0}\n",
      "best CV score: 0.8444979440815714\n",
      "test score: 0.8519005626618357\n"
     ]
    },
    {
     "name": "stderr",
     "output_type": "stream",
     "text": [
      "\n"
     ]
    }
   ],
   "source": [
    "eln = LogisticRegression(penalty='elasticnet', solver='saga', max_iter=10000000)\n",
    "# param_grid = {'logisticregression__C': np.logspace(-4, 1, 10),\n",
    "#              'logisticregression__l1_ratio': np.append(np.logspace(-3, 0, 5), 0)}\n",
    "models_eln = []\n",
    "for i in tqdm(range(10)):\n",
    "    grid, test_score = ML_pipeline_GridSearchCV(train_X, train_y, test_X, test_y, \n",
    "                                                eln, param_grid, i, custom_cv, pr_auc_scorer)\n",
    "    print(grid.best_params_)\n",
    "    print('best CV score:', grid.best_score_)\n",
    "    print('test score:',test_score)\n",
    "    models_eln.append(grid)"
   ]
  },
  {
   "cell_type": "markdown",
   "metadata": {},
   "source": [
    "### g) Mural <a name=\"9.-Mural\"></a>"
   ]
  },
  {
   "cell_type": "code",
   "execution_count": 17,
   "metadata": {},
   "outputs": [
    {
     "name": "stdout",
     "output_type": "stream",
     "text": [
      "Finished data prepration for Mural\n"
     ]
    }
   ],
   "source": [
    "cell_type = 'Mural'\n",
    "\n",
    "train_X, train_y, test_X, test_y, custom_cv = data_prep(input_test, input_train,\n",
    "                                                        cell_type, binarization=True)"
   ]
  },
  {
   "cell_type": "code",
   "execution_count": 18,
   "metadata": {},
   "outputs": [
    {
     "name": "stderr",
     "output_type": "stream",
     "text": [
      " 10%|█         | 1/10 [05:58<53:48, 358.72s/it]"
     ]
    },
    {
     "name": "stdout",
     "output_type": "stream",
     "text": [
      "{'logisticregression__C': 0.046415888336127774, 'logisticregression__l1_ratio': 0.0}\n",
      "best CV score: 0.8971336026856878\n",
      "test score: 0.9639287219372886\n"
     ]
    },
    {
     "name": "stderr",
     "output_type": "stream",
     "text": [
      "\r",
      " 20%|██        | 2/10 [11:56<47:47, 358.41s/it]"
     ]
    },
    {
     "name": "stdout",
     "output_type": "stream",
     "text": [
      "{'logisticregression__C': 0.046415888336127774, 'logisticregression__l1_ratio': 0.0}\n",
      "best CV score: 0.8970579342621527\n",
      "test score: 0.9639287219372886\n"
     ]
    },
    {
     "name": "stderr",
     "output_type": "stream",
     "text": [
      "\r",
      " 30%|███       | 3/10 [17:56<41:51, 358.74s/it]"
     ]
    },
    {
     "name": "stdout",
     "output_type": "stream",
     "text": [
      "{'logisticregression__C': 0.046415888336127774, 'logisticregression__l1_ratio': 0.0}\n",
      "best CV score: 0.8970968136913157\n",
      "test score: 0.9639390962441781\n"
     ]
    },
    {
     "name": "stderr",
     "output_type": "stream",
     "text": [
      "\r",
      " 40%|████      | 4/10 [23:54<35:52, 358.71s/it]"
     ]
    },
    {
     "name": "stdout",
     "output_type": "stream",
     "text": [
      "{'logisticregression__C': 0.046415888336127774, 'logisticregression__l1_ratio': 0.0}\n",
      "best CV score: 0.8971001752853326\n",
      "test score: 0.9639358094616334\n"
     ]
    },
    {
     "name": "stderr",
     "output_type": "stream",
     "text": [
      "\r",
      " 50%|█████     | 5/10 [29:51<29:50, 358.13s/it]"
     ]
    },
    {
     "name": "stdout",
     "output_type": "stream",
     "text": [
      "{'logisticregression__C': 0.046415888336127774, 'logisticregression__l1_ratio': 0.0}\n",
      "best CV score: 0.8971371350776924\n",
      "test score: 0.9639358094616334\n"
     ]
    },
    {
     "name": "stderr",
     "output_type": "stream",
     "text": [
      "\r",
      " 60%|██████    | 6/10 [35:51<23:54, 358.70s/it]"
     ]
    },
    {
     "name": "stdout",
     "output_type": "stream",
     "text": [
      "{'logisticregression__C': 0.046415888336127774, 'logisticregression__l1_ratio': 0.0}\n",
      "best CV score: 0.8970680951643372\n",
      "test score: 0.9639390962441781\n"
     ]
    },
    {
     "name": "stderr",
     "output_type": "stream",
     "text": [
      "\r",
      " 70%|███████   | 7/10 [41:51<17:57, 359.18s/it]"
     ]
    },
    {
     "name": "stdout",
     "output_type": "stream",
     "text": [
      "{'logisticregression__C': 0.046415888336127774, 'logisticregression__l1_ratio': 0.0}\n",
      "best CV score: 0.8971046136630412\n",
      "test score: 0.9639357643420605\n"
     ]
    },
    {
     "name": "stderr",
     "output_type": "stream",
     "text": [
      "\r",
      " 80%|████████  | 8/10 [47:49<11:57, 358.87s/it]"
     ]
    },
    {
     "name": "stdout",
     "output_type": "stream",
     "text": [
      "{'logisticregression__C': 0.046415888336127774, 'logisticregression__l1_ratio': 0.0}\n",
      "best CV score: 0.897117879308527\n",
      "test score: 0.9639358094616334\n"
     ]
    },
    {
     "name": "stderr",
     "output_type": "stream",
     "text": [
      "\r",
      " 90%|█████████ | 9/10 [53:47<05:58, 358.51s/it]"
     ]
    },
    {
     "name": "stdout",
     "output_type": "stream",
     "text": [
      "{'logisticregression__C': 0.046415888336127774, 'logisticregression__l1_ratio': 0.0}\n",
      "best CV score: 0.897128830407301\n",
      "test score: 0.9639358094616334\n"
     ]
    },
    {
     "name": "stderr",
     "output_type": "stream",
     "text": [
      "100%|██████████| 10/10 [59:42<00:00, 358.27s/it]"
     ]
    },
    {
     "name": "stdout",
     "output_type": "stream",
     "text": [
      "{'logisticregression__C': 0.046415888336127774, 'logisticregression__l1_ratio': 0.0}\n",
      "best CV score: 0.8970885195215789\n",
      "test score: 0.9639287219372886\n"
     ]
    },
    {
     "name": "stderr",
     "output_type": "stream",
     "text": [
      "\n"
     ]
    }
   ],
   "source": [
    "eln = LogisticRegression(penalty='elasticnet', solver='saga', max_iter=10000000)\n",
    "# param_grid = {'logisticregression__C': np.logspace(-4, 1, 10),\n",
    "#              'logisticregression__l1_ratio': np.append(np.logspace(-3, 0, 5), 0)}\n",
    "models_eln = []\n",
    "for i in tqdm(range(10)):\n",
    "    grid, test_score = ML_pipeline_GridSearchCV(train_X, train_y, test_X, test_y, \n",
    "                                                eln, param_grid, i, custom_cv, pr_auc_scorer)\n",
    "    print(grid.best_params_)\n",
    "    print('best CV score:', grid.best_score_)\n",
    "    print('test score:',test_score)\n",
    "    models_eln.append(grid)"
   ]
  }
 ],
 "metadata": {
  "kernelspec": {
   "display_name": "cellpymc",
   "language": "python",
   "name": "cellpymc"
  },
  "language_info": {
   "codemirror_mode": {
    "name": "ipython",
    "version": 3
   },
   "file_extension": ".py",
   "mimetype": "text/x-python",
   "name": "python",
   "nbconvert_exporter": "python",
   "pygments_lexer": "ipython3",
   "version": "3.7.10"
  }
 },
 "nbformat": 4,
 "nbformat_minor": 4
}
