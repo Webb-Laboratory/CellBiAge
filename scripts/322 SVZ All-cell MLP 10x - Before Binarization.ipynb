{
 "cells": [
  {
   "cell_type": "markdown",
   "id": "450c5f65",
   "metadata": {},
   "source": [
    "# Best MLP model over ten random seends before binarization"
   ]
  },
  {
   "cell_type": "markdown",
   "id": "75da70db",
   "metadata": {},
   "source": [
    "## Outline\n",
    "\n",
    "The **MLAging - SVZ all-cell** workflow consists of sections:\n",
    "\n",
    "`30 SVZpreprocessing.R` Data preprocessing and preparation in Seurat.\n",
    "\n",
    "`311 SVZ All-cell ELN Tuning - Before Binarization` ML model tunning using *non-binarized* HVGs and hyperparameter selection using `GridSearchCV`.\n",
    "\n",
    "`312 SVZ All-cell ELN Tuning - After Binarization` ML model tunning using *binarized* HVGs and hyperparameter selection using `GridSearchCV`.\n",
    "\n",
    "`321 SVZ All-cell ELN 10x` Run the best ELN model for both binarized and nonbinarized HVGs over 10 random seeds.\n",
    "\n",
    "`322 SVZ All-cell MLP 10x - Before Binarization` Run the best MLP model for *non-binarized* HVGs over 10 random seeds  -- **this notebook:** \n",
    "\n",
    "`323 SVZ All-cell MLP 10x - After Binarization` Run the best MLP model for *binarized* HVGs over 10 random seeds.\n",
    " \n",
    "`33 SVZ All-cell Model Result Viz` Result visulization.\n",
    "\n",
    "`34 SVZ All-cell Stat` Stat test on whether exercise rejuvenates cells."
   ]
  },
  {
   "cell_type": "code",
   "execution_count": null,
   "id": "fa129008",
   "metadata": {},
   "outputs": [],
   "source": [
    "from src.keras_tuner_cv import *\n",
    "from src.data_processing import *\n",
    "\n",
    "import keras_tuner as kt\n",
    "import pandas as pd\n",
    "import numpy as np\n",
    "import os\n",
    "import click\n",
    "import datetime\n",
    "import matplotlib\n",
    "from matplotlib import pyplot as plt\n",
    "import seaborn as sns\n",
    "matplotlib.rcParams['pdf.fonttype'] = 42"
   ]
  },
  {
   "cell_type": "code",
   "execution_count": null,
   "id": "31e4b071",
   "metadata": {},
   "outputs": [],
   "source": [
    "from src.mlp import *"
   ]
  },
  {
   "cell_type": "code",
   "execution_count": null,
   "id": "cd35afb8",
   "metadata": {},
   "outputs": [],
   "source": [
    "tf.config.experimental.list_physical_devices('GPU')"
   ]
  },
  {
   "cell_type": "code",
   "execution_count": null,
   "id": "8f6abd97",
   "metadata": {},
   "outputs": [],
   "source": [
    "os.environ[\"CUDA_VISIBLE_DEVICES\"]=\"1\""
   ]
  },
  {
   "cell_type": "code",
   "execution_count": null,
   "id": "49ea21c3",
   "metadata": {},
   "outputs": [],
   "source": [
    "input_train = '../data/svz_processed/svz_ctl_train_cell_sep3integ_batch1.csv'\n",
    "input_test = '../data/svz_processed/svz_ctl_test_cell_sep3integ_batch2.csv'"
   ]
  },
  {
   "cell_type": "code",
   "execution_count": null,
   "id": "9c08da37",
   "metadata": {
    "scrolled": true
   },
   "outputs": [],
   "source": [
    "train_X, train_y, test_X, test_y, custom_cv = data_prep(input_test, input_train, \"All\", binarization=False)"
   ]
  },
  {
   "cell_type": "code",
   "execution_count": null,
   "id": "6aa23ac4",
   "metadata": {
    "scrolled": true
   },
   "outputs": [],
   "source": [
    "parameters = Train_Params(\n",
    "        learning_rate=0.0003638889517052847,\n",
    "        loss=tf.keras.losses.BinaryCrossentropy(),\n",
    "        metrics=[tf.keras.metrics.BinaryAccuracy(), tf.keras.metrics.AUC(), tf.keras.metrics.AUC(num_thresholds=10000, name='AUPRC', curve='PR')],\n",
    "        epochs=100,\n",
    "        batch_size=32)\n",
    "early_stopping_cb = tf.keras.callbacks.EarlyStopping(monitor='AUPRC', patience=20)\n",
    "directory='../results/svz_int2/mlp_model_test_scores_nonbin'"
   ]
  },
  {
   "cell_type": "code",
   "execution_count": null,
   "id": "31aea2cf",
   "metadata": {},
   "outputs": [],
   "source": [
    "max_runs = 10\n",
    "feature_nums = [576, 576, 576, 576, 576, 576, 576]\n",
    "\n",
    "mlp_multiple_trials(max_runs, train_X, train_y, test_X, test_y, parameters, feature_nums, directory)   "
   ]
  },
  {
   "cell_type": "code",
   "execution_count": null,
   "id": "c14e0385",
   "metadata": {},
   "outputs": [],
   "source": [
    "for i in [0]:\n",
    "    print('randam state', i)\n",
    "    random.seed(42*i)\n",
    "    train_X1, train_y1 = shuffle(train_X, train_y, random_state=42*i)\n",
    "\n",
    "    model = Baseline_MLP(feature_nums)\n",
    "    # change the number of neurons accordingly\n",
    "    model.compile(optimizer=tf.keras.optimizers.Adam(learning_rate=parameters.learning_rate),\n",
    "                  loss=parameters.loss,\n",
    "                  metrics=parameters.metrics)\n",
    "        \n",
    "    history = model.fit(\n",
    "                train_X1, train_y1,\n",
    "                epochs=parameters.epochs,\n",
    "                verbose=2,\n",
    "                callbacks=[early_stopping_cb]\n",
    "            )\n",
    "        \n",
    "    test_X, test_y = shuffle(test_X, test_y, random_state=42*i)\n",
    "    test_result = model.evaluate(test_X, test_y, verbose=0)\n",
    "        \n",
    "    loss_test.append(test_result[0]) \n",
    "    AUPRC_test.append(test_result[3]) \n",
    "        \n",
    "    print('test result:', test_result)"
   ]
  },
  {
   "cell_type": "code",
   "execution_count": null,
   "id": "1856cd86",
   "metadata": {
    "scrolled": true
   },
   "outputs": [],
   "source": [
    "test_X, test_y = shuffle(test_X, test_y, random_state=42*i)\n",
    "model.evaluate(test_X, test_y, verbose=0)"
   ]
  }
 ],
 "metadata": {
  "kernelspec": {
   "display_name": "mlp",
   "language": "python",
   "name": "mlp"
  },
  "language_info": {
   "codemirror_mode": {
    "name": "ipython",
    "version": 3
   },
   "file_extension": ".py",
   "mimetype": "text/x-python",
   "name": "python",
   "nbconvert_exporter": "python",
   "pygments_lexer": "ipython3",
   "version": "3.9.0"
  }
 },
 "nbformat": 4,
 "nbformat_minor": 5
}
