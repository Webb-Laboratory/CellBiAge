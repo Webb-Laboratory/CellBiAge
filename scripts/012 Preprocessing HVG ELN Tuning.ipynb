{
 "cells": [
  {
   "cell_type": "markdown",
   "metadata": {},
   "source": [
    "# ELN tuning for different preprocessing methods - HVGs"
   ]
  },
  {
   "cell_type": "markdown",
   "metadata": {},
   "source": [
    "## Outline\n",
    "\n",
    "The **MLAging - preprocessing** workflow consists of sections:\n",
    "\n",
    "`00 preprocessing.R` Data preprocessing and preparation in Seurat.\n",
    "\n",
    "`011 Preprocessing HEG ELN Tuning` ELN model tunning using highly expressed genes (HEGs) and hyperparameter selection using `GridSearchCV`.\n",
    "\n",
    "`012 Preprocessing HVG ELN Tuning` ELN model tunning using highly variable genes (HVGs) and hyperparameter selection using `GridSearchCV` -- **this notebook**:\n",
    "\n",
    "#### [HVG ELN Model Tunning](#6.-HVG)\n",
    " - [HVG-lognorm](#7.-hvg_lognorm)\n",
    " - [HVG-std](#8.-hvg_std)\n",
    " - [HVG-integration](#9-hvg_integrated)\n",
    " - [HVG-binarization](#10.-hvg_bin)\n",
    " \n",
    " \n",
    "`02 Preprocessing ELN Result 10x` Run the best ELN model over 10 random seeds.\n",
    "\n",
    "`03 Preprocessing ELN Result Viz` Result visulization."
   ]
  },
  {
   "cell_type": "code",
   "execution_count": 1,
   "metadata": {},
   "outputs": [],
   "source": [
    "import warnings\n",
    "warnings.filterwarnings('ignore')\n",
    "\n",
    "from src.data_processing import *\n",
    "from src.grid_search import *\n",
    "import os\n",
    "import numpy as np\n",
    "from sklearn.metrics import make_scorer\n",
    "from sklearn.linear_model import LogisticRegression\n",
    "from tqdm import tqdm\n",
    "import pickle\n",
    "\n",
    "data_type = 'float32'"
   ]
  },
  {
   "cell_type": "code",
   "execution_count": 2,
   "metadata": {},
   "outputs": [],
   "source": [
    "def assign_target(input_df):\n",
    "    input_df = pd.read_csv(input_df, index_col=0)\n",
    "    input_df['animal'] = input_df.index.str[-1]\n",
    "    input_df['target'] = ((input_df['animal'] =='3')|(input_df['animal']=='4')).astype(int)\n",
    "    return input_df"
   ]
  },
  {
   "cell_type": "code",
   "execution_count": 3,
   "metadata": {},
   "outputs": [],
   "source": [
    "def train_test_split(input_train, input_test, binarization=False):\n",
    "    \n",
    "    df_test = assign_target(input_test)\n",
    "    test_X = df_test.iloc[:,:-2]\n",
    "    test_y = df_test.target\n",
    "    test_X, test_y = shuffle(test_X, test_y, random_state=42)\n",
    "\n",
    "    df_train = assign_target(input_train)\n",
    "    train = df_train.reset_index()\n",
    "    custom_cv = customized_cv_index(train)\n",
    "    \n",
    "    train_X = train.iloc[:,1:-2]\n",
    "    train_y = train.target\n",
    "    \n",
    "    if binarization==True:\n",
    "        test_X = binarize_data(test_X)\n",
    "        train_X = binarize_data(train_X)\n",
    "    \n",
    "    return train_X, train_y, test_X, test_y, custom_cv"
   ]
  },
  {
   "cell_type": "code",
   "execution_count": 4,
   "metadata": {},
   "outputs": [],
   "source": [
    "pr_auc_scorer = make_scorer(pr_auc_score, greater_is_better=True,\n",
    "                            needs_proba=True)"
   ]
  },
  {
   "cell_type": "code",
   "execution_count": 5,
   "metadata": {},
   "outputs": [],
   "source": [
    "from sklearn.linear_model import LogisticRegression"
   ]
  },
  {
   "cell_type": "markdown",
   "metadata": {},
   "source": [
    "## ELN model tuning for the top2k highly variable genes <a name=\"6.-HVG\"></a>"
   ]
  },
  {
   "cell_type": "markdown",
   "metadata": {},
   "source": [
    "### 1) HVG - log-normalized  <a name=\"7.-hvg_lognorm\"></a>"
   ]
  },
  {
   "cell_type": "code",
   "execution_count": 6,
   "metadata": {},
   "outputs": [],
   "source": [
    "input_train = '../data/train_hvg2k_lognorm_intersect.csv'\n",
    "input_test = '../data/test_hvg2k_lognorm_intersect.csv'"
   ]
  },
  {
   "cell_type": "code",
   "execution_count": 7,
   "metadata": {
    "scrolled": true
   },
   "outputs": [],
   "source": [
    "train_X, train_y, test_X, test_y, custom_cv = train_test_split(input_train, input_test, binarization=False)"
   ]
  },
  {
   "cell_type": "code",
   "execution_count": 14,
   "metadata": {},
   "outputs": [
    {
     "name": "stderr",
     "output_type": "stream",
     "text": [
      " 33%|███▎      | 1/3 [1:18:58<2:37:57, 4738.85s/it]"
     ]
    },
    {
     "name": "stdout",
     "output_type": "stream",
     "text": [
      "{'logisticregression__C': 100.0, 'logisticregression__l1_ratio': 1.0}\n",
      "best CV score: 0.570585246467588\n",
      "test score: 0.7207469897663866\n"
     ]
    },
    {
     "name": "stderr",
     "output_type": "stream",
     "text": [
      "\r",
      " 67%|██████▋   | 2/3 [2:38:01<1:19:01, 4741.26s/it]"
     ]
    },
    {
     "name": "stdout",
     "output_type": "stream",
     "text": [
      "{'logisticregression__C': 100.0, 'logisticregression__l1_ratio': 1.0}\n",
      "best CV score: 0.5705849468730947\n",
      "test score: 0.7207472743691319\n"
     ]
    },
    {
     "name": "stderr",
     "output_type": "stream",
     "text": [
      "100%|██████████| 3/3 [3:56:55<00:00, 4738.40s/it]  "
     ]
    },
    {
     "name": "stdout",
     "output_type": "stream",
     "text": [
      "{'logisticregression__C': 100.0, 'logisticregression__l1_ratio': 1.0}\n",
      "best CV score: 0.5705849196511922\n",
      "test score: 0.7207473414535435\n"
     ]
    },
    {
     "name": "stderr",
     "output_type": "stream",
     "text": [
      "\n"
     ]
    }
   ],
   "source": [
    "eln = LogisticRegression(penalty='elasticnet', solver='saga', max_iter=10000000)\n",
    "param_grid = {'logisticregression__C': np.logspace(-2, 2, 10),\n",
    "             'logisticregression__l1_ratio': np.logspace(-3, 0, 6)}\n",
    "models_eln = []\n",
    "for i in tqdm(range(3)):\n",
    "    grid, test_score = ML_pipeline_GridSearchCV(train_X, train_y, test_X, test_y, \n",
    "                                                eln, param_grid, i, custom_cv, pr_auc_scorer)\n",
    "    \n",
    "    print(grid.best_params_)\n",
    "    print('best CV score:', grid.best_score_)\n",
    "    print('test score:',test_score)\n",
    "    models_eln.append(grid)"
   ]
  },
  {
   "cell_type": "markdown",
   "metadata": {},
   "source": [
    "### 2) HVG - log-normalized  + scaled <a name=\"8.-hvg_std\"></a>"
   ]
  },
  {
   "cell_type": "code",
   "execution_count": 15,
   "metadata": {},
   "outputs": [],
   "source": [
    "input_train = '../data/train_hvg2k_std_intersect.csv'\n",
    "input_test = '../data/test_hvg2k_std_intersect.csv'"
   ]
  },
  {
   "cell_type": "code",
   "execution_count": 16,
   "metadata": {},
   "outputs": [],
   "source": [
    "train_X, train_y, test_X, test_y, custom_cv = train_test_split(input_train, input_test, binarization=False)"
   ]
  },
  {
   "cell_type": "code",
   "execution_count": 17,
   "metadata": {},
   "outputs": [
    {
     "name": "stderr",
     "output_type": "stream",
     "text": [
      " 33%|███▎      | 1/3 [41:18<1:22:37, 2478.86s/it]"
     ]
    },
    {
     "name": "stdout",
     "output_type": "stream",
     "text": [
      "{'logisticregression__C': 0.01, 'logisticregression__l1_ratio': 0.0630957344480193}\n",
      "best CV score: 0.5719506435814674\n",
      "test score: 0.7285211656167588\n"
     ]
    },
    {
     "name": "stderr",
     "output_type": "stream",
     "text": [
      "\r",
      " 67%|██████▋   | 2/3 [1:22:37<41:18, 2478.65s/it]"
     ]
    },
    {
     "name": "stdout",
     "output_type": "stream",
     "text": [
      "{'logisticregression__C': 0.01, 'logisticregression__l1_ratio': 0.0630957344480193}\n",
      "best CV score: 0.5719522738697693\n",
      "test score: 0.7285214181381353\n"
     ]
    },
    {
     "name": "stderr",
     "output_type": "stream",
     "text": [
      "100%|██████████| 3/3 [2:03:58<00:00, 2479.53s/it]"
     ]
    },
    {
     "name": "stdout",
     "output_type": "stream",
     "text": [
      "{'logisticregression__C': 0.01, 'logisticregression__l1_ratio': 0.0630957344480193}\n",
      "best CV score: 0.5719510537064791\n",
      "test score: 0.7285205797900898\n"
     ]
    },
    {
     "name": "stderr",
     "output_type": "stream",
     "text": [
      "\n"
     ]
    }
   ],
   "source": [
    "eln = LogisticRegression(penalty='elasticnet', solver='saga', max_iter=10000000)\n",
    "\n",
    "param_grid = {'logisticregression__C': np.logspace(-2, 2, 10),\n",
    "             'logisticregression__l1_ratio': np.logspace(-3, 0, 6)}\n",
    "models_eln = []\n",
    "for i in tqdm(range(3)):\n",
    "    grid, test_score = ML_pipeline_GridSearchCV(train_X, train_y, test_X, test_y, \n",
    "                                                eln, param_grid, i, custom_cv, pr_auc_scorer)\n",
    "    \n",
    "    print(grid.best_params_)\n",
    "    print('best CV score:', grid.best_score_)\n",
    "    print('test score:',test_score)\n",
    "    models_eln.append(grid)"
   ]
  },
  {
   "cell_type": "markdown",
   "metadata": {},
   "source": [
    "### 3) HVG - log-normalized  + scaled + integrated <a name=\"9-hvg_integrated\"></a>"
   ]
  },
  {
   "cell_type": "code",
   "execution_count": 18,
   "metadata": {},
   "outputs": [],
   "source": [
    "input_train = '../../../MLAging/data/train_hvg2k_std_integrated.csv'\n",
    "input_test = '../../../MLAging/data/test_hvg2k_std_integrated.csv'"
   ]
  },
  {
   "cell_type": "code",
   "execution_count": 19,
   "metadata": {},
   "outputs": [],
   "source": [
    "train_X, train_y, test_X, test_y, custom_cv = train_test_split(input_train, input_test, binarization=False)"
   ]
  },
  {
   "cell_type": "code",
   "execution_count": 20,
   "metadata": {},
   "outputs": [
    {
     "name": "stderr",
     "output_type": "stream",
     "text": [
      " 33%|███▎      | 1/3 [14:43<29:26, 883.38s/it]"
     ]
    },
    {
     "name": "stdout",
     "output_type": "stream",
     "text": [
      "{'logisticregression__C': 0.01, 'logisticregression__l1_ratio': 1.0}\n",
      "best CV score: 0.5277449441700237\n",
      "test score: 0.6977447142194114\n"
     ]
    },
    {
     "name": "stderr",
     "output_type": "stream",
     "text": [
      "\r",
      " 67%|██████▋   | 2/3 [29:28<14:44, 884.20s/it]"
     ]
    },
    {
     "name": "stdout",
     "output_type": "stream",
     "text": [
      "{'logisticregression__C': 0.01, 'logisticregression__l1_ratio': 1.0}\n",
      "best CV score: 0.5277448927049289\n",
      "test score: 0.6977438552916828\n"
     ]
    },
    {
     "name": "stderr",
     "output_type": "stream",
     "text": [
      "100%|██████████| 3/3 [44:17<00:00, 885.76s/it]"
     ]
    },
    {
     "name": "stdout",
     "output_type": "stream",
     "text": [
      "{'logisticregression__C': 0.01, 'logisticregression__l1_ratio': 1.0}\n",
      "best CV score: 0.5277443321006587\n",
      "test score: 0.6977452605024097\n"
     ]
    },
    {
     "name": "stderr",
     "output_type": "stream",
     "text": [
      "\n"
     ]
    }
   ],
   "source": [
    "eln = LogisticRegression(penalty='elasticnet', solver='saga', max_iter=10000000)\n",
    "\n",
    "param_grid = {'logisticregression__C': np.logspace(-2, 2, 10),\n",
    "             'logisticregression__l1_ratio': np.logspace(-3, 0, 6)}\n",
    "models_eln = []\n",
    "for i in tqdm(range(3)):\n",
    "    grid, test_score = ML_pipeline_GridSearchCV(train_X, train_y, test_X, test_y, \n",
    "                                                eln, param_grid, i, custom_cv, pr_auc_scorer)\n",
    "    \n",
    "    print(grid.best_params_)\n",
    "    print('best CV score:', grid.best_score_)\n",
    "    print('test score:',test_score)\n",
    "    models_eln.append(grid)"
   ]
  },
  {
   "cell_type": "markdown",
   "metadata": {},
   "source": [
    "### 4) HVG - log-normalized  + scaled + integrated + binarized<a name=\"10.-hvg_bin\"></a>"
   ]
  },
  {
   "cell_type": "code",
   "execution_count": 23,
   "metadata": {},
   "outputs": [],
   "source": [
    "train_X, train_y, test_X, test_y, custom_cv = train_test_split(input_train, input_test, binarization=True)"
   ]
  },
  {
   "cell_type": "code",
   "execution_count": 24,
   "metadata": {
    "scrolled": false
   },
   "outputs": [
    {
     "name": "stderr",
     "output_type": "stream",
     "text": [
      " 33%|███▎      | 1/3 [1:05:03<2:10:07, 3903.51s/it]"
     ]
    },
    {
     "name": "stdout",
     "output_type": "stream",
     "text": [
      "{'logisticregression__C': 0.027825594022071243, 'logisticregression__l1_ratio': 0.015848931924611134}\n",
      "best CV score: 0.9755697526833953\n",
      "test score: 0.9674268126301244\n"
     ]
    },
    {
     "name": "stderr",
     "output_type": "stream",
     "text": [
      "\r",
      " 67%|██████▋   | 2/3 [2:10:13<1:05:07, 3907.32s/it]"
     ]
    },
    {
     "name": "stdout",
     "output_type": "stream",
     "text": [
      "{'logisticregression__C': 0.027825594022071243, 'logisticregression__l1_ratio': 0.015848931924611134}\n",
      "best CV score: 0.9755700544530364\n",
      "test score: 0.9674311401834192\n"
     ]
    },
    {
     "name": "stderr",
     "output_type": "stream",
     "text": [
      "100%|██████████| 3/3 [3:17:15<00:00, 3945.08s/it]  "
     ]
    },
    {
     "name": "stdout",
     "output_type": "stream",
     "text": [
      "{'logisticregression__C': 0.027825594022071243, 'logisticregression__l1_ratio': 0.015848931924611134}\n",
      "best CV score: 0.9755704713033182\n",
      "test score: 0.9674272931931669\n"
     ]
    },
    {
     "name": "stderr",
     "output_type": "stream",
     "text": [
      "\n"
     ]
    }
   ],
   "source": [
    "eln = LogisticRegression(penalty='elasticnet', solver='saga', max_iter=10000000)\n",
    "\n",
    "param_grid = {'logisticregression__C': np.logspace(-2, 2, 10),\n",
    "             'logisticregression__l1_ratio': np.logspace(-3, 0, 6)}\n",
    "models_eln = []\n",
    "for i in tqdm(range(3)):\n",
    "    grid, test_score = ML_pipeline_GridSearchCV(train_X, train_y, test_X, test_y, \n",
    "                                                eln, param_grid, i, custom_cv, pr_auc_scorer)\n",
    "    \n",
    "    print(grid.best_params_)\n",
    "    print('best CV score:', grid.best_score_)\n",
    "    print('test score:',test_score)\n",
    "    models_eln.append(grid)"
   ]
  }
 ],
 "metadata": {
  "kernelspec": {
   "display_name": "cellpymc",
   "language": "python",
   "name": "cellpymc"
  },
  "language_info": {
   "codemirror_mode": {
    "name": "ipython",
    "version": 3
   },
   "file_extension": ".py",
   "mimetype": "text/x-python",
   "name": "python",
   "nbconvert_exporter": "python",
   "pygments_lexer": "ipython3",
   "version": "3.7.10"
  }
 },
 "nbformat": 4,
 "nbformat_minor": 4
}
