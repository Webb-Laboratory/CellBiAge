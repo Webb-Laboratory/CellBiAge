{
 "cells": [
  {
   "cell_type": "markdown",
   "metadata": {},
   "source": [
    "# The ElasticNet tuning (specific cell types)"
   ]
  },
  {
   "cell_type": "markdown",
   "metadata": {},
   "source": [
    "## Outline\n",
    "\n",
    "The **MLAging Cell-type** workflow consists of four sections:\n",
    "\n",
    "I. Data Preprocessing in Seurat ```preprocessing.R```\n",
    "\n",
    "II. ElasticNet Tuning (hyperparameter selection for  with ```GridSearchCV```) -- **this notebook**:\n",
    "\n",
    "1. [Data Preparation](#1.-prep)\n",
    "2. [Cell Types](#2.-celltypes)\n",
    "    - [Neuron](#3.-neuron)\n",
    "    - [Oligodendrycte](#4.-Oligo)\n",
    "    - [Astrocyte](#5.-astro)\n",
    "    - [Microglia](#6.-micro)\n",
    "\n",
    "III. Final Models Over 10 Random States\n",
    "\n",
    "IV. Results and Intepretations"
   ]
  },
  {
   "cell_type": "code",
   "execution_count": 1,
   "metadata": {
    "scrolled": true
   },
   "outputs": [],
   "source": [
    "import warnings\n",
    "warnings.filterwarnings('ignore')\n",
    "\n",
    "from src.data_processing import *\n",
    "from src.grid_search import *\n",
    "import os\n",
    "import numpy as np\n",
    "from sklearn.metrics import make_scorer\n",
    "from sklearn.linear_model import LogisticRegression\n",
    "from tqdm import tqdm\n",
    "import pickle\n",
    "\n",
    "data_type = 'float32'"
   ]
  },
  {
   "cell_type": "markdown",
   "metadata": {},
   "source": [
    "## 1. Data Preparation <a name=\"1.-prep\"></a>\n",
    "### Load training, testing batch"
   ]
  },
  {
   "cell_type": "code",
   "execution_count": 2,
   "metadata": {
    "scrolled": false
   },
   "outputs": [
    {
     "name": "stdout",
     "output_type": "stream",
     "text": [
      "Finished data prepration\n"
     ]
    }
   ],
   "source": [
    "input_test = '../data/test_final_group_info.csv'\n",
    "input_train = '../data/train_final_group_info.csv'"
   ]
  },
  {
   "cell_type": "code",
   "execution_count": 19,
   "metadata": {},
   "outputs": [],
   "source": [
    "pr_auc_scorer = make_scorer(pr_auc_score, greater_is_better=True,\n",
    "                            needs_proba=True)"
   ]
  },
  {
   "cell_type": "markdown",
   "metadata": {},
   "source": [
    "## 2. Cell-type specific models<a name=\"2.-celltypes\"></a>"
   ]
  },
  {
   "cell_type": "markdown",
   "metadata": {},
   "source": [
    "### a) Neuron <a name=\"2.-celltypes\"></a><a name=\"3.-neuron\"></a>"
   ]
  },
  {
   "cell_type": "code",
   "execution_count": null,
   "metadata": {},
   "outputs": [],
   "source": [
    "cell_type = 'Neuron'\n",
    "\n",
    "train_X, train_y, test_X, test_y, custom_cv = data_prep(input_test, input_train,\n",
    "                                                        cell_type, binarization=True)"
   ]
  },
  {
   "cell_type": "code",
   "execution_count": null,
   "metadata": {
    "scrolled": false
   },
   "outputs": [
    {
     "name": "stderr",
     "output_type": "stream",
     "text": [
      " 10%|█         | 1/10 [46:59<7:02:58, 2819.83s/it]"
     ]
    },
    {
     "name": "stdout",
     "output_type": "stream",
     "text": [
      "{'logisticregression__C': 0.21544346900318834, 'logisticregression__l1_ratio': 0.05}\n",
      "best CV score: 0.9738372302135103\n",
      "test score: 0.9667233392013964\n"
     ]
    },
    {
     "name": "stderr",
     "output_type": "stream",
     "text": [
      "\r",
      " 20%|██        | 2/10 [2:00:36<8:21:12, 3759.04s/it]"
     ]
    },
    {
     "name": "stdout",
     "output_type": "stream",
     "text": [
      "{'logisticregression__C': 0.21544346900318834, 'logisticregression__l1_ratio': 0.05}\n",
      "best CV score: 0.9738373990074987\n",
      "test score: 0.9667239967503731\n"
     ]
    },
    {
     "name": "stderr",
     "output_type": "stream",
     "text": [
      "\r",
      " 30%|███       | 3/10 [3:12:55<7:49:29, 4024.16s/it]"
     ]
    },
    {
     "name": "stdout",
     "output_type": "stream",
     "text": [
      "{'logisticregression__C': 0.21544346900318834, 'logisticregression__l1_ratio': 0.05}\n",
      "best CV score: 0.973837767258314\n",
      "test score: 0.9667220366700146\n"
     ]
    },
    {
     "name": "stderr",
     "output_type": "stream",
     "text": [
      "\r",
      " 40%|████      | 4/10 [3:59:51<5:54:42, 3547.13s/it]"
     ]
    },
    {
     "name": "stdout",
     "output_type": "stream",
     "text": [
      "{'logisticregression__C': 0.21544346900318834, 'logisticregression__l1_ratio': 0.05}\n",
      "best CV score: 0.9738381720626543\n",
      "test score: 0.9667234148777877\n"
     ]
    },
    {
     "name": "stderr",
     "output_type": "stream",
     "text": [
      "\r",
      " 50%|█████     | 5/10 [4:46:40<4:33:24, 3280.87s/it]"
     ]
    },
    {
     "name": "stdout",
     "output_type": "stream",
     "text": [
      "{'logisticregression__C': 0.21544346900318834, 'logisticregression__l1_ratio': 0.05}\n",
      "best CV score: 0.9738379600306608\n",
      "test score: 0.9667218265108759\n"
     ]
    },
    {
     "name": "stderr",
     "output_type": "stream",
     "text": [
      "\r",
      " 60%|██████    | 6/10 [5:32:53<3:27:12, 3108.13s/it]"
     ]
    },
    {
     "name": "stdout",
     "output_type": "stream",
     "text": [
      "{'logisticregression__C': 0.21544346900318834, 'logisticregression__l1_ratio': 0.05}\n",
      "best CV score: 0.9738382557212457\n",
      "test score: 0.9667211608360007\n"
     ]
    },
    {
     "name": "stderr",
     "output_type": "stream",
     "text": [
      "\r",
      " 70%|███████   | 7/10 [6:19:44<2:30:33, 3011.15s/it]"
     ]
    },
    {
     "name": "stdout",
     "output_type": "stream",
     "text": [
      "{'logisticregression__C': 0.21544346900318834, 'logisticregression__l1_ratio': 0.05}\n",
      "best CV score: 0.9738382341542344\n",
      "test score: 0.9667211132379622\n"
     ]
    },
    {
     "name": "stderr",
     "output_type": "stream",
     "text": [
      "\r",
      " 80%|████████  | 8/10 [7:06:35<1:38:14, 2947.31s/it]"
     ]
    },
    {
     "name": "stdout",
     "output_type": "stream",
     "text": [
      "{'logisticregression__C': 0.21544346900318834, 'logisticregression__l1_ratio': 0.05}\n",
      "best CV score: 0.9738376129036088\n",
      "test score: 0.9667226250496714\n"
     ]
    },
    {
     "name": "stderr",
     "output_type": "stream",
     "text": [
      "\r",
      " 90%|█████████ | 9/10 [7:53:54<48:33, 2913.34s/it]  "
     ]
    },
    {
     "name": "stdout",
     "output_type": "stream",
     "text": [
      "{'logisticregression__C': 0.21544346900318834, 'logisticregression__l1_ratio': 0.05}\n",
      "best CV score: 0.9738378012807429\n",
      "test score: 0.9667228278444705\n"
     ]
    }
   ],
   "source": [
    "eln = LogisticRegression(penalty='elasticnet', solver='saga', max_iter=10000000)\n",
    "param_grid = {'logisticregression__C': np.logspace(-2, 1, 10),\n",
    "             'logisticregression__l1_ratio': [0.001, 0.01, 0.05, 0.5, 0.65, 0.8]}\n",
    "# [0.05, 0.1, 0.2, 0.35]\n",
    "models_eln = []\n",
    "for i in tqdm(range(10)):\n",
    "    grid, test_score = ML_pipeline_GridSearchCV(train_X, train_y, test_X, test_y, \n",
    "                                                eln, param_grid, i, custom_cv, pr_auc_scorer)\n",
    "    print(grid.best_params_)\n",
    "    print('best CV score:', grid.best_score_)\n",
    "    print('test score:',test_score)\n",
    "    models_eln.append(grid)"
   ]
  },
  {
   "cell_type": "code",
   "execution_count": 10,
   "metadata": {},
   "outputs": [],
   "source": [
    "file = open('../results/cell_type/eln_' + str(cell_type) + '_models_10_finer.save', 'wb')\n",
    "pickle.dump(models_eln, file)\n",
    "file.close()"
   ]
  },
  {
   "cell_type": "markdown",
   "metadata": {},
   "source": [
    "### b) Oligodendrycte <a name=\"2.-celltypes\"></a><a name=\"5.-Oligo\"></a>"
   ]
  },
  {
   "cell_type": "code",
   "execution_count": null,
   "metadata": {},
   "outputs": [],
   "source": [
    "cell_type = 'Oligodendrocyte'\n",
    "\n",
    "train_X, train_y, test_X, test_y, custom_cv = data_prep(input_test, input_train,\n",
    "                                                        cell_type, binarization=True)"
   ]
  },
  {
   "cell_type": "code",
   "execution_count": null,
   "metadata": {},
   "outputs": [],
   "source": [
    "eln = LogisticRegression(penalty='elasticnet', solver='saga', max_iter=10000000)\n",
    "param_grid = {'logisticregression__C': np.logspace(-2, 1, 10),\n",
    "             'logisticregression__l1_ratio': [0.001, 0.01, 0.05, 0.5, 0.65, 0.8]}\n",
    "# [0.05, 0.1, 0.2, 0.35]\n",
    "models_eln = []\n",
    "for i in tqdm(range(10)):\n",
    "    grid, test_score = ML_pipeline_GridSearchCV(train_X, train_y, test_X, test_y, \n",
    "                                                eln, param_grid, i, custom_cv, pr_auc_scorer)\n",
    "    print(grid.best_params_)\n",
    "    print('best CV score:', grid.best_score_)\n",
    "    print('test score:',test_score)\n",
    "    models_eln.append(grid)"
   ]
  },
  {
   "cell_type": "code",
   "execution_count": null,
   "metadata": {},
   "outputs": [],
   "source": [
    "file = open('../results/cell_type/eln_' + str(cell_type) + '_models_10_finer.save', 'wb')\n",
    "pickle.dump(models_eln, file)\n",
    "file.close()"
   ]
  },
  {
   "cell_type": "markdown",
   "metadata": {},
   "source": [
    "### c) Atrocyte <a name=\"2.-celltypes\"></a><a name=\"5.-astro\"></a>"
   ]
  },
  {
   "cell_type": "code",
   "execution_count": 3,
   "metadata": {
    "scrolled": true
   },
   "outputs": [
    {
     "name": "stdout",
     "output_type": "stream",
     "text": [
      "Finished data prepration\n"
     ]
    }
   ],
   "source": [
    "cell_type = 'Astrocyte'\n",
    "\n",
    "train_X, train_y, test_X, test_y, custom_cv = data_prep(input_test, input_train,\n",
    "                                                        cell_type, binarization=True)"
   ]
  },
  {
   "cell_type": "code",
   "execution_count": 14,
   "metadata": {},
   "outputs": [],
   "source": [
    "l1_ratio_list = np.append(np.logspace(-3, 0, 10), 0)"
   ]
  },
  {
   "cell_type": "code",
   "execution_count": 23,
   "metadata": {
    "scrolled": false
   },
   "outputs": [
    {
     "name": "stderr",
     "output_type": "stream",
     "text": [
      " 10%|█         | 1/10 [07:27<1:07:05, 447.23s/it]"
     ]
    },
    {
     "name": "stdout",
     "output_type": "stream",
     "text": [
      "{'logisticregression__C': 1.0, 'logisticregression__l1_ratio': 0.0}\n",
      "best CV score: 0.9791592799911145\n",
      "test score: 0.9593097922545175\n"
     ]
    },
    {
     "name": "stderr",
     "output_type": "stream",
     "text": [
      "\r",
      " 20%|██        | 2/10 [14:03<55:36, 417.00s/it]  "
     ]
    },
    {
     "name": "stdout",
     "output_type": "stream",
     "text": [
      "{'logisticregression__C': 1.0, 'logisticregression__l1_ratio': 0.0}\n",
      "best CV score: 0.9791672217468737\n",
      "test score: 0.9591400595622753\n"
     ]
    },
    {
     "name": "stderr",
     "output_type": "stream",
     "text": [
      "\r",
      " 30%|███       | 3/10 [20:35<47:19, 405.68s/it]"
     ]
    },
    {
     "name": "stdout",
     "output_type": "stream",
     "text": [
      "{'logisticregression__C': 1.0, 'logisticregression__l1_ratio': 0.0}\n",
      "best CV score: 0.9791217819393039\n",
      "test score: 0.9594909571849615\n"
     ]
    },
    {
     "name": "stderr",
     "output_type": "stream",
     "text": [
      "\r",
      " 40%|████      | 4/10 [27:15<40:20, 403.34s/it]"
     ]
    },
    {
     "name": "stdout",
     "output_type": "stream",
     "text": [
      "{'logisticregression__C': 4.641588833612772, 'logisticregression__l1_ratio': 0.0021544346900318843}\n",
      "best CV score: 0.9795257539453458\n",
      "test score: 0.9583835743128594\n"
     ]
    },
    {
     "name": "stderr",
     "output_type": "stream",
     "text": [
      "\r",
      " 50%|█████     | 5/10 [34:08<33:55, 407.01s/it]"
     ]
    },
    {
     "name": "stdout",
     "output_type": "stream",
     "text": [
      "{'logisticregression__C': 1.0, 'logisticregression__l1_ratio': 0.0}\n",
      "best CV score: 0.9792295727283665\n",
      "test score: 0.9596210756806711\n"
     ]
    },
    {
     "name": "stderr",
     "output_type": "stream",
     "text": [
      "\r",
      " 60%|██████    | 6/10 [41:14<27:33, 413.41s/it]"
     ]
    },
    {
     "name": "stdout",
     "output_type": "stream",
     "text": [
      "{'logisticregression__C': 1.0, 'logisticregression__l1_ratio': 0.0}\n",
      "best CV score: 0.9792167910541458\n",
      "test score: 0.9591682545246464\n"
     ]
    },
    {
     "name": "stderr",
     "output_type": "stream",
     "text": [
      "\r",
      " 70%|███████   | 7/10 [48:22<20:54, 418.08s/it]"
     ]
    },
    {
     "name": "stdout",
     "output_type": "stream",
     "text": [
      "{'logisticregression__C': 1.0, 'logisticregression__l1_ratio': 0.0}\n",
      "best CV score: 0.9792903724815281\n",
      "test score: 0.9595950267082924\n"
     ]
    },
    {
     "name": "stderr",
     "output_type": "stream",
     "text": [
      "\r",
      " 80%|████████  | 8/10 [55:22<13:57, 418.94s/it]"
     ]
    },
    {
     "name": "stdout",
     "output_type": "stream",
     "text": [
      "{'logisticregression__C': 1.0, 'logisticregression__l1_ratio': 0.0}\n",
      "best CV score: 0.9792650694843053\n",
      "test score: 0.9594818418492603\n"
     ]
    },
    {
     "name": "stderr",
     "output_type": "stream",
     "text": [
      "\r",
      " 90%|█████████ | 9/10 [1:02:44<07:06, 426.15s/it]"
     ]
    },
    {
     "name": "stdout",
     "output_type": "stream",
     "text": [
      "{'logisticregression__C': 100.0, 'logisticregression__l1_ratio': 0.0021544346900318843}\n",
      "best CV score: 0.9800145355964683\n",
      "test score: 0.958463252544377\n"
     ]
    },
    {
     "name": "stderr",
     "output_type": "stream",
     "text": [
      "100%|██████████| 10/10 [1:10:01<00:00, 420.19s/it]"
     ]
    },
    {
     "name": "stdout",
     "output_type": "stream",
     "text": [
      "{'logisticregression__C': 21.54434690031882, 'logisticregression__l1_ratio': 0.0}\n",
      "best CV score: 0.9794331256095796\n",
      "test score: 0.958488059330731\n"
     ]
    },
    {
     "name": "stderr",
     "output_type": "stream",
     "text": [
      "\n"
     ]
    }
   ],
   "source": [
    "eln = LogisticRegression(penalty='elasticnet', solver='saga', max_iter=10000000)\n",
    "param_grid = {'logisticregression__C': np.logspace(-4, 2, 10),\n",
    "             'logisticregression__l1_ratio': l1_ratio_list}\n",
    "# [0.05, 0.1, 0.2, 0.35]\n",
    "models_eln = []\n",
    "for i in tqdm(range(10)):\n",
    "    grid, test_score = ML_pipeline_GridSearchCV(train_X, train_y, test_X, test_y, \n",
    "                                                eln, param_grid, i, custom_cv, pr_auc_scorer)\n",
    "    print(grid.best_params_)\n",
    "    print('best CV score:', grid.best_score_)\n",
    "    print('test score:',test_score)\n",
    "    models_eln.append(grid)"
   ]
  },
  {
   "cell_type": "code",
   "execution_count": 24,
   "metadata": {},
   "outputs": [],
   "source": [
    "file = open('../results/cell_type/eln_' + str(cell_type) + '_models_10_finer.save', 'wb')\n",
    "pickle.dump(models_eln, file)\n",
    "file.close()"
   ]
  },
  {
   "cell_type": "markdown",
   "metadata": {},
   "source": [
    "### d) Microglia <a name=\"2.-celltypes\"></a><a name=\"6.-micro\"></a>"
   ]
  },
  {
   "cell_type": "code",
   "execution_count": 26,
   "metadata": {},
   "outputs": [
    {
     "name": "stdout",
     "output_type": "stream",
     "text": [
      "Finished data prepration\n"
     ]
    }
   ],
   "source": [
    "cell_type = 'Microglia'\n",
    "\n",
    "train_X, train_y, test_X, test_y, custom_cv = data_prep(input_test, input_train,\n",
    "                                                        cell_type, binarization=True)"
   ]
  },
  {
   "cell_type": "code",
   "execution_count": null,
   "metadata": {},
   "outputs": [
    {
     "name": "stderr",
     "output_type": "stream",
     "text": [
      "\r",
      "  0%|          | 0/10 [00:00<?, ?it/s]"
     ]
    }
   ],
   "source": [
    "eln = LogisticRegression(penalty='elasticnet', solver='saga', max_iter=10000000)\n",
    "param_grid = {'logisticregression__C': np.logspace(-4, 1, 10),\n",
    "             'logisticregression__l1_ratio': np.append(np.logspace(-3, 0, 5), 0)}\n",
    "models_eln = []\n",
    "for i in tqdm(range(10)):\n",
    "    grid, test_score = ML_pipeline_GridSearchCV(train_X, train_y, test_X, test_y, \n",
    "                                                eln, param_grid, i, custom_cv, pr_auc_scorer)\n",
    "    print(grid.best_params_)\n",
    "    print('best CV score:', grid.best_score_)\n",
    "    print('test score:',test_score)\n",
    "    models_eln.append(grid)"
   ]
  },
  {
   "cell_type": "code",
   "execution_count": null,
   "metadata": {},
   "outputs": [],
   "source": [
    "file = open('../results/cell_type/eln_' + str(cell_type) + '_models_10_finer.save', 'wb')\n",
    "pickle.dump(models_eln, file)\n",
    "file.close()"
   ]
  }
 ],
 "metadata": {
  "kernelspec": {
   "display_name": "cellpymc",
   "language": "python",
   "name": "cellpymc"
  },
  "language_info": {
   "codemirror_mode": {
    "name": "ipython",
    "version": 3
   },
   "file_extension": ".py",
   "mimetype": "text/x-python",
   "name": "python",
   "nbconvert_exporter": "python",
   "pygments_lexer": "ipython3",
   "version": "3.7.10"
  }
 },
 "nbformat": 4,
 "nbformat_minor": 4
}
