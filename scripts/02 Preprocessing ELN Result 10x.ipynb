{
 "cells": [
  {
   "cell_type": "markdown",
   "metadata": {},
   "source": [
    "# Final ELN models for different preprocessing methods"
   ]
  },
  {
   "cell_type": "markdown",
   "metadata": {},
   "source": [
    "## Outline\n",
    "\n",
    "The **MLAging - preprocessing** workflow consists of sections:\n",
    "\n",
    "`00 preprocessing.R` Data preprocessing and preparation in Seurat.\n",
    "\n",
    "`011 Preprocessing HEG ELN Tuning` ELN model tunning using highly expressed genes (HEGs) and hyperparameter selection using `GridSearchCV`.\n",
    "\n",
    "`012 Preprocessing HVG ELN Tuning` ELN model tunning using highly variable genes (HVGs) and hyperparameter selection using `GridSearchCV`.\n",
    " \n",
    "`02 Preprocessing ELN Result 10x` Run the best ELN model over 10 random seeds -- **this notebook**:\n",
    "1. [HEG ELN Final Model](#1.-HEG)\n",
    "    - [HEG-lognorm](#2.-heg_lognorm)\n",
    "    - [HEG-std](#3.-heg_std)\n",
    "    - [HEG-integration](#4.-heg_integrated)\n",
    "    - [HEG-binarization](#5.-heg_bin)\n",
    "    \n",
    "    \n",
    "2. [HVG ELN Final Model](#6.-HVG)\n",
    "    - [HVG-lognorm](#7.-hvg_lognorm)\n",
    "    - [HVG-std](#8.-hvg_std)\n",
    "    - [HVG-integration](#9-hvg_integrated)\n",
    "    - [HVG-binarization](#10.-hvg_bin)\n",
    "\n",
    "`03 Preprocessing ELN Result Viz` Result visulization."
   ]
  },
  {
   "cell_type": "code",
   "execution_count": 1,
   "metadata": {},
   "outputs": [],
   "source": [
    "import warnings\n",
    "warnings.filterwarnings('ignore')\n",
    "\n",
    "from src.preprocessing_eln import *\n",
    "import os\n",
    "import numpy as np\n",
    "from sklearn.metrics import make_scorer\n",
    "\n",
    "data_type = 'float32'"
   ]
  },
  {
   "cell_type": "code",
   "execution_count": 2,
   "metadata": {},
   "outputs": [],
   "source": [
    "pr_auc_scorer = make_scorer(pr_auc_score, greater_is_better=True,\n",
    "                            needs_proba=True)"
   ]
  },
  {
   "cell_type": "markdown",
   "metadata": {},
   "source": [
    "## 1. ELN models for the top2k highly expressed genes <a name=\"1.-HEG\"></a>"
   ]
  },
  {
   "cell_type": "markdown",
   "metadata": {},
   "source": [
    "### 1.1) HEG - log-normalized <a name=\"2.-heg_lognorm\"></a>"
   ]
  },
  {
   "cell_type": "code",
   "execution_count": 3,
   "metadata": {},
   "outputs": [],
   "source": [
    "input_train = '../data/train_heg2k_lognorm_intersect.csv'\n",
    "input_test = '../data/test_heg2k_lognorm_intersect.csv'"
   ]
  },
  {
   "cell_type": "code",
   "execution_count": 4,
   "metadata": {
    "scrolled": true
   },
   "outputs": [],
   "source": [
    "train_X, train_y, test_X, test_y = train_test_split(input_train, input_test, binarization=False)"
   ]
  },
  {
   "cell_type": "code",
   "execution_count": 5,
   "metadata": {},
   "outputs": [
    {
     "name": "stderr",
     "output_type": "stream",
     "text": [
      "100%|██████████| 10/10 [46:14<00:00, 277.47s/it]\n"
     ]
    },
    {
     "name": "stdout",
     "output_type": "stream",
     "text": [
      "auprc: 0.6712991948323103 ± 1.2969912151835466e-06\n"
     ]
    }
   ],
   "source": [
    "runs_10(train_X, train_y, test_X, test_y, 0.01, 1, 'heg_lognorm')"
   ]
  },
  {
   "cell_type": "markdown",
   "metadata": {},
   "source": [
    "### 1.2) HEG - log-normalized + scaled<a name=\"3.-heg_std\"></a>"
   ]
  },
  {
   "cell_type": "code",
   "execution_count": 9,
   "metadata": {},
   "outputs": [],
   "source": [
    "input_train = '../data/train_heg2k_std_intersect.csv'\n",
    "input_test = '../data/test_heg2k_std_intersect.csv'"
   ]
  },
  {
   "cell_type": "code",
   "execution_count": 11,
   "metadata": {},
   "outputs": [],
   "source": [
    "train_X, train_y, test_X, test_y = train_test_split(input_train, input_test, binarization=False)"
   ]
  },
  {
   "cell_type": "code",
   "execution_count": 12,
   "metadata": {},
   "outputs": [
    {
     "name": "stderr",
     "output_type": "stream",
     "text": [
      "100%|██████████| 10/10 [01:05<00:00,  6.54s/it]\n"
     ]
    },
    {
     "name": "stdout",
     "output_type": "stream",
     "text": [
      "auprc: 0.6728152675629776 ± 2.61064408511419e-06\n"
     ]
    }
   ],
   "source": [
    "runs_10(train_X, train_y, test_X, test_y, 0.01, 1, 'heg_lognorm_std')"
   ]
  },
  {
   "cell_type": "markdown",
   "metadata": {},
   "source": [
    "### 1.3) HEG - log-normalized + scaled + integrated <a name=\"4.-heg_integrated\"></a>"
   ]
  },
  {
   "cell_type": "code",
   "execution_count": 13,
   "metadata": {},
   "outputs": [],
   "source": [
    "input_train = '../data/train_heg2k_std_integrated.csv'\n",
    "input_test = '../data/test_heg2k_std_integrated.csv'"
   ]
  },
  {
   "cell_type": "code",
   "execution_count": 14,
   "metadata": {},
   "outputs": [],
   "source": [
    "train_X, train_y, test_X, test_y = train_test_split(input_train, input_test, binarization=False)"
   ]
  },
  {
   "cell_type": "code",
   "execution_count": 15,
   "metadata": {},
   "outputs": [
    {
     "name": "stderr",
     "output_type": "stream",
     "text": [
      "100%|██████████| 10/10 [01:13<00:00,  7.34s/it]\n"
     ]
    },
    {
     "name": "stdout",
     "output_type": "stream",
     "text": [
      "auprc: 0.6888074655089317 ± 9.284846311665915e-07\n"
     ]
    }
   ],
   "source": [
    "runs_10(train_X, train_y, test_X, test_y, 0.01, 1, 'heg_lognorm_std_int')"
   ]
  },
  {
   "cell_type": "markdown",
   "metadata": {},
   "source": [
    "### 1.4) HEG - log-normalized + scaled + integrated + binarized <a name=\"5.-heg_bin\"></a>"
   ]
  },
  {
   "cell_type": "code",
   "execution_count": 17,
   "metadata": {},
   "outputs": [],
   "source": [
    "train_X, train_y, test_X, test_y = train_test_split(input_train, input_test, binarization=True)"
   ]
  },
  {
   "cell_type": "code",
   "execution_count": 18,
   "metadata": {
    "scrolled": true
   },
   "outputs": [
    {
     "name": "stderr",
     "output_type": "stream",
     "text": [
      "100%|██████████| 10/10 [01:48<00:00, 10.83s/it]\n"
     ]
    },
    {
     "name": "stdout",
     "output_type": "stream",
     "text": [
      "auprc: 0.6079509873818921 ± 1.2191563448131428e-07\n"
     ]
    }
   ],
   "source": [
    "runs_10(train_X, train_y, test_X, test_y, 0.01, 1, 'heg_lognorm_std_int_bin')"
   ]
  },
  {
   "cell_type": "markdown",
   "metadata": {},
   "source": [
    "## 2. ELN model tuning for the top2k highly variable genes <a name=\"6.-HVG\"></a>"
   ]
  },
  {
   "cell_type": "markdown",
   "metadata": {},
   "source": [
    "### 2.1) HVG - log-normalized  <a name=\"7.-hvg_lognorm\"></a>"
   ]
  },
  {
   "cell_type": "code",
   "execution_count": 19,
   "metadata": {},
   "outputs": [],
   "source": [
    "input_train = '../data/train_hvg2k_lognorm_intersect.csv'\n",
    "input_test = '../data/test_hvg2k_lognorm_intersect.csv'"
   ]
  },
  {
   "cell_type": "code",
   "execution_count": 20,
   "metadata": {},
   "outputs": [],
   "source": [
    "train_X, train_y, test_X, test_y = train_test_split(input_train, input_test, binarization=False)"
   ]
  },
  {
   "cell_type": "code",
   "execution_count": 21,
   "metadata": {},
   "outputs": [
    {
     "name": "stderr",
     "output_type": "stream",
     "text": [
      "100%|██████████| 10/10 [25:18<00:00, 151.86s/it]\n"
     ]
    },
    {
     "name": "stdout",
     "output_type": "stream",
     "text": [
      "auprc: 0.7207472300849239 ± 1.9599708976034896e-07\n"
     ]
    }
   ],
   "source": [
    "runs_10(train_X, train_y, test_X, test_y, 100, 1, 'hvg_lognorm')"
   ]
  },
  {
   "cell_type": "markdown",
   "metadata": {},
   "source": [
    "### 2.2) HVG - log-normalized  + scaled <a name=\"8.-hvg_std\"></a>"
   ]
  },
  {
   "cell_type": "code",
   "execution_count": 22,
   "metadata": {},
   "outputs": [],
   "source": [
    "input_train = '../data/train_hvg2k_std_intersect.csv'\n",
    "input_test = '../data/test_hvg2k_std_intersect.csv'"
   ]
  },
  {
   "cell_type": "code",
   "execution_count": 23,
   "metadata": {},
   "outputs": [],
   "source": [
    "train_X, train_y, test_X, test_y = train_test_split(input_train, input_test, binarization=False)"
   ]
  },
  {
   "cell_type": "code",
   "execution_count": 25,
   "metadata": {
    "scrolled": true
   },
   "outputs": [
    {
     "name": "stderr",
     "output_type": "stream",
     "text": [
      "100%|██████████| 10/10 [05:22<00:00, 32.25s/it]\n"
     ]
    },
    {
     "name": "stdout",
     "output_type": "stream",
     "text": [
      "auprc: 0.7285212402127392 ± 2.329283217320429e-07\n"
     ]
    }
   ],
   "source": [
    "runs_10(train_X, train_y, test_X, test_y, 0.01, 0.0630957344480193, 'hvg_lognorm_std')"
   ]
  },
  {
   "cell_type": "markdown",
   "metadata": {},
   "source": [
    "### 2.3) HVG - log-normalized  + scaled + integrated <a name=\"9-hvg_integrated\"></a>"
   ]
  },
  {
   "cell_type": "code",
   "execution_count": 26,
   "metadata": {},
   "outputs": [],
   "source": [
    "input_train = '../data/train_hvg2k_std_integrated.csv'\n",
    "input_test = '../data/test_hvg2k_std_integrated.csv'"
   ]
  },
  {
   "cell_type": "code",
   "execution_count": 27,
   "metadata": {},
   "outputs": [],
   "source": [
    "train_X, train_y, test_X, test_y = train_test_split(input_train, input_test, binarization=False)"
   ]
  },
  {
   "cell_type": "code",
   "execution_count": 28,
   "metadata": {},
   "outputs": [
    {
     "name": "stderr",
     "output_type": "stream",
     "text": [
      "100%|██████████| 10/10 [02:28<00:00, 14.82s/it]\n"
     ]
    },
    {
     "name": "stdout",
     "output_type": "stream",
     "text": [
      "auprc: 0.6977453556133097 ± 1.0085031102552479e-06\n"
     ]
    }
   ],
   "source": [
    "runs_10(train_X, train_y, test_X, test_y, 0.01, 1, 'hvg_lognorm_std_int')"
   ]
  },
  {
   "cell_type": "markdown",
   "metadata": {},
   "source": [
    "### 2.4) HVG - log-normalized  + scaled + integrated + binarized<a name=\"10.-hvg_bin\"></a>"
   ]
  },
  {
   "cell_type": "code",
   "execution_count": 29,
   "metadata": {},
   "outputs": [],
   "source": [
    "train_X, train_y, test_X, test_y = train_test_split(input_train, input_test, binarization=True)"
   ]
  },
  {
   "cell_type": "code",
   "execution_count": 30,
   "metadata": {},
   "outputs": [
    {
     "name": "stderr",
     "output_type": "stream",
     "text": [
      "100%|██████████| 10/10 [23:16<00:00, 139.69s/it]\n"
     ]
    },
    {
     "name": "stdout",
     "output_type": "stream",
     "text": [
      "auprc: 0.9674282498451758 ± 1.5072149155038359e-06\n"
     ]
    }
   ],
   "source": [
    "runs_10(train_X, train_y, test_X, test_y, 0.027825594022071243, 0.015848931924611134, 'hvg_lognorm_std_int_bin')"
   ]
  }
 ],
 "metadata": {
  "kernelspec": {
   "display_name": "cellpymc",
   "language": "python",
   "name": "cellpymc"
  },
  "language_info": {
   "codemirror_mode": {
    "name": "ipython",
    "version": 3
   },
   "file_extension": ".py",
   "mimetype": "text/x-python",
   "name": "python",
   "nbconvert_exporter": "python",
   "pygments_lexer": "ipython3",
   "version": "3.7.10"
  }
 },
 "nbformat": 4,
 "nbformat_minor": 4
}
