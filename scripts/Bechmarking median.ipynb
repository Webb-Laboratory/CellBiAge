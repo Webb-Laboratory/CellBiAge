{
 "cells": [
  {
   "cell_type": "markdown",
   "metadata": {},
   "source": [
    "# Final ELN models for different preprocessing methods"
   ]
  },
  {
   "cell_type": "code",
   "execution_count": 7,
   "metadata": {},
   "outputs": [],
   "source": [
    "import warnings\n",
    "warnings.filterwarnings('ignore')\n",
    "\n",
    "from src.data_processing import *\n",
    "from src.grid_search import *\n",
    "import os\n",
    "import numpy as np\n",
    "from sklearn.metrics import make_scorer\n",
    "from sklearn.linear_model import LogisticRegression\n",
    "from tqdm import tqdm\n",
    "import pickle\n",
    "\n",
    "data_type = 'float32'"
   ]
  },
  {
   "cell_type": "code",
   "execution_count": 2,
   "metadata": {},
   "outputs": [],
   "source": [
    "pr_auc_scorer = make_scorer(pr_auc_score, greater_is_better=True,\n",
    "                            needs_proba=True)"
   ]
  },
  {
   "cell_type": "code",
   "execution_count": 3,
   "metadata": {},
   "outputs": [],
   "source": [
    "input_train = '../data/train_hvg2k_std_integrated.csv'\n",
    "input_test = '../data/test_hvg2k_std_integrated.csv'"
   ]
  },
  {
   "cell_type": "code",
   "execution_count": 11,
   "metadata": {},
   "outputs": [],
   "source": [
    "def make_binary(df):\n",
    "    '''\n",
    "    Takes a Pandas DataFrame with Count-Per-Million normalized read counts and returns a binarized version of it\n",
    "    :param df: Pandas DataFrame with a row for each Sample.\n",
    "    Columns contain Count-Per-Million(CPM) read counts, and possibly meta-data,i.e.\n",
    "    the Strain, Treatment, RNAi, Biological Age, GEO accession number\n",
    "    :param filter_genes: Filter columns names by filter_genes to compute the binarization only on the genes.\n",
    "    :return: A binarized copy of the original data without meta-information\n",
    "    '''\n",
    "    df_bin = df.copy()\n",
    "    df_bin['Median'] = df_bin.median(axis=1)  # calculate the median for each row and append a column\n",
    "    genes = list(df_bin.columns)\n",
    "    # divide each value, i.e. CPM, by the sample-median\n",
    "    df_bin = df_bin[genes].div(df_bin.Median, axis=0)\n",
    "    # set values smaller than the median to 0 and 1 otherwise\n",
    "    df_bin[df_bin.isna()] = 0\n",
    "    df_bin[df_bin <= 1] = 0\n",
    "    df_bin[df_bin > 1] = 1\n",
    "\n",
    "    return df_bin"
   ]
  },
  {
   "cell_type": "code",
   "execution_count": 14,
   "metadata": {},
   "outputs": [],
   "source": [
    "df_test = assign_target(input_test)\n",
    "test_X = df_test.iloc[:,:-2]\n",
    "test_y = df_test.target\n",
    "test_X, test_y = shuffle(test_X, test_y, random_state=42)\n",
    "\n",
    "df_train = assign_target(input_train)\n",
    "train = df_train.reset_index()\n",
    "custom_cv = customized_cv_index(train)\n",
    "    \n",
    "train_X = train.iloc[:,1:-2]\n",
    "train_y = train.target"
   ]
  },
  {
   "cell_type": "code",
   "execution_count": 19,
   "metadata": {},
   "outputs": [],
   "source": [
    "test_X = make_binary(test_X)"
   ]
  },
  {
   "cell_type": "code",
   "execution_count": 20,
   "metadata": {},
   "outputs": [],
   "source": [
    "train_X = make_binary(train_X)"
   ]
  },
  {
   "cell_type": "code",
   "execution_count": 23,
   "metadata": {},
   "outputs": [
    {
     "name": "stderr",
     "output_type": "stream",
     "text": [
      "100%|██████████| 10/10 [02:55<00:00, 17.56s/it]\n"
     ]
    },
    {
     "name": "stdout",
     "output_type": "stream",
     "text": [
      "auprc: 0.852115491715257 ± 1.6201067799292863e-06\n"
     ]
    }
   ],
   "source": [
    "# using our parameters\n",
    "runs_10(train_X, train_y, test_X, test_y, 0.027825594022071243, 0.015848931924611134, 'hvg_lognorm_std_int_median_bin')"
   ]
  },
  {
   "cell_type": "code",
   "execution_count": 24,
   "metadata": {},
   "outputs": [
    {
     "name": "stderr",
     "output_type": "stream",
     "text": [
      "100%|██████████| 10/10 [05:45<00:00, 34.52s/it]\n"
     ]
    },
    {
     "name": "stdout",
     "output_type": "stream",
     "text": [
      "auprc: 0.8361856672864296 ± 3.512808159570376e-06\n"
     ]
    }
   ],
   "source": [
    "# using the parameters they provided\n",
    "runs_10(train_X, train_y, test_X, test_y, 0.075, 0.3, 'hvg_lognorm_std_int_median_reuse_bin')"
   ]
  }
 ],
 "metadata": {
  "kernelspec": {
   "display_name": "cellpymc",
   "language": "python",
   "name": "cellpymc"
  },
  "language_info": {
   "codemirror_mode": {
    "name": "ipython",
    "version": 3
   },
   "file_extension": ".py",
   "mimetype": "text/x-python",
   "name": "python",
   "nbconvert_exporter": "python",
   "pygments_lexer": "ipython3",
   "version": "3.7.10"
  }
 },
 "nbformat": 4,
 "nbformat_minor": 4
}
