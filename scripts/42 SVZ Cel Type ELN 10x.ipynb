{
 "cells": [
  {
   "cell_type": "markdown",
   "metadata": {},
   "source": [
    "# The ElasticNet results with the best hyperparameters (cell type-specific models)"
   ]
  },
  {
   "cell_type": "markdown",
   "metadata": {},
   "source": [
    "## Outline\n",
    "\n",
    "The **MLAging - SVZ cell type** workflow consists of sections:\n",
    "\n",
    "`30 SVZpreprocessing.R` Data preprocessing and preparation in Seurat.\n",
    "\n",
    "`41 SVZ Cell Type ELN Tuning` ELN model tunning using *non-binarized* and *binarized* HVGs and hyperparameter selection using `GridSearchCV`.\n",
    "\n",
    "`42 SVZ Cell Type ELN 10x` Run the best ELN model for both binarized and nonbinarized HVGs over 10 random seeds -- **this notebook**:\n",
    "1. [Data Preparation](#1.-prep)\n",
    "2. [Cell Types](#2.-celltypes)\n",
    "    - [Neuron](#3.-neuron)\n",
    "    - [Oligodendrycte](#4.-Oligo)\n",
    "    - [Astrocyte](#5.-astro)\n",
    "    - [OPC](#6.-opc)\n",
    "    - [Microglia](#7.-micro)\n",
    "\n",
    "`43 SVZ Cell Type ELN Result Viz` Result visulization.\n",
    "\n",
    "`44 SVZ Cell Type Stat` Stat test on whether exercise rejuvenates cells."
   ]
  },
  {
   "cell_type": "code",
   "execution_count": 1,
   "metadata": {},
   "outputs": [],
   "source": [
    "import warnings\n",
    "warnings.filterwarnings('ignore')\n",
    "\n",
    "from src.data_processing import *\n",
    "from src.grid_search import *\n",
    "import os\n",
    "import numpy as np\n",
    "from sklearn.metrics import make_scorer\n",
    "from tqdm import tqdm\n",
    "import pickle\n",
    "from sklearn.linear_model import LogisticRegression\n",
    "from statistics import mean, stdev\n",
    "\n",
    "data_type = 'float32'"
   ]
  },
  {
   "cell_type": "markdown",
   "metadata": {},
   "source": [
    "## 1. Data Preparation <a name=\"1.-prep\"></a>\n",
    "### Load training, testing batch"
   ]
  },
  {
   "cell_type": "code",
   "execution_count": 2,
   "metadata": {
    "scrolled": true
   },
   "outputs": [],
   "source": [
    "input_train = '../data/svz_processed/svz_ctl_train_cell_sep3integ_batch1.csv'\n",
    "input_test = '../data/svz_processed/svz_ctl_test_cell_sep3integ_batch2.csv'"
   ]
  },
  {
   "cell_type": "code",
   "execution_count": 3,
   "metadata": {},
   "outputs": [],
   "source": [
    "pr_auc_scorer = make_scorer(pr_auc_score, greater_is_better=True,\n",
    "                            needs_proba=True)"
   ]
  },
  {
   "cell_type": "markdown",
   "metadata": {},
   "source": [
    "## 2. Cell-type specific models<a name=\"2.-celltypes\"></a>"
   ]
  },
  {
   "cell_type": "markdown",
   "metadata": {},
   "source": [
    "### a) Neuron <a name=\"2.-celltypes\"></a><a name=\"3.-neuron\"></a>"
   ]
  },
  {
   "cell_type": "code",
   "execution_count": 4,
   "metadata": {},
   "outputs": [
    {
     "name": "stdout",
     "output_type": "stream",
     "text": [
      "Finished data prepration for Microglia\n"
     ]
    }
   ],
   "source": [
    "cell_type = 'Microglia'\n",
    "\n",
    "train_X, train_y, test_X, test_y, custom_cv = data_prep(input_test, input_train,\n",
    "                                                        cell_type, binarization=True)"
   ]
  },
  {
   "cell_type": "code",
   "execution_count": 5,
   "metadata": {},
   "outputs": [
    {
     "name": "stderr",
     "output_type": "stream",
     "text": [
      "100%|██████████| 10/10 [19:59<00:00, 119.94s/it]"
     ]
    },
    {
     "name": "stdout",
     "output_type": "stream",
     "text": [
      "auprc: 0.871709368953998 ± 9.738769001168399e-05\n"
     ]
    },
    {
     "name": "stderr",
     "output_type": "stream",
     "text": [
      "\n"
     ]
    }
   ],
   "source": [
    "scores = []\n",
    "final_test = []\n",
    "final_models = []\n",
    "for i in tqdm(range(10)):\n",
    "    random_state = 42*i    \n",
    "    X_test, y_test = shuffle(test_X, test_y, random_state=random_state)\n",
    "    X_train, y_train = shuffle(train_X, train_y, random_state=random_state)\n",
    "    \n",
    "    eln = LogisticRegression(penalty='elasticnet', C=21.54434690031882, l1_ratio=0, \n",
    "                             solver='saga', max_iter=10000000)\n",
    "        \n",
    "    eln.fit(X_train, y_train)\n",
    "    \n",
    "    y_pred = eln.predict_proba(X_test)[:, 1]\n",
    "    auprc = pr_auc_score(y_test, y_pred)\n",
    "    \n",
    "    final_test.append((X_test, y_test))\n",
    "    final_models.append(eln)\n",
    "    scores.append(auprc)   \n",
    "print(f'auprc: {mean(scores)} ± {stdev(scores)}' )"
   ]
  },
  {
   "cell_type": "code",
   "execution_count": 7,
   "metadata": {},
   "outputs": [],
   "source": [
    "file = open('../results/svz_int2/' + str(cell_type) + '_eln_model_test_scores.save', 'wb')\n",
    "pickle.dump(scores, file)\n",
    "file.close()\n",
    "\n",
    "file = open('../results/svz_int2/' + str(cell_type) + '_eln_model_test_sets.save', 'wb')\n",
    "pickle.dump(final_test, file)\n",
    "file.close()\n",
    "\n",
    "file = open('../results/svz_int2/' + str(cell_type) + '_eln_model_test_models.save', 'wb')\n",
    "pickle.dump(final_models, file)\n",
    "file.close()"
   ]
  },
  {
   "cell_type": "markdown",
   "metadata": {},
   "source": [
    "### b) Oligodendrycte <a name=\"2.-celltypes\"></a><a name=\"4.-Oligo\"></a> "
   ]
  },
  {
   "cell_type": "code",
   "execution_count": 8,
   "metadata": {},
   "outputs": [
    {
     "name": "stdout",
     "output_type": "stream",
     "text": [
      "Finished data prepration for Astrocyte_qNSC\n"
     ]
    }
   ],
   "source": [
    "cell_type = 'Astrocyte_qNSC'\n",
    "\n",
    "train_X, train_y, test_X, test_y, custom_cv = data_prep(input_test, input_train,\n",
    "                                                        cell_type, binarization=True)"
   ]
  },
  {
   "cell_type": "code",
   "execution_count": 9,
   "metadata": {
    "scrolled": false
   },
   "outputs": [
    {
     "name": "stderr",
     "output_type": "stream",
     "text": [
      "100%|██████████| 10/10 [02:06<00:00, 12.65s/it]"
     ]
    },
    {
     "name": "stdout",
     "output_type": "stream",
     "text": [
      "auprc: 0.955511237032972 ± 3.5772894173143e-05\n"
     ]
    },
    {
     "name": "stderr",
     "output_type": "stream",
     "text": [
      "\n"
     ]
    }
   ],
   "source": [
    "scores = []\n",
    "final_test = []\n",
    "final_models = []\n",
    "for i in tqdm(range(10)):\n",
    "    random_state = 42*i    \n",
    "    X_test, y_test = shuffle(test_X, test_y, random_state=random_state)\n",
    "    X_train, y_train = shuffle(train_X, train_y, random_state=random_state)\n",
    "    \n",
    "    eln = LogisticRegression(penalty='elasticnet', C=0.21544346900318823, l1_ratio=0, \n",
    "                             solver='saga', max_iter=10000000)\n",
    "        \n",
    "    eln.fit(X_train, y_train)\n",
    "    \n",
    "    y_pred = eln.predict_proba(X_test)[:, 1]\n",
    "    auprc = pr_auc_score(y_test, y_pred)\n",
    "    \n",
    "    final_test.append((X_test, y_test))\n",
    "    final_models.append(eln)\n",
    "    scores.append(auprc)   \n",
    "print(f'auprc: {mean(scores)} ± {stdev(scores)}' )"
   ]
  },
  {
   "cell_type": "code",
   "execution_count": 10,
   "metadata": {},
   "outputs": [],
   "source": [
    "file = open('../results/svz_int2/' + str(cell_type) + '_eln_model_test_scores.save', 'wb')\n",
    "pickle.dump(scores, file)\n",
    "file.close()\n",
    "\n",
    "file = open('../results/svz_int2/' + str(cell_type) + '_eln_model_test_sets.save', 'wb')\n",
    "pickle.dump(final_test, file)\n",
    "file.close()\n",
    "\n",
    "file = open('../results/svz_int2/' + str(cell_type) + '_eln_model_test_models.save', 'wb')\n",
    "pickle.dump(final_models, file)\n",
    "file.close()"
   ]
  },
  {
   "cell_type": "markdown",
   "metadata": {},
   "source": [
    "### c) Atrocyte <a name=\"2.-celltypes\"></a><a name=\"5.-astro\"></a>"
   ]
  },
  {
   "cell_type": "code",
   "execution_count": 11,
   "metadata": {},
   "outputs": [
    {
     "name": "stdout",
     "output_type": "stream",
     "text": [
      "Finished data prepration for Endothelial\n"
     ]
    }
   ],
   "source": [
    "cell_type = 'Endothelial'\n",
    "\n",
    "train_X, train_y, test_X, test_y, custom_cv = data_prep(input_test, input_train,\n",
    "                                                        cell_type, binarization=True)"
   ]
  },
  {
   "cell_type": "code",
   "execution_count": 12,
   "metadata": {
    "scrolled": true
   },
   "outputs": [
    {
     "name": "stderr",
     "output_type": "stream",
     "text": [
      "100%|██████████| 10/10 [14:41<00:00, 88.12s/it]"
     ]
    },
    {
     "name": "stdout",
     "output_type": "stream",
     "text": [
      "auprc: 0.8321483239878452 ± 4.713190266420696e-05\n"
     ]
    },
    {
     "name": "stderr",
     "output_type": "stream",
     "text": [
      "\n"
     ]
    }
   ],
   "source": [
    "scores = []\n",
    "final_test = []\n",
    "final_models = []\n",
    "for i in tqdm(range(10)):\n",
    "    random_state = 42*i    \n",
    "    X_test, y_test = shuffle(test_X, test_y, random_state=random_state)\n",
    "    X_train, y_train = shuffle(train_X, train_y, random_state=random_state)\n",
    "    \n",
    "    eln = LogisticRegression(penalty='elasticnet', C=1, l1_ratio=1, \n",
    "                             solver='saga', max_iter=10000000)\n",
    "        \n",
    "    eln.fit(X_train, y_train)\n",
    "    \n",
    "    y_pred = eln.predict_proba(X_test)[:, 1]\n",
    "    auprc = pr_auc_score(y_test, y_pred)\n",
    "    \n",
    "    final_test.append((X_test, y_test))\n",
    "    final_models.append(eln)\n",
    "    scores.append(auprc)   \n",
    "print(f'auprc: {mean(scores)} ± {stdev(scores)}' )"
   ]
  },
  {
   "cell_type": "code",
   "execution_count": 13,
   "metadata": {},
   "outputs": [],
   "source": [
    "file = open('../results/svz_int2/' + str(cell_type) + '_eln_model_test_scores.save', 'wb')\n",
    "pickle.dump(scores, file)\n",
    "file.close()\n",
    "\n",
    "file = open('../results/svz_int2/' + str(cell_type) + '_eln_model_test_sets.save', 'wb')\n",
    "pickle.dump(final_test, file)\n",
    "file.close()\n",
    "\n",
    "file = open('../results/svz_int2/' + str(cell_type) + '_eln_model_test_models.save', 'wb')\n",
    "pickle.dump(final_models, file)\n",
    "file.close()"
   ]
  },
  {
   "cell_type": "markdown",
   "metadata": {},
   "source": [
    "### d) OPC <a name=\"2.-celltypes\"></a><a name=\"6.-opc\"></a>"
   ]
  },
  {
   "cell_type": "code",
   "execution_count": 14,
   "metadata": {},
   "outputs": [
    {
     "name": "stdout",
     "output_type": "stream",
     "text": [
      "Finished data prepration for Neuroblast\n"
     ]
    }
   ],
   "source": [
    "cell_type = 'Neuroblast'\n",
    "\n",
    "train_X, train_y, test_X, test_y, custom_cv = data_prep(input_test, input_train,\n",
    "                                                        cell_type, binarization=True)"
   ]
  },
  {
   "cell_type": "code",
   "execution_count": 15,
   "metadata": {},
   "outputs": [
    {
     "name": "stderr",
     "output_type": "stream",
     "text": [
      "100%|██████████| 10/10 [04:08<00:00, 24.85s/it]"
     ]
    },
    {
     "name": "stdout",
     "output_type": "stream",
     "text": [
      "auprc: 0.9144869901682415 ± 6.65160836601671e-05\n"
     ]
    },
    {
     "name": "stderr",
     "output_type": "stream",
     "text": [
      "\n"
     ]
    }
   ],
   "source": [
    "scores = []\n",
    "final_test = []\n",
    "final_models = []\n",
    "for i in tqdm(range(10)):\n",
    "    random_state = 42*i    \n",
    "    X_test, y_test = shuffle(test_X, test_y, random_state=random_state)\n",
    "    X_train, y_train = shuffle(train_X, train_y, random_state=random_state)\n",
    "    \n",
    "    eln = LogisticRegression(penalty='elasticnet', C=0.01, l1_ratio=0, \n",
    "                             solver='saga', max_iter=10000000)\n",
    "        \n",
    "    eln.fit(X_train, y_train)\n",
    "    \n",
    "    y_pred = eln.predict_proba(X_test)[:, 1]\n",
    "    auprc = pr_auc_score(y_test, y_pred)\n",
    "    \n",
    "    final_test.append((X_test, y_test))\n",
    "    final_models.append(eln)\n",
    "    scores.append(auprc)   \n",
    "print(f'auprc: {mean(scores)} ± {stdev(scores)}' )"
   ]
  },
  {
   "cell_type": "code",
   "execution_count": 16,
   "metadata": {},
   "outputs": [],
   "source": [
    "file = open('../results/svz_int2/' + str(cell_type) + '_eln_model_test_scores.save', 'wb')\n",
    "pickle.dump(scores, file)\n",
    "file.close()\n",
    "\n",
    "file = open('../results/svz_int2/' + str(cell_type) + '_eln_model_test_sets.save', 'wb')\n",
    "pickle.dump(final_test, file)\n",
    "file.close()\n",
    "\n",
    "file = open('../results/svz_int2/' + str(cell_type) + '_eln_model_test_models.save', 'wb')\n",
    "pickle.dump(final_models, file)\n",
    "file.close()"
   ]
  },
  {
   "cell_type": "markdown",
   "metadata": {},
   "source": [
    "### e) Microglia <a name=\"2.-celltypes\"></a><a name=\"7.-micro\"></a>"
   ]
  },
  {
   "cell_type": "code",
   "execution_count": 17,
   "metadata": {},
   "outputs": [
    {
     "name": "stdout",
     "output_type": "stream",
     "text": [
      "Finished data prepration for Oligodendro\n"
     ]
    }
   ],
   "source": [
    "cell_type = 'Oligodendro'\n",
    "\n",
    "train_X, train_y, test_X, test_y, custom_cv = data_prep(input_test, input_train,\n",
    "                                                        cell_type, binarization=True)"
   ]
  },
  {
   "cell_type": "code",
   "execution_count": 18,
   "metadata": {},
   "outputs": [
    {
     "name": "stderr",
     "output_type": "stream",
     "text": [
      "100%|██████████| 10/10 [00:55<00:00,  5.55s/it]"
     ]
    },
    {
     "name": "stdout",
     "output_type": "stream",
     "text": [
      "auprc: 0.9166542653542249 ± 7.4221804130394275e-06\n"
     ]
    },
    {
     "name": "stderr",
     "output_type": "stream",
     "text": [
      "\n"
     ]
    }
   ],
   "source": [
    "scores = []\n",
    "final_test = []\n",
    "final_models = []\n",
    "for i in tqdm(range(10)):\n",
    "    random_state = 42*i    \n",
    "    X_test, y_test = shuffle(test_X, test_y, random_state=random_state)\n",
    "    X_train, y_train = shuffle(train_X, train_y, random_state=random_state)\n",
    "    \n",
    "    eln = LogisticRegression(penalty='elasticnet', C=0.046415888336127774, l1_ratio=0, \n",
    "                             solver='saga', max_iter=10000000)\n",
    "        \n",
    "    eln.fit(X_train, y_train)\n",
    "    \n",
    "    y_pred = eln.predict_proba(X_test)[:, 1]\n",
    "    auprc = pr_auc_score(y_test, y_pred)\n",
    "    \n",
    "    final_test.append((X_test, y_test))\n",
    "    final_models.append(eln)\n",
    "    scores.append(auprc)   \n",
    "print(f'auprc: {mean(scores)} ± {stdev(scores)}' )"
   ]
  },
  {
   "cell_type": "code",
   "execution_count": 19,
   "metadata": {},
   "outputs": [],
   "source": [
    "file = open('../results/svz_int2/' + str(cell_type) + '_eln_model_test_scores.save', 'wb')\n",
    "pickle.dump(scores, file)\n",
    "file.close()\n",
    "\n",
    "file = open('../results/svz_int2/' + str(cell_type) + '_eln_model_test_sets.save', 'wb')\n",
    "pickle.dump(final_test, file)\n",
    "file.close()\n",
    "\n",
    "file = open('../results/svz_int2/' + str(cell_type) + '_eln_model_test_models.save', 'wb')\n",
    "pickle.dump(final_models, file)\n",
    "file.close()"
   ]
  },
  {
   "cell_type": "code",
   "execution_count": 20,
   "metadata": {},
   "outputs": [
    {
     "name": "stdout",
     "output_type": "stream",
     "text": [
      "Finished data prepration for aNSC_NPC\n"
     ]
    }
   ],
   "source": [
    "cell_type = 'aNSC_NPC'\n",
    "\n",
    "train_X, train_y, test_X, test_y, custom_cv = data_prep(input_test, input_train,\n",
    "                                                        cell_type, binarization=True)"
   ]
  },
  {
   "cell_type": "code",
   "execution_count": 21,
   "metadata": {},
   "outputs": [
    {
     "name": "stderr",
     "output_type": "stream",
     "text": [
      "100%|██████████| 10/10 [02:39<00:00, 15.99s/it]"
     ]
    },
    {
     "name": "stdout",
     "output_type": "stream",
     "text": [
      "auprc: 0.8519057704095009 ± 6.666566946159971e-05\n"
     ]
    },
    {
     "name": "stderr",
     "output_type": "stream",
     "text": [
      "\n"
     ]
    }
   ],
   "source": [
    "scores = []\n",
    "final_test = []\n",
    "final_models = []\n",
    "for i in tqdm(range(10)):\n",
    "    random_state = 42*i    \n",
    "    X_test, y_test = shuffle(test_X, test_y, random_state=random_state)\n",
    "    X_train, y_train = shuffle(train_X, train_y, random_state=random_state)\n",
    "    \n",
    "    eln = LogisticRegression(penalty='elasticnet', C=0.046415888336127774, l1_ratio=0, \n",
    "                             solver='saga', max_iter=10000000)\n",
    "        \n",
    "    eln.fit(X_train, y_train)\n",
    "    \n",
    "    y_pred = eln.predict_proba(X_test)[:, 1]\n",
    "    auprc = pr_auc_score(y_test, y_pred)\n",
    "    \n",
    "    final_test.append((X_test, y_test))\n",
    "    final_models.append(eln)\n",
    "    scores.append(auprc)   \n",
    "print(f'auprc: {mean(scores)} ± {stdev(scores)}' )"
   ]
  },
  {
   "cell_type": "code",
   "execution_count": 22,
   "metadata": {},
   "outputs": [],
   "source": [
    "file = open('../results/svz_int2/' + str(cell_type) + '_eln_model_test_scores.save', 'wb')\n",
    "pickle.dump(scores, file)\n",
    "file.close()\n",
    "\n",
    "file = open('../results/svz_int2/' + str(cell_type) + '_eln_model_test_sets.save', 'wb')\n",
    "pickle.dump(final_test, file)\n",
    "file.close()\n",
    "\n",
    "file = open('../results/svz_int2/' + str(cell_type) + '_eln_model_test_models.save', 'wb')\n",
    "pickle.dump(final_models, file)\n",
    "file.close()"
   ]
  },
  {
   "cell_type": "code",
   "execution_count": 23,
   "metadata": {},
   "outputs": [
    {
     "name": "stdout",
     "output_type": "stream",
     "text": [
      "Finished data prepration for Mural\n"
     ]
    }
   ],
   "source": [
    "cell_type = 'Mural'\n",
    "\n",
    "train_X, train_y, test_X, test_y, custom_cv = data_prep(input_test, input_train,\n",
    "                                                        cell_type, binarization=True)"
   ]
  },
  {
   "cell_type": "code",
   "execution_count": 24,
   "metadata": {},
   "outputs": [
    {
     "name": "stderr",
     "output_type": "stream",
     "text": [
      "100%|██████████| 10/10 [01:55<00:00, 11.60s/it]"
     ]
    },
    {
     "name": "stdout",
     "output_type": "stream",
     "text": [
      "auprc: 0.9639316251794376 ± 3.753241551391016e-06\n"
     ]
    },
    {
     "name": "stderr",
     "output_type": "stream",
     "text": [
      "\n"
     ]
    }
   ],
   "source": [
    "scores = []\n",
    "final_test = []\n",
    "final_models = []\n",
    "for i in tqdm(range(10)):\n",
    "    random_state = 42*i    \n",
    "    X_test, y_test = shuffle(test_X, test_y, random_state=random_state)\n",
    "    X_train, y_train = shuffle(train_X, train_y, random_state=random_state)\n",
    "    \n",
    "    eln = LogisticRegression(penalty='elasticnet', C=0.046415888336127774, l1_ratio=0, \n",
    "                             solver='saga', max_iter=10000000)\n",
    "        \n",
    "    eln.fit(X_train, y_train)\n",
    "    \n",
    "    y_pred = eln.predict_proba(X_test)[:, 1]\n",
    "    auprc = pr_auc_score(y_test, y_pred)\n",
    "    \n",
    "    final_test.append((X_test, y_test))\n",
    "    final_models.append(eln)\n",
    "    scores.append(auprc)   \n",
    "print(f'auprc: {mean(scores)} ± {stdev(scores)}' )"
   ]
  },
  {
   "cell_type": "code",
   "execution_count": 25,
   "metadata": {},
   "outputs": [],
   "source": [
    "file = open('../results/svz_int2/' + str(cell_type) + '_eln_model_test_scores.save', 'wb')\n",
    "pickle.dump(scores, file)\n",
    "file.close()\n",
    "\n",
    "file = open('../results/svz_int2/' + str(cell_type) + '_eln_model_test_sets.save', 'wb')\n",
    "pickle.dump(final_test, file)\n",
    "file.close()\n",
    "\n",
    "file = open('../results/svz_int2/' + str(cell_type) + '_eln_model_test_models.save', 'wb')\n",
    "pickle.dump(final_models, file)\n",
    "file.close()"
   ]
  }
 ],
 "metadata": {
  "kernelspec": {
   "display_name": "cellpymc",
   "language": "python",
   "name": "cellpymc"
  },
  "language_info": {
   "codemirror_mode": {
    "name": "ipython",
    "version": 3
   },
   "file_extension": ".py",
   "mimetype": "text/x-python",
   "name": "python",
   "nbconvert_exporter": "python",
   "pygments_lexer": "ipython3",
   "version": "3.7.10"
  }
 },
 "nbformat": 4,
 "nbformat_minor": 4
}
