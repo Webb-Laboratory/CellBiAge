{
 "cells": [
  {
   "cell_type": "markdown",
   "metadata": {},
   "source": [
    "# Final ELN model for switched training and test sets"
   ]
  },
  {
   "cell_type": "markdown",
   "metadata": {},
   "source": [
    "## Outline\n",
    "\n",
    "The **MLAging - all-cell** workflow consists of sections:\n",
    "\n",
    "`00 preprocessing.R` Data preprocessing and preparation in Seurat.\n",
    "\n",
    "`111 All-cell Model Tuning - Before Binarization` ML model tunning using *non-binarized* HVGs and hyperparameter selection using `GridSearchCV`.\n",
    "\n",
    "`112 All-cell Model Tuning - After Binarization` ML model tunning using *binarized* HVGs.\n",
    "\n",
    "`121 All-cell Model 10x - Before Binarization` Run the best models for non-binarized* HVGs over 10 random seeds.\n",
    "\n",
    "`122 All-cell Model 10x - After Binarization` Run the best models for *binarized* HVGs over 10 random seeds.\n",
    " \n",
    "`123 All-cell Model 10x Swapped Train-Test` Run the best models for *binarized* HVGs over 10 random seeds. But switched the training and test sets to make sure that the sequencing throughput did not affect model performance -- **this notebook**:\n",
    "\n",
    "- [1. ELN before binarization](#1.-before)\n",
    "- [2. ELN after binarization](#2.-after)\n",
    "\n",
    "`13 All-cell Model Result Viz` Result visulization.\n",
    "\n",
    "`14 All-cell ELN Interpretation` Result interpretation. "
   ]
  },
  {
   "cell_type": "code",
   "execution_count": 1,
   "metadata": {},
   "outputs": [],
   "source": [
    "import warnings\n",
    "warnings.filterwarnings('ignore')\n",
    "\n",
    "from src.preprocessing_eln import *\n",
    "from src.data_processing import *\n",
    "from src.grid_search import *\n",
    "import os\n",
    "import numpy as np\n",
    "from sklearn.metrics import make_scorer\n",
    "from sklearn.linear_model import LogisticRegression\n",
    "import tqdm\n",
    "from tqdm import tqdm\n",
    "from statistics import mean, stdev\n",
    "\n",
    "data_type = 'float32'"
   ]
  },
  {
   "cell_type": "code",
   "execution_count": 2,
   "metadata": {},
   "outputs": [],
   "source": [
    "pr_auc_scorer = make_scorer(pr_auc_score, greater_is_better=True,\n",
    "                            needs_proba=True)"
   ]
  },
  {
   "cell_type": "code",
   "execution_count": 3,
   "metadata": {},
   "outputs": [
    {
     "name": "stdout",
     "output_type": "stream",
     "text": [
      "Finished data prepration for All\n"
     ]
    }
   ],
   "source": [
    "input_test = '../data/test_final_group_info.csv'\n",
    "input_train = '../data/train_final_group_info.csv'\n",
    "\n",
    "cell_type = 'All'\n",
    "\n",
    "# swapped train and test sets\n",
    "test_X, test_y, train_X, train_y, custom_cv = data_prep(input_test, input_train,\n",
    "                                                        cell_type, binarization=False)"
   ]
  },
  {
   "cell_type": "markdown",
   "metadata": {},
   "source": [
    "### 1. ELN before <a name=\"1.-before\"></a>"
   ]
  },
  {
   "cell_type": "code",
   "execution_count": 4,
   "metadata": {},
   "outputs": [],
   "source": [
    "from sklearn.linear_model import LogisticRegression"
   ]
  },
  {
   "cell_type": "code",
   "execution_count": 5,
   "metadata": {},
   "outputs": [
    {
     "name": "stderr",
     "output_type": "stream",
     "text": [
      "100%|██████████| 10/10 [06:14<00:00, 37.41s/it]"
     ]
    },
    {
     "name": "stdout",
     "output_type": "stream",
     "text": [
      "auprc: 0.5659642836172514 ± 1.9810013813039692e-07\n"
     ]
    },
    {
     "name": "stderr",
     "output_type": "stream",
     "text": [
      "\n"
     ]
    }
   ],
   "source": [
    "scores = []\n",
    "final_test = []\n",
    "final_models = []\n",
    "for i in tqdm(range(10)):\n",
    "    random_state = 42*i    \n",
    "    X_test, y_test = shuffle(test_X, test_y, random_state=random_state)\n",
    "    X_train, y_train = shuffle(train_X, train_y, random_state=random_state)\n",
    "    \n",
    "    eln = LogisticRegression(penalty='elasticnet', C=0.046415888336127774, l1_ratio=0.01, \n",
    "                             solver='saga', max_iter=10000000)\n",
    "        \n",
    "    eln.fit(X_train, y_train)\n",
    "    \n",
    "    y_pred = eln.predict_proba(X_test)[:, 1]\n",
    "    auprc = pr_auc_score(y_test, y_pred)\n",
    "    \n",
    "    final_models.append(eln)\n",
    "    scores.append(auprc)   \n",
    "print(f'auprc: {mean(scores)} ± {stdev(scores)}' )"
   ]
  },
  {
   "cell_type": "code",
   "execution_count": 6,
   "metadata": {},
   "outputs": [],
   "source": [
    "file = open('../results/results_swapped/eln_n_model_test_scores.save', 'wb')\n",
    "pickle.dump(scores, file)\n",
    "file.close()\n",
    "\n",
    "file = open('../results/results_swapped/eln_n_model_test_sets.save', 'wb')\n",
    "pickle.dump(final_test, file)\n",
    "file.close()\n",
    "\n",
    "file = open('../results/results_swapped/eln_n_model_test_models.save', 'wb')\n",
    "pickle.dump(final_models, file)\n",
    "file.close()"
   ]
  },
  {
   "cell_type": "markdown",
   "metadata": {},
   "source": [
    "### 2. ELN after <a name=\"2.-after\"></a>"
   ]
  },
  {
   "cell_type": "code",
   "execution_count": 7,
   "metadata": {},
   "outputs": [
    {
     "name": "stdout",
     "output_type": "stream",
     "text": [
      "Finished data prepration for All\n"
     ]
    }
   ],
   "source": [
    "test_X, test_y, train_X, train_y, custom_cv = data_prep(input_test, input_train,\n",
    "                                                        cell_type, binarization=True)"
   ]
  },
  {
   "cell_type": "code",
   "execution_count": 8,
   "metadata": {},
   "outputs": [
    {
     "name": "stderr",
     "output_type": "stream",
     "text": [
      "100%|██████████| 10/10 [16:43<00:00, 100.40s/it]"
     ]
    },
    {
     "name": "stdout",
     "output_type": "stream",
     "text": [
      "auprc: 0.9550785748878134 ± 3.679179010928998e-06\n"
     ]
    },
    {
     "name": "stderr",
     "output_type": "stream",
     "text": [
      "\n"
     ]
    }
   ],
   "source": [
    "scores = []\n",
    "final_test = []\n",
    "final_models = []\n",
    "for i in tqdm(range(10)):\n",
    "    random_state = 42*i    \n",
    "    X_test, y_test = shuffle(test_X, test_y, random_state=random_state)\n",
    "    X_train, y_train = shuffle(train_X, train_y, random_state=random_state)\n",
    "    \n",
    "    eln = LogisticRegression(penalty='elasticnet', C=0.046415888336127774, l1_ratio=0.01, \n",
    "                             solver='saga', max_iter=10000000)\n",
    "        \n",
    "    eln.fit(X_train, y_train)\n",
    "    \n",
    "    y_pred = eln.predict_proba(X_test)[:, 1]\n",
    "    auprc = pr_auc_score(y_test, y_pred)\n",
    "    \n",
    "    final_models.append(eln)\n",
    "    scores.append(auprc)   \n",
    "print(f'auprc: {mean(scores)} ± {stdev(scores)}' )"
   ]
  },
  {
   "cell_type": "code",
   "execution_count": 9,
   "metadata": {
    "scrolled": true
   },
   "outputs": [],
   "source": [
    "file = open('../results/results_swapped/eln_model_test_scores.save', 'wb')\n",
    "pickle.dump(scores, file)\n",
    "file.close()\n",
    "\n",
    "file = open('../results/results_swapped/eln_model_test_sets.save', 'wb')\n",
    "pickle.dump(final_test, file)\n",
    "file.close()\n",
    "\n",
    "file = open('../results/results_swapped/eln_model_test_models.save', 'wb')\n",
    "pickle.dump(final_models, file)\n",
    "file.close()"
   ]
  }
 ],
 "metadata": {
  "kernelspec": {
   "display_name": "cellpymc",
   "language": "python",
   "name": "cellpymc"
  },
  "language_info": {
   "codemirror_mode": {
    "name": "ipython",
    "version": 3
   },
   "file_extension": ".py",
   "mimetype": "text/x-python",
   "name": "python",
   "nbconvert_exporter": "python",
   "pygments_lexer": "ipython3",
   "version": "3.7.10"
  }
 },
 "nbformat": 4,
 "nbformat_minor": 4
}
