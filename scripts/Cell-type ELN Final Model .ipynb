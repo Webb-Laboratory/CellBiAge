{
 "cells": [
  {
   "cell_type": "markdown",
   "metadata": {},
   "source": [
    "# The ElasticNet results with the best hyperparameters (specific cell types)"
   ]
  },
  {
   "cell_type": "markdown",
   "metadata": {},
   "source": [
    "## Outline\n",
    "\n",
    "The **MLAging Cell-type** workflow consists of four sections:\n",
    "\n",
    "I. Data Preprocessing in Seurat ```preprocessing.R```\n",
    "\n",
    "II. ElasticNet tuning (hyperparameter selection for  with ```GridSearchCV```):\n",
    "\n",
    "III. Final Models Over 10 Random States -- **this notebook**:\n",
    "1. [Data Preparation](#1.-prep)\n",
    "2. [Cell Types](#2.-celltypes)\n",
    "    - [Neuron](#3.-neuron)\n",
    "    - [Oligodendrycte](#4.-Oligo)\n",
    "    - [Astrocyte](#5.-astro)\n",
    "    - [Microglia](#6.-micro)\n",
    "\n",
    "IV. Results and Intepretations"
   ]
  },
  {
   "cell_type": "code",
   "execution_count": 1,
   "metadata": {},
   "outputs": [],
   "source": [
    "import warnings\n",
    "warnings.filterwarnings('ignore')\n",
    "\n",
    "from src.data_processing import *\n",
    "from src.grid_search import *\n",
    "import os\n",
    "import numpy as np\n",
    "from sklearn.metrics import make_scorer\n",
    "from tqdm import tqdm\n",
    "import pickle\n",
    "from sklearn.linear_model import LogisticRegression\n",
    "from statistics import mean, stdev\n",
    "\n",
    "data_type = 'float32'"
   ]
  },
  {
   "cell_type": "markdown",
   "metadata": {},
   "source": [
    "## 1. Data Preparation <a name=\"1.-prep\"></a>\n",
    "### Load training, testing batch"
   ]
  },
  {
   "cell_type": "code",
   "execution_count": 2,
   "metadata": {
    "scrolled": true
   },
   "outputs": [],
   "source": [
    "input_test = '../data/test_final_group_info.csv'\n",
    "input_train = '../data/train_final_group_info.csv'"
   ]
  },
  {
   "cell_type": "markdown",
   "metadata": {},
   "source": [
    "## 2. Cell-type specific models<a name=\"2.-celltypes\"></a>"
   ]
  },
  {
   "cell_type": "markdown",
   "metadata": {},
   "source": [
    "### a) Neuron <a name=\"2.-celltypes\"></a><a name=\"3.-neuron\"></a>"
   ]
  },
  {
   "cell_type": "code",
   "execution_count": 3,
   "metadata": {},
   "outputs": [
    {
     "name": "stdout",
     "output_type": "stream",
     "text": [
      "Finished data prepration for Neuron\n"
     ]
    }
   ],
   "source": [
    "cell_type = 'Neuron'\n",
    "\n",
    "train_X, train_y, test_X, test_y, custom_cv = data_prep(input_test, input_train,\n",
    "                                                        cell_type, binarization=True)"
   ]
  },
  {
   "cell_type": "code",
   "execution_count": 4,
   "metadata": {},
   "outputs": [
    {
     "name": "stderr",
     "output_type": "stream",
     "text": [
      "100%|██████████| 10/10 [35:51<00:00, 215.10s/it]"
     ]
    },
    {
     "name": "stdout",
     "output_type": "stream",
     "text": [
      "auprc: 0.9667214532669696 ± 1.9092280532864465e-06\n"
     ]
    },
    {
     "name": "stderr",
     "output_type": "stream",
     "text": [
      "\n"
     ]
    }
   ],
   "source": [
    "scores = []\n",
    "final_test = []\n",
    "final_models = []\n",
    "for i in tqdm(range(10)):\n",
    "    random_state = 42*i    \n",
    "    X_test, y_test = shuffle(test_X, test_y, random_state=random_state)\n",
    "    X_train, y_train = shuffle(train_X, train_y, random_state=random_state)\n",
    "    \n",
    "    eln = LogisticRegression(penalty='elasticnet', C=0.21544346900318834, l1_ratio=0.05, \n",
    "                             solver='saga', max_iter=10000000)\n",
    "        \n",
    "    eln.fit(X_train, y_train)\n",
    "    \n",
    "    y_pred = eln.predict_proba(X_test)[:, 1]\n",
    "    auprc = pr_auc_score(y_test, y_pred)\n",
    "    \n",
    "    final_test.append((X_test, y_test))\n",
    "    final_models.append(eln)\n",
    "    scores.append(auprc)   \n",
    "print(f'auprc: {mean(scores)} ± {stdev(scores)}' )"
   ]
  },
  {
   "cell_type": "code",
   "execution_count": 5,
   "metadata": {},
   "outputs": [],
   "source": [
    "file = open('../results/cell_type_best/' + str(cell_type) + '_eln_model_test_scores.save', 'wb')\n",
    "pickle.dump(scores, file)\n",
    "file.close()\n",
    "\n",
    "file = open('../results/cell_type_best/' + str(cell_type) + '_eln_model_test_sets.save', 'wb')\n",
    "pickle.dump(final_test, file)\n",
    "file.close()\n",
    "\n",
    "file = open('../results/cell_type_best/' + str(cell_type) + '_eln_model_test_models.save', 'wb')\n",
    "pickle.dump(final_models, file)\n",
    "file.close()"
   ]
  },
  {
   "cell_type": "markdown",
   "metadata": {},
   "source": [
    "### b) Oligodendrycte <a name=\"2.-celltypes\"></a><a name=\"4.-Oligo\"></a> "
   ]
  },
  {
   "cell_type": "code",
   "execution_count": 6,
   "metadata": {},
   "outputs": [
    {
     "name": "stdout",
     "output_type": "stream",
     "text": [
      "Finished data prepration for Oligodendrocyte\n"
     ]
    }
   ],
   "source": [
    "cell_type = 'Oligodendrocyte'\n",
    "\n",
    "train_X, train_y, test_X, test_y, custom_cv = data_prep(input_test, input_train,\n",
    "                                                        cell_type, binarization=True)"
   ]
  },
  {
   "cell_type": "code",
   "execution_count": 7,
   "metadata": {
    "scrolled": false
   },
   "outputs": [
    {
     "name": "stderr",
     "output_type": "stream",
     "text": [
      "100%|██████████| 10/10 [02:20<00:00, 14.09s/it]"
     ]
    },
    {
     "name": "stdout",
     "output_type": "stream",
     "text": [
      "auprc: 0.9852303669579788 ± 0.00022924765090377315\n"
     ]
    },
    {
     "name": "stderr",
     "output_type": "stream",
     "text": [
      "\n"
     ]
    }
   ],
   "source": [
    "scores = []\n",
    "final_test = []\n",
    "final_models = []\n",
    "for i in tqdm(range(10)):\n",
    "    random_state = 42*i    \n",
    "    X_test, y_test = shuffle(test_X, test_y, random_state=random_state)\n",
    "    X_train, y_train = shuffle(train_X, train_y, random_state=random_state)\n",
    "    \n",
    "    eln = LogisticRegression(penalty='elasticnet', C=4.6415888336127775, l1_ratio=0.05, \n",
    "                             solver='saga', max_iter=10000000)\n",
    "        \n",
    "    eln.fit(X_train, y_train)\n",
    "    \n",
    "    y_pred = eln.predict_proba(X_test)[:, 1]\n",
    "    auprc = pr_auc_score(y_test, y_pred)\n",
    "    \n",
    "    final_test.append((X_test, y_test))\n",
    "    final_models.append(eln)\n",
    "    scores.append(auprc)   \n",
    "print(f'auprc: {mean(scores)} ± {stdev(scores)}' )"
   ]
  },
  {
   "cell_type": "code",
   "execution_count": 9,
   "metadata": {},
   "outputs": [],
   "source": [
    "file = open('../results/cell_type_best/' + str(cell_type) + '_eln_model_test_scores.save', 'wb')\n",
    "pickle.dump(scores, file)\n",
    "file.close()\n",
    "\n",
    "file = open('../results/cell_type_best/' + str(cell_type) + '_eln_model_test_sets.save', 'wb')\n",
    "pickle.dump(final_test, file)\n",
    "file.close()\n",
    "\n",
    "file = open('../results/cell_type_best/' + str(cell_type) + '_eln_model_test_models.save', 'wb')\n",
    "pickle.dump(final_models, file)\n",
    "file.close()"
   ]
  },
  {
   "cell_type": "markdown",
   "metadata": {},
   "source": [
    "### c) Atrocyte <a name=\"2.-celltypes\"></a><a name=\"5.-astro\"></a>"
   ]
  },
  {
   "cell_type": "code",
   "execution_count": 10,
   "metadata": {},
   "outputs": [
    {
     "name": "stdout",
     "output_type": "stream",
     "text": [
      "Finished data prepration for Astrocyte\n"
     ]
    }
   ],
   "source": [
    "cell_type = 'Astrocyte'\n",
    "\n",
    "train_X, train_y, test_X, test_y, custom_cv = data_prep(input_test, input_train,\n",
    "                                                        cell_type, binarization=True)"
   ]
  },
  {
   "cell_type": "code",
   "execution_count": 11,
   "metadata": {
    "scrolled": true
   },
   "outputs": [
    {
     "name": "stderr",
     "output_type": "stream",
     "text": [
      "100%|██████████| 10/10 [00:56<00:00,  5.67s/it]"
     ]
    },
    {
     "name": "stdout",
     "output_type": "stream",
     "text": [
      "auprc: 0.9594332552035916 ± 0.00012088829201947426\n"
     ]
    },
    {
     "name": "stderr",
     "output_type": "stream",
     "text": [
      "\n"
     ]
    }
   ],
   "source": [
    "scores = []\n",
    "final_test = []\n",
    "final_models = []\n",
    "for i in tqdm(range(10)):\n",
    "    random_state = 42*i    \n",
    "    X_test, y_test = shuffle(test_X, test_y, random_state=random_state)\n",
    "    X_train, y_train = shuffle(train_X, train_y, random_state=random_state)\n",
    "    \n",
    "    eln = LogisticRegression(penalty='elasticnet', C=1, l1_ratio=0, \n",
    "                             solver='saga', max_iter=10000000)\n",
    "        \n",
    "    eln.fit(X_train, y_train)\n",
    "    \n",
    "    y_pred = eln.predict_proba(X_test)[:, 1]\n",
    "    auprc = pr_auc_score(y_test, y_pred)\n",
    "    \n",
    "    final_test.append((X_test, y_test))\n",
    "    final_models.append(eln)\n",
    "    scores.append(auprc)   \n",
    "print(f'auprc: {mean(scores)} ± {stdev(scores)}' )"
   ]
  },
  {
   "cell_type": "code",
   "execution_count": 12,
   "metadata": {},
   "outputs": [],
   "source": [
    "file = open('../results/cell_type_best/' + str(cell_type) + '_eln_model_test_scores.save', 'wb')\n",
    "pickle.dump(scores, file)\n",
    "file.close()\n",
    "\n",
    "file = open('../results/cell_type_best/' + str(cell_type) + '_eln_model_test_sets.save', 'wb')\n",
    "pickle.dump(final_test, file)\n",
    "file.close()\n",
    "\n",
    "file = open('../results/cell_type_best/' + str(cell_type) + '_eln_model_test_models.save', 'wb')\n",
    "pickle.dump(final_models, file)\n",
    "file.close()"
   ]
  },
  {
   "cell_type": "markdown",
   "metadata": {},
   "source": [
    "### d) Microglia <a name=\"2.-celltypes\"></a><a name=\"6.-micro\"></a>"
   ]
  },
  {
   "cell_type": "code",
   "execution_count": 13,
   "metadata": {},
   "outputs": [
    {
     "name": "stdout",
     "output_type": "stream",
     "text": [
      "Finished data prepration for Microglia\n"
     ]
    }
   ],
   "source": [
    "cell_type = 'Microglia'\n",
    "\n",
    "train_X, train_y, test_X, test_y, custom_cv = data_prep(input_test, input_train,\n",
    "                                                        cell_type, binarization=True)"
   ]
  },
  {
   "cell_type": "code",
   "execution_count": 14,
   "metadata": {},
   "outputs": [
    {
     "name": "stderr",
     "output_type": "stream",
     "text": [
      "100%|██████████| 10/10 [00:13<00:00,  1.35s/it]"
     ]
    },
    {
     "name": "stdout",
     "output_type": "stream",
     "text": [
      "auprc: 0.9968936862401703 ± 2.709511039178658e-06\n"
     ]
    },
    {
     "name": "stderr",
     "output_type": "stream",
     "text": [
      "\n"
     ]
    }
   ],
   "source": [
    "scores = []\n",
    "final_test = []\n",
    "final_models = []\n",
    "for i in tqdm(range(10)):\n",
    "    random_state = 42*i    \n",
    "    X_test, y_test = shuffle(test_X, test_y, random_state=random_state)\n",
    "    X_train, y_train = shuffle(train_X, train_y, random_state=random_state)\n",
    "    \n",
    "    eln = LogisticRegression(penalty='elasticnet', C=0.004641588833612782, l1_ratio=0, \n",
    "                             solver='saga', max_iter=10000000)\n",
    "        \n",
    "    eln.fit(X_train, y_train)\n",
    "    \n",
    "    y_pred = eln.predict_proba(X_test)[:, 1]\n",
    "    auprc = pr_auc_score(y_test, y_pred)\n",
    "    \n",
    "    final_test.append((X_test, y_test))\n",
    "    final_models.append(eln)\n",
    "    scores.append(auprc)   \n",
    "print(f'auprc: {mean(scores)} ± {stdev(scores)}' )"
   ]
  },
  {
   "cell_type": "code",
   "execution_count": 15,
   "metadata": {},
   "outputs": [],
   "source": [
    "file = open('../results/cell_type_best/' + str(cell_type) + '_eln_model_test_scores.save', 'wb')\n",
    "pickle.dump(scores, file)\n",
    "file.close()\n",
    "\n",
    "file = open('../results/cell_type_best/' + str(cell_type) + '_eln_model_test_sets.save', 'wb')\n",
    "pickle.dump(final_test, file)\n",
    "file.close()\n",
    "\n",
    "file = open('../results/cell_type_best/' + str(cell_type) + '_eln_model_test_models.save', 'wb')\n",
    "pickle.dump(final_models, file)\n",
    "file.close()"
   ]
  }
 ],
 "metadata": {
  "kernelspec": {
   "display_name": "cellpymc",
   "language": "python",
   "name": "cellpymc"
  },
  "language_info": {
   "codemirror_mode": {
    "name": "ipython",
    "version": 3
   },
   "file_extension": ".py",
   "mimetype": "text/x-python",
   "name": "python",
   "nbconvert_exporter": "python",
   "pygments_lexer": "ipython3",
   "version": "3.7.10"
  }
 },
 "nbformat": 4,
 "nbformat_minor": 4
}
