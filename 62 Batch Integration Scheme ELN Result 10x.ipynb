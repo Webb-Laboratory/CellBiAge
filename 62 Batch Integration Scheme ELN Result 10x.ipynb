{
 "cells": [
  {
   "cell_type": "markdown",
   "metadata": {},
   "source": [
    "# Batch Integration Scheme ELN Result 10x"
   ]
  },
  {
   "cell_type": "markdown",
   "metadata": {},
   "source": [
    "## Outline\n",
    "\n",
    "The **MLAging - batch integration and misc ** workflow consists of sections:\n",
    "\n",
    "`60 preprocessing_batch.R` Data preprocessing and preparation in Seurat.\n",
    "\n",
    "`61 Batch Integration Scheme ELN Tuning` Scheme: batch effects within training or test sets. ELN model tunning using highly variable genes (HVGs) and hyperparameter selection using `GridSearchCV`.\n",
    "\n",
    "`62 Batch Integration Scheme ELN Result 10x` Run the best ELN model over 10 random seeds -- **this notebook**:\n",
    "\n",
    "`63 HVG and Cell Type` Clustering and heatmap showing that HVGs are cell type-specific.\n",
    "\n",
    "`64 AUROC Results` ELN 10x results shown in AUPRC metric.\n",
    "\n",
    "`65 age_genes.R` Aging database queries."
   ]
  },
  {
   "cell_type": "code",
   "execution_count": 1,
   "metadata": {},
   "outputs": [],
   "source": [
    "from src.data_processing import *\n",
    "from src.grid_search import *\n",
    "from src.packages import *"
   ]
  },
  {
   "cell_type": "code",
   "execution_count": 2,
   "metadata": {},
   "outputs": [],
   "source": [
    "def assign_target(input_df):\n",
    "    input_df = pd.read_csv(input_df, index_col=0)\n",
    "    input_df['animal'] = input_df.index.str[-1]\n",
    "    input_df['target'] = ((input_df['animal'] =='3')|(input_df['animal']=='4')).astype(int)\n",
    "    return input_df"
   ]
  },
  {
   "cell_type": "code",
   "execution_count": 3,
   "metadata": {},
   "outputs": [],
   "source": [
    "def train_test_split(input_train, input_test, binarization=False):  \n",
    "    \n",
    "    df_test = assign_target(input_test)\n",
    "    test_X = df_test.iloc[:,:-2]\n",
    "    test_y = df_test.target\n",
    "    test_X, test_y = shuffle(test_X, test_y, random_state=42)\n",
    "\n",
    "    df_train = assign_target(input_train)\n",
    "    train = df_train.reset_index()\n",
    "    custom_cv = customized_cv_index(train)\n",
    "    \n",
    "    train_X = train.iloc[:,1:-2]\n",
    "    train_y = train.target\n",
    "    \n",
    "    if binarization==True:\n",
    "        test_X = binarize_data(test_X)\n",
    "        train_X = binarize_data(train_X)\n",
    "    \n",
    "    return train_X, train_y, test_X, test_y, custom_cv"
   ]
  },
  {
   "cell_type": "code",
   "execution_count": 4,
   "metadata": {},
   "outputs": [],
   "source": [
    "input_train = '../../MLAging/data/batch3_train_hvg2k_std_integrated.csv'\n",
    "input_test = '../../MLAging/data/batch3_test_hvg2k_std_integrated.csv'"
   ]
  },
  {
   "cell_type": "code",
   "execution_count": 5,
   "metadata": {},
   "outputs": [],
   "source": [
    "train_X, train_y, test_X, test_y, custom_cv = train_test_split(input_train, input_test, binarization=False)"
   ]
  },
  {
   "cell_type": "markdown",
   "metadata": {},
   "source": [
    "### 1. L1 <a name=\"1.-l1\"></a>"
   ]
  },
  {
   "cell_type": "code",
   "execution_count": 7,
   "metadata": {},
   "outputs": [],
   "source": [
    "from sklearn.linear_model import LogisticRegression"
   ]
  },
  {
   "cell_type": "code",
   "execution_count": 10,
   "metadata": {},
   "outputs": [
    {
     "name": "stderr",
     "output_type": "stream",
     "text": [
      "100%|██████████| 10/10 [04:28<00:00, 26.86s/it]"
     ]
    },
    {
     "name": "stdout",
     "output_type": "stream",
     "text": [
      "auprc: 0.7449221718789035 ± 2.003299713783117e-07\n"
     ]
    },
    {
     "name": "stderr",
     "output_type": "stream",
     "text": [
      "\n"
     ]
    }
   ],
   "source": [
    "scores = []\n",
    "final_test = []\n",
    "final_models = []\n",
    "for i in tqdm(range(10)):\n",
    "    random_state = 42*i    \n",
    "    X_test, y_test = shuffle(test_X, test_y, random_state=random_state)\n",
    "    X_train, y_train = shuffle(train_X, train_y, random_state=random_state)\n",
    "    \n",
    "    eln = LogisticRegression(penalty='elasticnet', C=0.01, l1_ratio=0.25118864315095796, \n",
    "                             solver='saga', max_iter=10000000)\n",
    "        \n",
    "    eln.fit(X_train, y_train)\n",
    "    \n",
    "    y_pred = eln.predict_proba(X_test)[:, 1]\n",
    "    auprc = pr_auc_score(y_test, y_pred)\n",
    "    \n",
    "    final_test.append((X_test, y_test))\n",
    "    final_models.append(eln)\n",
    "    scores.append(auprc)   \n",
    "print(f'auprc: {mean(scores)} ± {stdev(scores)}')"
   ]
  },
  {
   "cell_type": "code",
   "execution_count": 11,
   "metadata": {},
   "outputs": [],
   "source": [
    "file = open('../results/results_batch/before_eln_model_test_scores.save', 'wb')\n",
    "pickle.dump(scores, file)\n",
    "file.close()\n",
    "\n",
    "file = open('../results/results_batch/before_eln_model_test_models.save', 'wb')\n",
    "pickle.dump(final_models, file)\n",
    "file.close()\n",
    "\n",
    "file = open('../results/results_batch/before_eln_model_test_sets.save', 'wb')\n",
    "pickle.dump(final_test, file)\n",
    "file.close()"
   ]
  },
  {
   "cell_type": "code",
   "execution_count": 12,
   "metadata": {},
   "outputs": [],
   "source": [
    "train_X, train_y, test_X, test_y, custom_cv = train_test_split(input_train, input_test, binarization=True)"
   ]
  },
  {
   "cell_type": "code",
   "execution_count": 13,
   "metadata": {},
   "outputs": [
    {
     "name": "stderr",
     "output_type": "stream",
     "text": [
      "100%|██████████| 10/10 [2:03:09<00:00, 738.96s/it] "
     ]
    },
    {
     "name": "stdout",
     "output_type": "stream",
     "text": [
      "auprc: 0.9694553113194376 ± 1.2216231460646335e-05\n"
     ]
    },
    {
     "name": "stderr",
     "output_type": "stream",
     "text": [
      "\n"
     ]
    }
   ],
   "source": [
    "scores = []\n",
    "final_test = []\n",
    "final_models = []\n",
    "for i in tqdm(range(10)):\n",
    "    random_state = 42*i    \n",
    "    X_test, y_test = shuffle(test_X, test_y, random_state=random_state)\n",
    "    X_train, y_train = shuffle(train_X, train_y, random_state=random_state)\n",
    "    \n",
    "    eln = LogisticRegression(penalty='elasticnet', C=4.6415888336127775, l1_ratio=1.0, \n",
    "                             solver='saga', max_iter=10000000)\n",
    "        \n",
    "    eln.fit(X_train, y_train)\n",
    "    \n",
    "    y_pred = eln.predict_proba(X_test)[:, 1]\n",
    "    auprc = pr_auc_score(y_test, y_pred)\n",
    "    \n",
    "    final_test.append((X_test, y_test))\n",
    "    final_models.append(eln)\n",
    "    scores.append(auprc)   \n",
    "print(f'auprc: {mean(scores)} ± {stdev(scores)}')"
   ]
  },
  {
   "cell_type": "code",
   "execution_count": 14,
   "metadata": {},
   "outputs": [],
   "source": [
    "file = open('../results/results_batch/after_eln_model_test_scores.save', 'wb')\n",
    "pickle.dump(scores, file)\n",
    "file.close()\n",
    "\n",
    "file = open('../results/results_batch/after_eln_model_test_models.save', 'wb')\n",
    "pickle.dump(final_models, file)\n",
    "file.close()\n",
    "\n",
    "file = open('../results/results_batch/after_eln_model_test_sets.save', 'wb')\n",
    "pickle.dump(final_test, file)\n",
    "file.close()"
   ]
  }
 ],
 "metadata": {
  "kernelspec": {
   "display_name": "cellpymc",
   "language": "python",
   "name": "cellpymc"
  },
  "language_info": {
   "codemirror_mode": {
    "name": "ipython",
    "version": 3
   },
   "file_extension": ".py",
   "mimetype": "text/x-python",
   "name": "python",
   "nbconvert_exporter": "python",
   "pygments_lexer": "ipython3",
   "version": "3.7.10"
  }
 },
 "nbformat": 4,
 "nbformat_minor": 4
}
